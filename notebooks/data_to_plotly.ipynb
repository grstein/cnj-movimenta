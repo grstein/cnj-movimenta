{
 "cells": [
  {
   "cell_type": "code",
   "execution_count": 16,
   "metadata": {},
   "outputs": [],
   "source": [
    "import pandas as pd\n",
    "import numpy as np\n",
    "import matplotlib.pyplot as plt\n",
    "import seaborn as sns; sns.set(style='whitegrid')\n",
    "import plotly.graph_objects as go\n",
    "import plotly.express as px"
   ]
  },
  {
   "cell_type": "markdown",
   "metadata": {},
   "source": [
    "# Movimentações processuais"
   ]
  },
  {
   "cell_type": "code",
   "execution_count": 17,
   "metadata": {},
   "outputs": [
    {
     "data": {
      "text/html": [
       "<div>\n",
       "<style scoped>\n",
       "    .dataframe tbody tr th:only-of-type {\n",
       "        vertical-align: middle;\n",
       "    }\n",
       "\n",
       "    .dataframe tbody tr th {\n",
       "        vertical-align: top;\n",
       "    }\n",
       "\n",
       "    .dataframe thead th {\n",
       "        text-align: right;\n",
       "    }\n",
       "</style>\n",
       "<table border=\"1\" class=\"dataframe\">\n",
       "  <thead>\n",
       "    <tr style=\"text-align: right;\">\n",
       "      <th></th>\n",
       "      <th>descricao</th>\n",
       "      <th>cod_pai</th>\n",
       "      <th>cod_filhos</th>\n",
       "    </tr>\n",
       "    <tr>\n",
       "      <th>codigo</th>\n",
       "      <th></th>\n",
       "      <th></th>\n",
       "      <th></th>\n",
       "    </tr>\n",
       "  </thead>\n",
       "  <tbody>\n",
       "    <tr>\n",
       "      <th>1.0</th>\n",
       "      <td>Magistrado</td>\n",
       "      <td>NaN</td>\n",
       "      <td>3,193,11009,7,11,25,56,63,83,108,113,117,122,1...</td>\n",
       "    </tr>\n",
       "    <tr>\n",
       "      <th>3.0</th>\n",
       "      <td>Decisão</td>\n",
       "      <td>1.0</td>\n",
       "      <td>7,11,25,56,63,83,108,113,117,122,133,138,146,1...</td>\n",
       "    </tr>\n",
       "    <tr>\n",
       "      <th>7.0</th>\n",
       "      <td>Conversão</td>\n",
       "      <td>3.0</td>\n",
       "      <td>266,821,12140,12473</td>\n",
       "    </tr>\n",
       "    <tr>\n",
       "      <th>11.0</th>\n",
       "      <td>Declaração</td>\n",
       "      <td>3.0</td>\n",
       "      <td>269,941,1003,12150,12151</td>\n",
       "    </tr>\n",
       "    <tr>\n",
       "      <th>14.0</th>\n",
       "      <td>Serventuário</td>\n",
       "      <td>NaN</td>\n",
       "      <td>15,18,48,104,865,12522,16,979,980,478,479,480,...</td>\n",
       "    </tr>\n",
       "  </tbody>\n",
       "</table>\n",
       "</div>"
      ],
      "text/plain": [
       "           descricao  cod_pai  \\\n",
       "codigo                          \n",
       "1.0       Magistrado      NaN   \n",
       "3.0          Decisão      1.0   \n",
       "7.0        Conversão      3.0   \n",
       "11.0      Declaração      3.0   \n",
       "14.0    Serventuário      NaN   \n",
       "\n",
       "                                               cod_filhos  \n",
       "codigo                                                     \n",
       "1.0     3,193,11009,7,11,25,56,63,83,108,113,117,122,1...  \n",
       "3.0     7,11,25,56,63,83,108,113,117,122,133,138,146,1...  \n",
       "7.0                                   266,821,12140,12473  \n",
       "11.0                             269,941,1003,12150,12151  \n",
       "14.0    15,18,48,104,865,12522,16,979,980,478,479,480,...  "
      ]
     },
     "execution_count": 17,
     "metadata": {},
     "output_type": "execute_result"
    }
   ],
   "source": [
    "sgt_movimentos = pd.read_csv('app/data/sgt_movimentos.csv', sep=';')\n",
    "sgt_movimentos['codigo'] = sgt_movimentos['codigo'].astype(float)\n",
    "sgt_movimentos.set_index('codigo', inplace=True)\n",
    "sgt_movimentos.head()"
   ]
  },
  {
   "cell_type": "markdown",
   "metadata": {},
   "source": [
    "# Dados Justiça Eleitoral, Classe Execução Fiscal (número 1116)# "
   ]
  },
  {
   "cell_type": "markdown",
   "metadata": {},
   "source": [
    "## Dados básicos"
   ]
  },
  {
   "cell_type": "code",
   "execution_count": 18,
   "metadata": {},
   "outputs": [
    {
     "name": "stderr",
     "output_type": "stream",
     "text": [
      "/opt/conda/lib/python3.8/site-packages/IPython/core/interactiveshell.py:3145: DtypeWarning:\n",
      "\n",
      "Columns (0) have mixed types.Specify dtype option on import or set low_memory=False.\n",
      "\n"
     ]
    },
    {
     "name": "stdout",
     "output_type": "stream",
     "text": [
      "(46998, 17)\n"
     ]
    },
    {
     "data": {
      "text/html": [
       "<div>\n",
       "<style scoped>\n",
       "    .dataframe tbody tr th:only-of-type {\n",
       "        vertical-align: middle;\n",
       "    }\n",
       "\n",
       "    .dataframe tbody tr th {\n",
       "        vertical-align: top;\n",
       "    }\n",
       "\n",
       "    .dataframe thead th {\n",
       "        text-align: right;\n",
       "    }\n",
       "</style>\n",
       "<table border=\"1\" class=\"dataframe\">\n",
       "  <thead>\n",
       "    <tr style=\"text-align: right;\">\n",
       "      <th></th>\n",
       "      <th>millisInsercao</th>\n",
       "      <th>siglaTribunal</th>\n",
       "      <th>grau</th>\n",
       "      <th>dadosBasicos.valorCausa</th>\n",
       "      <th>dadosBasicos.procEl</th>\n",
       "      <th>dadosBasicos.competencia</th>\n",
       "      <th>dadosBasicos.codigoLocalidade</th>\n",
       "      <th>dadosBasicos.dscSistema</th>\n",
       "      <th>dadosBasicos.tamanhoProcesso</th>\n",
       "      <th>dadosBasicos.dataAjuizamento</th>\n",
       "      <th>dadosBasicos.totalAssuntos</th>\n",
       "      <th>dadosBasicos.nivelSigilo</th>\n",
       "      <th>dadosBasicos.classeProcessual</th>\n",
       "      <th>dadosBasicos.orgaoJulgador.nomeOrgao</th>\n",
       "      <th>dadosBasicos.orgaoJulgador.codigoMunicipioIBGE</th>\n",
       "      <th>dadosBasicos.orgaoJulgador.codigoOrgao</th>\n",
       "      <th>dadosBasicos.orgaoJulgador.instancia</th>\n",
       "    </tr>\n",
       "    <tr>\n",
       "      <th>dadosBasicos.numero</th>\n",
       "      <th></th>\n",
       "      <th></th>\n",
       "      <th></th>\n",
       "      <th></th>\n",
       "      <th></th>\n",
       "      <th></th>\n",
       "      <th></th>\n",
       "      <th></th>\n",
       "      <th></th>\n",
       "      <th></th>\n",
       "      <th></th>\n",
       "      <th></th>\n",
       "      <th></th>\n",
       "      <th></th>\n",
       "      <th></th>\n",
       "      <th></th>\n",
       "      <th></th>\n",
       "    </tr>\n",
       "  </thead>\n",
       "  <tbody>\n",
       "    <tr>\n",
       "      <th>50006423320208130620</th>\n",
       "      <td>1596842405951</td>\n",
       "      <td>TJMG</td>\n",
       "      <td>G1</td>\n",
       "      <td>2157.81</td>\n",
       "      <td>1.0</td>\n",
       "      <td>8.0</td>\n",
       "      <td>620</td>\n",
       "      <td>8.0</td>\n",
       "      <td>0.0</td>\n",
       "      <td>2020-03-18 06:06:29</td>\n",
       "      <td>1.0</td>\n",
       "      <td>0</td>\n",
       "      <td>1116</td>\n",
       "      <td>2ª Vara Cível, Criminal e da Infância e da Juv...</td>\n",
       "      <td>3162005</td>\n",
       "      <td>5843</td>\n",
       "      <td>ORIG</td>\n",
       "    </tr>\n",
       "    <tr>\n",
       "      <th>50006431820208130620</th>\n",
       "      <td>1596839821655</td>\n",
       "      <td>TJMG</td>\n",
       "      <td>G1</td>\n",
       "      <td>751.18</td>\n",
       "      <td>1.0</td>\n",
       "      <td>8.0</td>\n",
       "      <td>620</td>\n",
       "      <td>8.0</td>\n",
       "      <td>0.0</td>\n",
       "      <td>2020-03-18 06:11:46</td>\n",
       "      <td>1.0</td>\n",
       "      <td>0</td>\n",
       "      <td>1116</td>\n",
       "      <td>2ª Vara Cível, Criminal e da Infância e da Juv...</td>\n",
       "      <td>3162005</td>\n",
       "      <td>5843</td>\n",
       "      <td>ORIG</td>\n",
       "    </tr>\n",
       "    <tr>\n",
       "      <th>50006440320208130620</th>\n",
       "      <td>1596840618466</td>\n",
       "      <td>TJMG</td>\n",
       "      <td>G1</td>\n",
       "      <td>719.03</td>\n",
       "      <td>1.0</td>\n",
       "      <td>8.0</td>\n",
       "      <td>620</td>\n",
       "      <td>8.0</td>\n",
       "      <td>0.0</td>\n",
       "      <td>2020-03-18 06:16:33</td>\n",
       "      <td>1.0</td>\n",
       "      <td>0</td>\n",
       "      <td>1116</td>\n",
       "      <td>1ª Vara Cível, Criminal e de Execuções Penais ...</td>\n",
       "      <td>3162005</td>\n",
       "      <td>5836</td>\n",
       "      <td>ORIG</td>\n",
       "    </tr>\n",
       "    <tr>\n",
       "      <th>50006458520208130620</th>\n",
       "      <td>1596839978166</td>\n",
       "      <td>TJMG</td>\n",
       "      <td>G1</td>\n",
       "      <td>1321.80</td>\n",
       "      <td>1.0</td>\n",
       "      <td>8.0</td>\n",
       "      <td>620</td>\n",
       "      <td>8.0</td>\n",
       "      <td>0.0</td>\n",
       "      <td>2020-03-18 06:21:42</td>\n",
       "      <td>1.0</td>\n",
       "      <td>0</td>\n",
       "      <td>1116</td>\n",
       "      <td>2ª Vara Cível, Criminal e da Infância e da Juv...</td>\n",
       "      <td>3162005</td>\n",
       "      <td>5843</td>\n",
       "      <td>ORIG</td>\n",
       "    </tr>\n",
       "    <tr>\n",
       "      <th>50006467020208130620</th>\n",
       "      <td>1596839983462</td>\n",
       "      <td>TJMG</td>\n",
       "      <td>G1</td>\n",
       "      <td>1071.21</td>\n",
       "      <td>1.0</td>\n",
       "      <td>8.0</td>\n",
       "      <td>620</td>\n",
       "      <td>8.0</td>\n",
       "      <td>0.0</td>\n",
       "      <td>2020-03-18 06:32:59</td>\n",
       "      <td>1.0</td>\n",
       "      <td>0</td>\n",
       "      <td>1116</td>\n",
       "      <td>1ª Vara Cível, Criminal e de Execuções Penais ...</td>\n",
       "      <td>3162005</td>\n",
       "      <td>5836</td>\n",
       "      <td>ORIG</td>\n",
       "    </tr>\n",
       "  </tbody>\n",
       "</table>\n",
       "</div>"
      ],
      "text/plain": [
       "                      millisInsercao siglaTribunal grau  \\\n",
       "dadosBasicos.numero                                       \n",
       "50006423320208130620   1596842405951          TJMG   G1   \n",
       "50006431820208130620   1596839821655          TJMG   G1   \n",
       "50006440320208130620   1596840618466          TJMG   G1   \n",
       "50006458520208130620   1596839978166          TJMG   G1   \n",
       "50006467020208130620   1596839983462          TJMG   G1   \n",
       "\n",
       "                      dadosBasicos.valorCausa  dadosBasicos.procEl  \\\n",
       "dadosBasicos.numero                                                  \n",
       "50006423320208130620                  2157.81                  1.0   \n",
       "50006431820208130620                   751.18                  1.0   \n",
       "50006440320208130620                   719.03                  1.0   \n",
       "50006458520208130620                  1321.80                  1.0   \n",
       "50006467020208130620                  1071.21                  1.0   \n",
       "\n",
       "                      dadosBasicos.competencia  dadosBasicos.codigoLocalidade  \\\n",
       "dadosBasicos.numero                                                             \n",
       "50006423320208130620                       8.0                            620   \n",
       "50006431820208130620                       8.0                            620   \n",
       "50006440320208130620                       8.0                            620   \n",
       "50006458520208130620                       8.0                            620   \n",
       "50006467020208130620                       8.0                            620   \n",
       "\n",
       "                      dadosBasicos.dscSistema  dadosBasicos.tamanhoProcesso  \\\n",
       "dadosBasicos.numero                                                           \n",
       "50006423320208130620                      8.0                           0.0   \n",
       "50006431820208130620                      8.0                           0.0   \n",
       "50006440320208130620                      8.0                           0.0   \n",
       "50006458520208130620                      8.0                           0.0   \n",
       "50006467020208130620                      8.0                           0.0   \n",
       "\n",
       "                     dadosBasicos.dataAjuizamento  dadosBasicos.totalAssuntos  \\\n",
       "dadosBasicos.numero                                                             \n",
       "50006423320208130620          2020-03-18 06:06:29                         1.0   \n",
       "50006431820208130620          2020-03-18 06:11:46                         1.0   \n",
       "50006440320208130620          2020-03-18 06:16:33                         1.0   \n",
       "50006458520208130620          2020-03-18 06:21:42                         1.0   \n",
       "50006467020208130620          2020-03-18 06:32:59                         1.0   \n",
       "\n",
       "                      dadosBasicos.nivelSigilo  dadosBasicos.classeProcessual  \\\n",
       "dadosBasicos.numero                                                             \n",
       "50006423320208130620                         0                           1116   \n",
       "50006431820208130620                         0                           1116   \n",
       "50006440320208130620                         0                           1116   \n",
       "50006458520208130620                         0                           1116   \n",
       "50006467020208130620                         0                           1116   \n",
       "\n",
       "                                   dadosBasicos.orgaoJulgador.nomeOrgao  \\\n",
       "dadosBasicos.numero                                                       \n",
       "50006423320208130620  2ª Vara Cível, Criminal e da Infância e da Juv...   \n",
       "50006431820208130620  2ª Vara Cível, Criminal e da Infância e da Juv...   \n",
       "50006440320208130620  1ª Vara Cível, Criminal e de Execuções Penais ...   \n",
       "50006458520208130620  2ª Vara Cível, Criminal e da Infância e da Juv...   \n",
       "50006467020208130620  1ª Vara Cível, Criminal e de Execuções Penais ...   \n",
       "\n",
       "                      dadosBasicos.orgaoJulgador.codigoMunicipioIBGE  \\\n",
       "dadosBasicos.numero                                                    \n",
       "50006423320208130620                                         3162005   \n",
       "50006431820208130620                                         3162005   \n",
       "50006440320208130620                                         3162005   \n",
       "50006458520208130620                                         3162005   \n",
       "50006467020208130620                                         3162005   \n",
       "\n",
       "                      dadosBasicos.orgaoJulgador.codigoOrgao  \\\n",
       "dadosBasicos.numero                                            \n",
       "50006423320208130620                                    5843   \n",
       "50006431820208130620                                    5843   \n",
       "50006440320208130620                                    5836   \n",
       "50006458520208130620                                    5843   \n",
       "50006467020208130620                                    5836   \n",
       "\n",
       "                     dadosBasicos.orgaoJulgador.instancia  \n",
       "dadosBasicos.numero                                        \n",
       "50006423320208130620                                 ORIG  \n",
       "50006431820208130620                                 ORIG  \n",
       "50006440320208130620                                 ORIG  \n",
       "50006458520208130620                                 ORIG  \n",
       "50006467020208130620                                 ORIG  "
      ]
     },
     "execution_count": 18,
     "metadata": {},
     "output_type": "execute_result"
    }
   ],
   "source": [
    "df_base = pd.read_csv('app/data/dados_basicos.csv', index_col=0)\n",
    "df_base['dadosBasicos.dataAjuizamento'] = pd.to_datetime(df_base['dadosBasicos.dataAjuizamento'],\n",
    "                                                         format='%Y%m%d%H%M%S', errors='coerce')\n",
    "print(df_base.shape)\n",
    "df_base.head()"
   ]
  },
  {
   "cell_type": "markdown",
   "metadata": {},
   "source": [
    "## Movimentos"
   ]
  },
  {
   "cell_type": "code",
   "execution_count": 19,
   "metadata": {},
   "outputs": [
    {
     "name": "stderr",
     "output_type": "stream",
     "text": [
      "/opt/conda/lib/python3.8/site-packages/IPython/core/interactiveshell.py:3145: DtypeWarning:\n",
      "\n",
      "Columns (0,1,3,4,10,13) have mixed types.Specify dtype option on import or set low_memory=False.\n",
      "\n"
     ]
    },
    {
     "name": "stdout",
     "output_type": "stream",
     "text": [
      "(1720223, 18)\n"
     ]
    },
    {
     "data": {
      "text/html": [
       "<div>\n",
       "<style scoped>\n",
       "    .dataframe tbody tr th:only-of-type {\n",
       "        vertical-align: middle;\n",
       "    }\n",
       "\n",
       "    .dataframe tbody tr th {\n",
       "        vertical-align: top;\n",
       "    }\n",
       "\n",
       "    .dataframe thead th {\n",
       "        text-align: right;\n",
       "    }\n",
       "</style>\n",
       "<table border=\"1\" class=\"dataframe\">\n",
       "  <thead>\n",
       "    <tr style=\"text-align: right;\">\n",
       "      <th></th>\n",
       "      <th>identificadorMovimento</th>\n",
       "      <th>tipoResponsavelMovimento</th>\n",
       "      <th>complementoNacional</th>\n",
       "      <th>idDocumentoVinculado</th>\n",
       "      <th>movimentoLocal</th>\n",
       "      <th>nivelSigilo</th>\n",
       "      <th>dataHora</th>\n",
       "      <th>tipoDecisao</th>\n",
       "      <th>movimentoNacional.codigoNacional</th>\n",
       "      <th>orgaoJulgador.nomeOrgao</th>\n",
       "      <th>orgaoJulgador.codigoMunicipioIBGE</th>\n",
       "      <th>orgaoJulgador.codigoOrgao</th>\n",
       "      <th>orgaoJulgador.instancia</th>\n",
       "      <th>movimentoNacional</th>\n",
       "      <th>orgaoJulgador</th>\n",
       "      <th>movimentoLocal.movimentoLocalPai</th>\n",
       "      <th>movimentoLocal.codigoMovimento</th>\n",
       "      <th>movimentoLocal.codigoPaiNacional</th>\n",
       "    </tr>\n",
       "    <tr>\n",
       "      <th>dadosBasicos.numero</th>\n",
       "      <th></th>\n",
       "      <th></th>\n",
       "      <th></th>\n",
       "      <th></th>\n",
       "      <th></th>\n",
       "      <th></th>\n",
       "      <th></th>\n",
       "      <th></th>\n",
       "      <th></th>\n",
       "      <th></th>\n",
       "      <th></th>\n",
       "      <th></th>\n",
       "      <th></th>\n",
       "      <th></th>\n",
       "      <th></th>\n",
       "      <th></th>\n",
       "      <th></th>\n",
       "      <th></th>\n",
       "    </tr>\n",
       "  </thead>\n",
       "  <tbody>\n",
       "    <tr>\n",
       "      <th>50006423320208130620</th>\n",
       "      <td>1</td>\n",
       "      <td>0.0</td>\n",
       "      <td>[{'descricaoComplemento': 'tipo_de_distribuica...</td>\n",
       "      <td>[]</td>\n",
       "      <td>NaN</td>\n",
       "      <td>0.0</td>\n",
       "      <td>2020-03-18 06:06:30</td>\n",
       "      <td>NaN</td>\n",
       "      <td>26.0</td>\n",
       "      <td>2ª Vara Cível, Criminal e da Infância e da Juv...</td>\n",
       "      <td>3162005.0</td>\n",
       "      <td>5843.0</td>\n",
       "      <td>ORIG</td>\n",
       "      <td>NaN</td>\n",
       "      <td>NaN</td>\n",
       "      <td>NaN</td>\n",
       "      <td>NaN</td>\n",
       "      <td>NaN</td>\n",
       "    </tr>\n",
       "    <tr>\n",
       "      <th>50006423320208130620</th>\n",
       "      <td>2</td>\n",
       "      <td>0.0</td>\n",
       "      <td>[{'descricaoComplemento': 'tipo_de_documento',...</td>\n",
       "      <td>[]</td>\n",
       "      <td>NaN</td>\n",
       "      <td>0.0</td>\n",
       "      <td>2020-03-19 14:54:37</td>\n",
       "      <td>NaN</td>\n",
       "      <td>60.0</td>\n",
       "      <td>2ª Vara Cível, Criminal e da Infância e da Juv...</td>\n",
       "      <td>3162005.0</td>\n",
       "      <td>5843.0</td>\n",
       "      <td>ORIG</td>\n",
       "      <td>NaN</td>\n",
       "      <td>NaN</td>\n",
       "      <td>NaN</td>\n",
       "      <td>NaN</td>\n",
       "      <td>NaN</td>\n",
       "    </tr>\n",
       "    <tr>\n",
       "      <th>50006423320208130620</th>\n",
       "      <td>3</td>\n",
       "      <td>0.0</td>\n",
       "      <td>[{'descricaoComplemento': 'tipo_de_conclusao',...</td>\n",
       "      <td>[]</td>\n",
       "      <td>NaN</td>\n",
       "      <td>0.0</td>\n",
       "      <td>2020-03-19 14:55:01</td>\n",
       "      <td>NaN</td>\n",
       "      <td>51.0</td>\n",
       "      <td>2ª Vara Cível, Criminal e da Infância e da Juv...</td>\n",
       "      <td>3162005.0</td>\n",
       "      <td>5843.0</td>\n",
       "      <td>ORIG</td>\n",
       "      <td>NaN</td>\n",
       "      <td>NaN</td>\n",
       "      <td>NaN</td>\n",
       "      <td>NaN</td>\n",
       "      <td>NaN</td>\n",
       "    </tr>\n",
       "    <tr>\n",
       "      <th>50006423320208130620</th>\n",
       "      <td>4</td>\n",
       "      <td>1.0</td>\n",
       "      <td>[]</td>\n",
       "      <td>[]</td>\n",
       "      <td>NaN</td>\n",
       "      <td>0.0</td>\n",
       "      <td>2020-03-24 14:17:33</td>\n",
       "      <td>NaN</td>\n",
       "      <td>11010.0</td>\n",
       "      <td>2ª Vara Cível, Criminal e da Infância e da Juv...</td>\n",
       "      <td>3162005.0</td>\n",
       "      <td>5843.0</td>\n",
       "      <td>ORIG</td>\n",
       "      <td>NaN</td>\n",
       "      <td>NaN</td>\n",
       "      <td>NaN</td>\n",
       "      <td>NaN</td>\n",
       "      <td>NaN</td>\n",
       "    </tr>\n",
       "    <tr>\n",
       "      <th>50006423320208130620</th>\n",
       "      <td>5</td>\n",
       "      <td>0.0</td>\n",
       "      <td>[{'descricaoComplemento': 'tipo_de_documento',...</td>\n",
       "      <td>[]</td>\n",
       "      <td>NaN</td>\n",
       "      <td>0.0</td>\n",
       "      <td>2020-06-10 11:09:43</td>\n",
       "      <td>NaN</td>\n",
       "      <td>60.0</td>\n",
       "      <td>2ª Vara Cível, Criminal e da Infância e da Juv...</td>\n",
       "      <td>3162005.0</td>\n",
       "      <td>5843.0</td>\n",
       "      <td>ORIG</td>\n",
       "      <td>NaN</td>\n",
       "      <td>NaN</td>\n",
       "      <td>NaN</td>\n",
       "      <td>NaN</td>\n",
       "      <td>NaN</td>\n",
       "    </tr>\n",
       "  </tbody>\n",
       "</table>\n",
       "</div>"
      ],
      "text/plain": [
       "                     identificadorMovimento  tipoResponsavelMovimento  \\\n",
       "dadosBasicos.numero                                                     \n",
       "50006423320208130620                      1                       0.0   \n",
       "50006423320208130620                      2                       0.0   \n",
       "50006423320208130620                      3                       0.0   \n",
       "50006423320208130620                      4                       1.0   \n",
       "50006423320208130620                      5                       0.0   \n",
       "\n",
       "                                                    complementoNacional  \\\n",
       "dadosBasicos.numero                                                       \n",
       "50006423320208130620  [{'descricaoComplemento': 'tipo_de_distribuica...   \n",
       "50006423320208130620  [{'descricaoComplemento': 'tipo_de_documento',...   \n",
       "50006423320208130620  [{'descricaoComplemento': 'tipo_de_conclusao',...   \n",
       "50006423320208130620                                                 []   \n",
       "50006423320208130620  [{'descricaoComplemento': 'tipo_de_documento',...   \n",
       "\n",
       "                     idDocumentoVinculado  movimentoLocal  nivelSigilo  \\\n",
       "dadosBasicos.numero                                                      \n",
       "50006423320208130620                   []             NaN          0.0   \n",
       "50006423320208130620                   []             NaN          0.0   \n",
       "50006423320208130620                   []             NaN          0.0   \n",
       "50006423320208130620                   []             NaN          0.0   \n",
       "50006423320208130620                   []             NaN          0.0   \n",
       "\n",
       "                                dataHora  tipoDecisao  \\\n",
       "dadosBasicos.numero                                     \n",
       "50006423320208130620 2020-03-18 06:06:30          NaN   \n",
       "50006423320208130620 2020-03-19 14:54:37          NaN   \n",
       "50006423320208130620 2020-03-19 14:55:01          NaN   \n",
       "50006423320208130620 2020-03-24 14:17:33          NaN   \n",
       "50006423320208130620 2020-06-10 11:09:43          NaN   \n",
       "\n",
       "                      movimentoNacional.codigoNacional  \\\n",
       "dadosBasicos.numero                                      \n",
       "50006423320208130620                              26.0   \n",
       "50006423320208130620                              60.0   \n",
       "50006423320208130620                              51.0   \n",
       "50006423320208130620                           11010.0   \n",
       "50006423320208130620                              60.0   \n",
       "\n",
       "                                                orgaoJulgador.nomeOrgao  \\\n",
       "dadosBasicos.numero                                                       \n",
       "50006423320208130620  2ª Vara Cível, Criminal e da Infância e da Juv...   \n",
       "50006423320208130620  2ª Vara Cível, Criminal e da Infância e da Juv...   \n",
       "50006423320208130620  2ª Vara Cível, Criminal e da Infância e da Juv...   \n",
       "50006423320208130620  2ª Vara Cível, Criminal e da Infância e da Juv...   \n",
       "50006423320208130620  2ª Vara Cível, Criminal e da Infância e da Juv...   \n",
       "\n",
       "                      orgaoJulgador.codigoMunicipioIBGE  \\\n",
       "dadosBasicos.numero                                       \n",
       "50006423320208130620                          3162005.0   \n",
       "50006423320208130620                          3162005.0   \n",
       "50006423320208130620                          3162005.0   \n",
       "50006423320208130620                          3162005.0   \n",
       "50006423320208130620                          3162005.0   \n",
       "\n",
       "                      orgaoJulgador.codigoOrgao orgaoJulgador.instancia  \\\n",
       "dadosBasicos.numero                                                       \n",
       "50006423320208130620                     5843.0                    ORIG   \n",
       "50006423320208130620                     5843.0                    ORIG   \n",
       "50006423320208130620                     5843.0                    ORIG   \n",
       "50006423320208130620                     5843.0                    ORIG   \n",
       "50006423320208130620                     5843.0                    ORIG   \n",
       "\n",
       "                      movimentoNacional  orgaoJulgador  \\\n",
       "dadosBasicos.numero                                      \n",
       "50006423320208130620                NaN            NaN   \n",
       "50006423320208130620                NaN            NaN   \n",
       "50006423320208130620                NaN            NaN   \n",
       "50006423320208130620                NaN            NaN   \n",
       "50006423320208130620                NaN            NaN   \n",
       "\n",
       "                      movimentoLocal.movimentoLocalPai  \\\n",
       "dadosBasicos.numero                                      \n",
       "50006423320208130620                               NaN   \n",
       "50006423320208130620                               NaN   \n",
       "50006423320208130620                               NaN   \n",
       "50006423320208130620                               NaN   \n",
       "50006423320208130620                               NaN   \n",
       "\n",
       "                      movimentoLocal.codigoMovimento  \\\n",
       "dadosBasicos.numero                                    \n",
       "50006423320208130620                             NaN   \n",
       "50006423320208130620                             NaN   \n",
       "50006423320208130620                             NaN   \n",
       "50006423320208130620                             NaN   \n",
       "50006423320208130620                             NaN   \n",
       "\n",
       "                      movimentoLocal.codigoPaiNacional  \n",
       "dadosBasicos.numero                                     \n",
       "50006423320208130620                               NaN  \n",
       "50006423320208130620                               NaN  \n",
       "50006423320208130620                               NaN  \n",
       "50006423320208130620                               NaN  \n",
       "50006423320208130620                               NaN  "
      ]
     },
     "execution_count": 19,
     "metadata": {},
     "output_type": "execute_result"
    }
   ],
   "source": [
    "df_moves = pd.read_csv('app/data/movimentos.csv', index_col=0)\n",
    "df_moves['dataHora'] = pd.to_datetime(df_moves['dataHora'], format='%Y%m%d%H%M%S')\n",
    "print(df_moves.shape)\n",
    "df_moves.head()"
   ]
  },
  {
   "cell_type": "markdown",
   "metadata": {},
   "source": [
    "### Quantidade de movimentos do processo"
   ]
  },
  {
   "cell_type": "code",
   "execution_count": 20,
   "metadata": {},
   "outputs": [],
   "source": [
    "# Quantidade de movimentos do processo\n",
    "df_base['n_movimentos'] = df_moves.groupby('dadosBasicos.numero').size()\n",
    "df_base['n_movimentos'].fillna(0, inplace=True)"
   ]
  },
  {
   "cell_type": "markdown",
   "metadata": {},
   "source": [
    "### Adiona campo de sigla do tribunal para DatFrame de movimentos"
   ]
  },
  {
   "cell_type": "code",
   "execution_count": 39,
   "metadata": {},
   "outputs": [
    {
     "data": {
      "text/html": [
       "<div>\n",
       "<style scoped>\n",
       "    .dataframe tbody tr th:only-of-type {\n",
       "        vertical-align: middle;\n",
       "    }\n",
       "\n",
       "    .dataframe tbody tr th {\n",
       "        vertical-align: top;\n",
       "    }\n",
       "\n",
       "    .dataframe thead th {\n",
       "        text-align: right;\n",
       "    }\n",
       "</style>\n",
       "<table border=\"1\" class=\"dataframe\">\n",
       "  <thead>\n",
       "    <tr style=\"text-align: right;\">\n",
       "      <th></th>\n",
       "      <th>identificadorMovimento</th>\n",
       "      <th>tipoResponsavelMovimento</th>\n",
       "      <th>complementoNacional</th>\n",
       "      <th>idDocumentoVinculado</th>\n",
       "      <th>movimentoLocal</th>\n",
       "      <th>nivelSigilo</th>\n",
       "      <th>dataHora</th>\n",
       "      <th>tipoDecisao</th>\n",
       "      <th>movimentoNacional.codigoNacional</th>\n",
       "      <th>orgaoJulgador.nomeOrgao</th>\n",
       "      <th>...</th>\n",
       "      <th>orgaoJulgador.codigoOrgao</th>\n",
       "      <th>orgaoJulgador.instancia</th>\n",
       "      <th>movimentoNacional</th>\n",
       "      <th>orgaoJulgador</th>\n",
       "      <th>movimentoLocal.movimentoLocalPai</th>\n",
       "      <th>movimentoLocal.codigoMovimento</th>\n",
       "      <th>movimentoLocal.codigoPaiNacional</th>\n",
       "      <th>siglaTribunal_x</th>\n",
       "      <th>descricao</th>\n",
       "      <th>siglaTribunal_y</th>\n",
       "    </tr>\n",
       "    <tr>\n",
       "      <th>dadosBasicos.numero</th>\n",
       "      <th></th>\n",
       "      <th></th>\n",
       "      <th></th>\n",
       "      <th></th>\n",
       "      <th></th>\n",
       "      <th></th>\n",
       "      <th></th>\n",
       "      <th></th>\n",
       "      <th></th>\n",
       "      <th></th>\n",
       "      <th></th>\n",
       "      <th></th>\n",
       "      <th></th>\n",
       "      <th></th>\n",
       "      <th></th>\n",
       "      <th></th>\n",
       "      <th></th>\n",
       "      <th></th>\n",
       "      <th></th>\n",
       "      <th></th>\n",
       "      <th></th>\n",
       "    </tr>\n",
       "  </thead>\n",
       "  <tbody>\n",
       "    <tr>\n",
       "      <th>34619888190009</th>\n",
       "      <td>1988.009.000003-8_2_36</td>\n",
       "      <td>NaN</td>\n",
       "      <td>NaN</td>\n",
       "      <td>NaN</td>\n",
       "      <td>NaN</td>\n",
       "      <td>NaN</td>\n",
       "      <td>2013-02-27</td>\n",
       "      <td>NaN</td>\n",
       "      <td>123.0</td>\n",
       "      <td>NaN</td>\n",
       "      <td>...</td>\n",
       "      <td>NaN</td>\n",
       "      <td>NaN</td>\n",
       "      <td>NaN</td>\n",
       "      <td>NaN</td>\n",
       "      <td>NaN</td>\n",
       "      <td>NaN</td>\n",
       "      <td>NaN</td>\n",
       "      <td>TJRJ</td>\n",
       "      <td>Remessa</td>\n",
       "      <td>TJRJ</td>\n",
       "    </tr>\n",
       "    <tr>\n",
       "      <th>34619888190009</th>\n",
       "      <td>1988.009.000003-8_1_32</td>\n",
       "      <td>NaN</td>\n",
       "      <td>NaN</td>\n",
       "      <td>NaN</td>\n",
       "      <td>NaN</td>\n",
       "      <td>NaN</td>\n",
       "      <td>2010-11-19</td>\n",
       "      <td>NaN</td>\n",
       "      <td>51.0</td>\n",
       "      <td>NaN</td>\n",
       "      <td>...</td>\n",
       "      <td>NaN</td>\n",
       "      <td>NaN</td>\n",
       "      <td>NaN</td>\n",
       "      <td>NaN</td>\n",
       "      <td>NaN</td>\n",
       "      <td>NaN</td>\n",
       "      <td>NaN</td>\n",
       "      <td>TJRJ</td>\n",
       "      <td>Conclusão</td>\n",
       "      <td>TJRJ</td>\n",
       "    </tr>\n",
       "    <tr>\n",
       "      <th>34619888190009</th>\n",
       "      <td>1988.009.000003-8_1_1</td>\n",
       "      <td>NaN</td>\n",
       "      <td>NaN</td>\n",
       "      <td>NaN</td>\n",
       "      <td>NaN</td>\n",
       "      <td>NaN</td>\n",
       "      <td>2003-11-07</td>\n",
       "      <td>NaN</td>\n",
       "      <td>51.0</td>\n",
       "      <td>NaN</td>\n",
       "      <td>...</td>\n",
       "      <td>NaN</td>\n",
       "      <td>NaN</td>\n",
       "      <td>NaN</td>\n",
       "      <td>NaN</td>\n",
       "      <td>NaN</td>\n",
       "      <td>NaN</td>\n",
       "      <td>NaN</td>\n",
       "      <td>TJRJ</td>\n",
       "      <td>Conclusão</td>\n",
       "      <td>TJRJ</td>\n",
       "    </tr>\n",
       "    <tr>\n",
       "      <th>34619888190009</th>\n",
       "      <td>1988.009.000003-8_1_22</td>\n",
       "      <td>NaN</td>\n",
       "      <td>NaN</td>\n",
       "      <td>NaN</td>\n",
       "      <td>NaN</td>\n",
       "      <td>NaN</td>\n",
       "      <td>2008-08-01</td>\n",
       "      <td>NaN</td>\n",
       "      <td>51.0</td>\n",
       "      <td>NaN</td>\n",
       "      <td>...</td>\n",
       "      <td>NaN</td>\n",
       "      <td>NaN</td>\n",
       "      <td>NaN</td>\n",
       "      <td>NaN</td>\n",
       "      <td>NaN</td>\n",
       "      <td>NaN</td>\n",
       "      <td>NaN</td>\n",
       "      <td>TJRJ</td>\n",
       "      <td>Conclusão</td>\n",
       "      <td>TJRJ</td>\n",
       "    </tr>\n",
       "    <tr>\n",
       "      <th>34619888190009</th>\n",
       "      <td>1988.009.000003-8_2_33</td>\n",
       "      <td>NaN</td>\n",
       "      <td>NaN</td>\n",
       "      <td>NaN</td>\n",
       "      <td>NaN</td>\n",
       "      <td>NaN</td>\n",
       "      <td>2011-05-25</td>\n",
       "      <td>NaN</td>\n",
       "      <td>123.0</td>\n",
       "      <td>NaN</td>\n",
       "      <td>...</td>\n",
       "      <td>NaN</td>\n",
       "      <td>NaN</td>\n",
       "      <td>NaN</td>\n",
       "      <td>NaN</td>\n",
       "      <td>NaN</td>\n",
       "      <td>NaN</td>\n",
       "      <td>NaN</td>\n",
       "      <td>TJRJ</td>\n",
       "      <td>Remessa</td>\n",
       "      <td>TJRJ</td>\n",
       "    </tr>\n",
       "  </tbody>\n",
       "</table>\n",
       "<p>5 rows × 21 columns</p>\n",
       "</div>"
      ],
      "text/plain": [
       "                     identificadorMovimento  tipoResponsavelMovimento  \\\n",
       "dadosBasicos.numero                                                     \n",
       "34619888190009       1988.009.000003-8_2_36                       NaN   \n",
       "34619888190009       1988.009.000003-8_1_32                       NaN   \n",
       "34619888190009        1988.009.000003-8_1_1                       NaN   \n",
       "34619888190009       1988.009.000003-8_1_22                       NaN   \n",
       "34619888190009       1988.009.000003-8_2_33                       NaN   \n",
       "\n",
       "                    complementoNacional idDocumentoVinculado  movimentoLocal  \\\n",
       "dadosBasicos.numero                                                            \n",
       "34619888190009                      NaN                  NaN             NaN   \n",
       "34619888190009                      NaN                  NaN             NaN   \n",
       "34619888190009                      NaN                  NaN             NaN   \n",
       "34619888190009                      NaN                  NaN             NaN   \n",
       "34619888190009                      NaN                  NaN             NaN   \n",
       "\n",
       "                     nivelSigilo   dataHora  tipoDecisao  \\\n",
       "dadosBasicos.numero                                        \n",
       "34619888190009               NaN 2013-02-27          NaN   \n",
       "34619888190009               NaN 2010-11-19          NaN   \n",
       "34619888190009               NaN 2003-11-07          NaN   \n",
       "34619888190009               NaN 2008-08-01          NaN   \n",
       "34619888190009               NaN 2011-05-25          NaN   \n",
       "\n",
       "                     movimentoNacional.codigoNacional orgaoJulgador.nomeOrgao  \\\n",
       "dadosBasicos.numero                                                             \n",
       "34619888190009                                  123.0                     NaN   \n",
       "34619888190009                                   51.0                     NaN   \n",
       "34619888190009                                   51.0                     NaN   \n",
       "34619888190009                                   51.0                     NaN   \n",
       "34619888190009                                  123.0                     NaN   \n",
       "\n",
       "                     ...  orgaoJulgador.codigoOrgao  orgaoJulgador.instancia  \\\n",
       "dadosBasicos.numero  ...                                                       \n",
       "34619888190009       ...                        NaN                      NaN   \n",
       "34619888190009       ...                        NaN                      NaN   \n",
       "34619888190009       ...                        NaN                      NaN   \n",
       "34619888190009       ...                        NaN                      NaN   \n",
       "34619888190009       ...                        NaN                      NaN   \n",
       "\n",
       "                    movimentoNacional  orgaoJulgador  \\\n",
       "dadosBasicos.numero                                    \n",
       "34619888190009                    NaN            NaN   \n",
       "34619888190009                    NaN            NaN   \n",
       "34619888190009                    NaN            NaN   \n",
       "34619888190009                    NaN            NaN   \n",
       "34619888190009                    NaN            NaN   \n",
       "\n",
       "                     movimentoLocal.movimentoLocalPai  \\\n",
       "dadosBasicos.numero                                     \n",
       "34619888190009                                    NaN   \n",
       "34619888190009                                    NaN   \n",
       "34619888190009                                    NaN   \n",
       "34619888190009                                    NaN   \n",
       "34619888190009                                    NaN   \n",
       "\n",
       "                     movimentoLocal.codigoMovimento  \\\n",
       "dadosBasicos.numero                                   \n",
       "34619888190009                                  NaN   \n",
       "34619888190009                                  NaN   \n",
       "34619888190009                                  NaN   \n",
       "34619888190009                                  NaN   \n",
       "34619888190009                                  NaN   \n",
       "\n",
       "                     movimentoLocal.codigoPaiNacional  siglaTribunal_x  \\\n",
       "dadosBasicos.numero                                                      \n",
       "34619888190009                                    NaN             TJRJ   \n",
       "34619888190009                                    NaN             TJRJ   \n",
       "34619888190009                                    NaN             TJRJ   \n",
       "34619888190009                                    NaN             TJRJ   \n",
       "34619888190009                                    NaN             TJRJ   \n",
       "\n",
       "                     descricao siglaTribunal_y  \n",
       "dadosBasicos.numero                             \n",
       "34619888190009         Remessa            TJRJ  \n",
       "34619888190009       Conclusão            TJRJ  \n",
       "34619888190009       Conclusão            TJRJ  \n",
       "34619888190009       Conclusão            TJRJ  \n",
       "34619888190009         Remessa            TJRJ  \n",
       "\n",
       "[5 rows x 21 columns]"
      ]
     },
     "execution_count": 39,
     "metadata": {},
     "output_type": "execute_result"
    }
   ],
   "source": [
    "# Adiona campo de sigla do tribunal para table de dados básicos\n",
    "df_moves = df_moves.merge(df_base['siglaTribunal'], left_index=True, right_index=True)\n",
    "df_moves.head()"
   ]
  },
  {
   "cell_type": "markdown",
   "metadata": {},
   "source": [
    "# Plotly: Gráficos de linha"
   ]
  },
  {
   "cell_type": "markdown",
   "metadata": {},
   "source": [
    "## Método para retornar figura"
   ]
  },
  {
   "cell_type": "code",
   "execution_count": 22,
   "metadata": {},
   "outputs": [],
   "source": [
    "def plot_with_filter(data, xlabel, ylabel, title):\n",
    "    # plotly\n",
    "    fig = go.Figure()\n",
    "\n",
    "    # set up ONE trace\n",
    "    fig.add_trace(go.Scatter(x=data.index, y=data[data.columns[0]], visible=True))\n",
    "    fig.update_layout(\n",
    "        title=title,\n",
    "        xaxis_title=xlabel,\n",
    "        yaxis_title=ylabel\n",
    "    )\n",
    "    updatemenu = []\n",
    "    buttons = []\n",
    "\n",
    "    # button with one option for each dataframe\n",
    "    for col in data.columns:\n",
    "        buttons.append(\n",
    "            dict(\n",
    "                method='restyle',\n",
    "                label=col,\n",
    "                visible=True,\n",
    "                args=[{'y':[data[col]], 'x':[data.index],'type':'scatter'}, [0]],\n",
    "            )\n",
    "        )\n",
    "\n",
    "    # some adjustments to the updatemenus\n",
    "    updatemenu = []\n",
    "    your_menu = dict()\n",
    "    updatemenu.append(your_menu)\n",
    "\n",
    "    updatemenu[0]['buttons'] = buttons\n",
    "    updatemenu[0]['direction'] = 'down'\n",
    "    updatemenu[0]['showactive'] = True\n",
    "\n",
    "    # add dropdown menus to the figure\n",
    "    fig.update_layout(showlegend=False, updatemenus=updatemenu)\n",
    "    return fig"
   ]
  },
  {
   "cell_type": "markdown",
   "metadata": {},
   "source": [
    "## Qtd de processos por data de ajuizamento agrupando por tribunal;"
   ]
  },
  {
   "cell_type": "code",
   "execution_count": 23,
   "metadata": {},
   "outputs": [
    {
     "data": {
      "text/html": [
       "<div>\n",
       "<style scoped>\n",
       "    .dataframe tbody tr th:only-of-type {\n",
       "        vertical-align: middle;\n",
       "    }\n",
       "\n",
       "    .dataframe tbody tr th {\n",
       "        vertical-align: top;\n",
       "    }\n",
       "\n",
       "    .dataframe thead th {\n",
       "        text-align: right;\n",
       "    }\n",
       "</style>\n",
       "<table border=\"1\" class=\"dataframe\">\n",
       "  <thead>\n",
       "    <tr style=\"text-align: right;\">\n",
       "      <th>siglaTribunal</th>\n",
       "      <th>TJMG</th>\n",
       "      <th>TJPR</th>\n",
       "      <th>TJRJ</th>\n",
       "    </tr>\n",
       "    <tr>\n",
       "      <th>Data</th>\n",
       "      <th></th>\n",
       "      <th></th>\n",
       "      <th></th>\n",
       "    </tr>\n",
       "  </thead>\n",
       "  <tbody>\n",
       "    <tr>\n",
       "      <th>2010-01-31</th>\n",
       "      <td>706.0</td>\n",
       "      <td>6818.0</td>\n",
       "      <td>54.0</td>\n",
       "    </tr>\n",
       "    <tr>\n",
       "      <th>2010-02-28</th>\n",
       "      <td>548.0</td>\n",
       "      <td>0.0</td>\n",
       "      <td>25.0</td>\n",
       "    </tr>\n",
       "    <tr>\n",
       "      <th>2010-03-31</th>\n",
       "      <td>717.0</td>\n",
       "      <td>1.0</td>\n",
       "      <td>82.0</td>\n",
       "    </tr>\n",
       "    <tr>\n",
       "      <th>2010-04-30</th>\n",
       "      <td>1047.0</td>\n",
       "      <td>0.0</td>\n",
       "      <td>618.0</td>\n",
       "    </tr>\n",
       "    <tr>\n",
       "      <th>2010-05-31</th>\n",
       "      <td>1316.0</td>\n",
       "      <td>0.0</td>\n",
       "      <td>2322.0</td>\n",
       "    </tr>\n",
       "  </tbody>\n",
       "</table>\n",
       "</div>"
      ],
      "text/plain": [
       "siglaTribunal    TJMG    TJPR    TJRJ\n",
       "Data                                 \n",
       "2010-01-31      706.0  6818.0    54.0\n",
       "2010-02-28      548.0     0.0    25.0\n",
       "2010-03-31      717.0     1.0    82.0\n",
       "2010-04-30     1047.0     0.0   618.0\n",
       "2010-05-31     1316.0     0.0  2322.0"
      ]
     },
     "execution_count": 23,
     "metadata": {},
     "output_type": "execute_result"
    }
   ],
   "source": [
    "data = df_base.groupby(['siglaTribunal', pd.Grouper(key='dadosBasicos.dataAjuizamento', freq='M')]).size().unstack().T\n",
    "data.index.name = 'Data'\n",
    "data = data.loc['2010':'2020'].fillna(0).sort_index()\n",
    "data.head()"
   ]
  },
  {
   "cell_type": "code",
   "execution_count": 24,
   "metadata": {},
   "outputs": [
    {
     "data": {
      "application/vnd.plotly.v1+json": {
       "config": {
        "plotlyServerURL": "https://plot.ly"
       },
       "data": [
        {
         "type": "scatter",
         "visible": true,
         "x": [
          "2010-01-31T00:00:00",
          "2010-02-28T00:00:00",
          "2010-03-31T00:00:00",
          "2010-04-30T00:00:00",
          "2010-05-31T00:00:00",
          "2010-06-30T00:00:00",
          "2010-07-31T00:00:00",
          "2010-08-31T00:00:00",
          "2010-09-30T00:00:00",
          "2020-03-31T00:00:00",
          "2020-04-30T00:00:00",
          "2020-05-31T00:00:00"
         ],
         "y": [
          706,
          548,
          717,
          1047,
          1316,
          474,
          0,
          0,
          0,
          1602,
          1132,
          0
         ]
        }
       ],
       "layout": {
        "showlegend": false,
        "template": {
         "data": {
          "bar": [
           {
            "error_x": {
             "color": "#2a3f5f"
            },
            "error_y": {
             "color": "#2a3f5f"
            },
            "marker": {
             "line": {
              "color": "#E5ECF6",
              "width": 0.5
             }
            },
            "type": "bar"
           }
          ],
          "barpolar": [
           {
            "marker": {
             "line": {
              "color": "#E5ECF6",
              "width": 0.5
             }
            },
            "type": "barpolar"
           }
          ],
          "carpet": [
           {
            "aaxis": {
             "endlinecolor": "#2a3f5f",
             "gridcolor": "white",
             "linecolor": "white",
             "minorgridcolor": "white",
             "startlinecolor": "#2a3f5f"
            },
            "baxis": {
             "endlinecolor": "#2a3f5f",
             "gridcolor": "white",
             "linecolor": "white",
             "minorgridcolor": "white",
             "startlinecolor": "#2a3f5f"
            },
            "type": "carpet"
           }
          ],
          "choropleth": [
           {
            "colorbar": {
             "outlinewidth": 0,
             "ticks": ""
            },
            "type": "choropleth"
           }
          ],
          "contour": [
           {
            "colorbar": {
             "outlinewidth": 0,
             "ticks": ""
            },
            "colorscale": [
             [
              0,
              "#0d0887"
             ],
             [
              0.1111111111111111,
              "#46039f"
             ],
             [
              0.2222222222222222,
              "#7201a8"
             ],
             [
              0.3333333333333333,
              "#9c179e"
             ],
             [
              0.4444444444444444,
              "#bd3786"
             ],
             [
              0.5555555555555556,
              "#d8576b"
             ],
             [
              0.6666666666666666,
              "#ed7953"
             ],
             [
              0.7777777777777778,
              "#fb9f3a"
             ],
             [
              0.8888888888888888,
              "#fdca26"
             ],
             [
              1,
              "#f0f921"
             ]
            ],
            "type": "contour"
           }
          ],
          "contourcarpet": [
           {
            "colorbar": {
             "outlinewidth": 0,
             "ticks": ""
            },
            "type": "contourcarpet"
           }
          ],
          "heatmap": [
           {
            "colorbar": {
             "outlinewidth": 0,
             "ticks": ""
            },
            "colorscale": [
             [
              0,
              "#0d0887"
             ],
             [
              0.1111111111111111,
              "#46039f"
             ],
             [
              0.2222222222222222,
              "#7201a8"
             ],
             [
              0.3333333333333333,
              "#9c179e"
             ],
             [
              0.4444444444444444,
              "#bd3786"
             ],
             [
              0.5555555555555556,
              "#d8576b"
             ],
             [
              0.6666666666666666,
              "#ed7953"
             ],
             [
              0.7777777777777778,
              "#fb9f3a"
             ],
             [
              0.8888888888888888,
              "#fdca26"
             ],
             [
              1,
              "#f0f921"
             ]
            ],
            "type": "heatmap"
           }
          ],
          "heatmapgl": [
           {
            "colorbar": {
             "outlinewidth": 0,
             "ticks": ""
            },
            "colorscale": [
             [
              0,
              "#0d0887"
             ],
             [
              0.1111111111111111,
              "#46039f"
             ],
             [
              0.2222222222222222,
              "#7201a8"
             ],
             [
              0.3333333333333333,
              "#9c179e"
             ],
             [
              0.4444444444444444,
              "#bd3786"
             ],
             [
              0.5555555555555556,
              "#d8576b"
             ],
             [
              0.6666666666666666,
              "#ed7953"
             ],
             [
              0.7777777777777778,
              "#fb9f3a"
             ],
             [
              0.8888888888888888,
              "#fdca26"
             ],
             [
              1,
              "#f0f921"
             ]
            ],
            "type": "heatmapgl"
           }
          ],
          "histogram": [
           {
            "marker": {
             "colorbar": {
              "outlinewidth": 0,
              "ticks": ""
             }
            },
            "type": "histogram"
           }
          ],
          "histogram2d": [
           {
            "colorbar": {
             "outlinewidth": 0,
             "ticks": ""
            },
            "colorscale": [
             [
              0,
              "#0d0887"
             ],
             [
              0.1111111111111111,
              "#46039f"
             ],
             [
              0.2222222222222222,
              "#7201a8"
             ],
             [
              0.3333333333333333,
              "#9c179e"
             ],
             [
              0.4444444444444444,
              "#bd3786"
             ],
             [
              0.5555555555555556,
              "#d8576b"
             ],
             [
              0.6666666666666666,
              "#ed7953"
             ],
             [
              0.7777777777777778,
              "#fb9f3a"
             ],
             [
              0.8888888888888888,
              "#fdca26"
             ],
             [
              1,
              "#f0f921"
             ]
            ],
            "type": "histogram2d"
           }
          ],
          "histogram2dcontour": [
           {
            "colorbar": {
             "outlinewidth": 0,
             "ticks": ""
            },
            "colorscale": [
             [
              0,
              "#0d0887"
             ],
             [
              0.1111111111111111,
              "#46039f"
             ],
             [
              0.2222222222222222,
              "#7201a8"
             ],
             [
              0.3333333333333333,
              "#9c179e"
             ],
             [
              0.4444444444444444,
              "#bd3786"
             ],
             [
              0.5555555555555556,
              "#d8576b"
             ],
             [
              0.6666666666666666,
              "#ed7953"
             ],
             [
              0.7777777777777778,
              "#fb9f3a"
             ],
             [
              0.8888888888888888,
              "#fdca26"
             ],
             [
              1,
              "#f0f921"
             ]
            ],
            "type": "histogram2dcontour"
           }
          ],
          "mesh3d": [
           {
            "colorbar": {
             "outlinewidth": 0,
             "ticks": ""
            },
            "type": "mesh3d"
           }
          ],
          "parcoords": [
           {
            "line": {
             "colorbar": {
              "outlinewidth": 0,
              "ticks": ""
             }
            },
            "type": "parcoords"
           }
          ],
          "pie": [
           {
            "automargin": true,
            "type": "pie"
           }
          ],
          "scatter": [
           {
            "marker": {
             "colorbar": {
              "outlinewidth": 0,
              "ticks": ""
             }
            },
            "type": "scatter"
           }
          ],
          "scatter3d": [
           {
            "line": {
             "colorbar": {
              "outlinewidth": 0,
              "ticks": ""
             }
            },
            "marker": {
             "colorbar": {
              "outlinewidth": 0,
              "ticks": ""
             }
            },
            "type": "scatter3d"
           }
          ],
          "scattercarpet": [
           {
            "marker": {
             "colorbar": {
              "outlinewidth": 0,
              "ticks": ""
             }
            },
            "type": "scattercarpet"
           }
          ],
          "scattergeo": [
           {
            "marker": {
             "colorbar": {
              "outlinewidth": 0,
              "ticks": ""
             }
            },
            "type": "scattergeo"
           }
          ],
          "scattergl": [
           {
            "marker": {
             "colorbar": {
              "outlinewidth": 0,
              "ticks": ""
             }
            },
            "type": "scattergl"
           }
          ],
          "scattermapbox": [
           {
            "marker": {
             "colorbar": {
              "outlinewidth": 0,
              "ticks": ""
             }
            },
            "type": "scattermapbox"
           }
          ],
          "scatterpolar": [
           {
            "marker": {
             "colorbar": {
              "outlinewidth": 0,
              "ticks": ""
             }
            },
            "type": "scatterpolar"
           }
          ],
          "scatterpolargl": [
           {
            "marker": {
             "colorbar": {
              "outlinewidth": 0,
              "ticks": ""
             }
            },
            "type": "scatterpolargl"
           }
          ],
          "scatterternary": [
           {
            "marker": {
             "colorbar": {
              "outlinewidth": 0,
              "ticks": ""
             }
            },
            "type": "scatterternary"
           }
          ],
          "surface": [
           {
            "colorbar": {
             "outlinewidth": 0,
             "ticks": ""
            },
            "colorscale": [
             [
              0,
              "#0d0887"
             ],
             [
              0.1111111111111111,
              "#46039f"
             ],
             [
              0.2222222222222222,
              "#7201a8"
             ],
             [
              0.3333333333333333,
              "#9c179e"
             ],
             [
              0.4444444444444444,
              "#bd3786"
             ],
             [
              0.5555555555555556,
              "#d8576b"
             ],
             [
              0.6666666666666666,
              "#ed7953"
             ],
             [
              0.7777777777777778,
              "#fb9f3a"
             ],
             [
              0.8888888888888888,
              "#fdca26"
             ],
             [
              1,
              "#f0f921"
             ]
            ],
            "type": "surface"
           }
          ],
          "table": [
           {
            "cells": {
             "fill": {
              "color": "#EBF0F8"
             },
             "line": {
              "color": "white"
             }
            },
            "header": {
             "fill": {
              "color": "#C8D4E3"
             },
             "line": {
              "color": "white"
             }
            },
            "type": "table"
           }
          ]
         },
         "layout": {
          "annotationdefaults": {
           "arrowcolor": "#2a3f5f",
           "arrowhead": 0,
           "arrowwidth": 1
          },
          "coloraxis": {
           "colorbar": {
            "outlinewidth": 0,
            "ticks": ""
           }
          },
          "colorscale": {
           "diverging": [
            [
             0,
             "#8e0152"
            ],
            [
             0.1,
             "#c51b7d"
            ],
            [
             0.2,
             "#de77ae"
            ],
            [
             0.3,
             "#f1b6da"
            ],
            [
             0.4,
             "#fde0ef"
            ],
            [
             0.5,
             "#f7f7f7"
            ],
            [
             0.6,
             "#e6f5d0"
            ],
            [
             0.7,
             "#b8e186"
            ],
            [
             0.8,
             "#7fbc41"
            ],
            [
             0.9,
             "#4d9221"
            ],
            [
             1,
             "#276419"
            ]
           ],
           "sequential": [
            [
             0,
             "#0d0887"
            ],
            [
             0.1111111111111111,
             "#46039f"
            ],
            [
             0.2222222222222222,
             "#7201a8"
            ],
            [
             0.3333333333333333,
             "#9c179e"
            ],
            [
             0.4444444444444444,
             "#bd3786"
            ],
            [
             0.5555555555555556,
             "#d8576b"
            ],
            [
             0.6666666666666666,
             "#ed7953"
            ],
            [
             0.7777777777777778,
             "#fb9f3a"
            ],
            [
             0.8888888888888888,
             "#fdca26"
            ],
            [
             1,
             "#f0f921"
            ]
           ],
           "sequentialminus": [
            [
             0,
             "#0d0887"
            ],
            [
             0.1111111111111111,
             "#46039f"
            ],
            [
             0.2222222222222222,
             "#7201a8"
            ],
            [
             0.3333333333333333,
             "#9c179e"
            ],
            [
             0.4444444444444444,
             "#bd3786"
            ],
            [
             0.5555555555555556,
             "#d8576b"
            ],
            [
             0.6666666666666666,
             "#ed7953"
            ],
            [
             0.7777777777777778,
             "#fb9f3a"
            ],
            [
             0.8888888888888888,
             "#fdca26"
            ],
            [
             1,
             "#f0f921"
            ]
           ]
          },
          "colorway": [
           "#636efa",
           "#EF553B",
           "#00cc96",
           "#ab63fa",
           "#FFA15A",
           "#19d3f3",
           "#FF6692",
           "#B6E880",
           "#FF97FF",
           "#FECB52"
          ],
          "font": {
           "color": "#2a3f5f"
          },
          "geo": {
           "bgcolor": "white",
           "lakecolor": "white",
           "landcolor": "#E5ECF6",
           "showlakes": true,
           "showland": true,
           "subunitcolor": "white"
          },
          "hoverlabel": {
           "align": "left"
          },
          "hovermode": "closest",
          "mapbox": {
           "style": "light"
          },
          "paper_bgcolor": "white",
          "plot_bgcolor": "#E5ECF6",
          "polar": {
           "angularaxis": {
            "gridcolor": "white",
            "linecolor": "white",
            "ticks": ""
           },
           "bgcolor": "#E5ECF6",
           "radialaxis": {
            "gridcolor": "white",
            "linecolor": "white",
            "ticks": ""
           }
          },
          "scene": {
           "xaxis": {
            "backgroundcolor": "#E5ECF6",
            "gridcolor": "white",
            "gridwidth": 2,
            "linecolor": "white",
            "showbackground": true,
            "ticks": "",
            "zerolinecolor": "white"
           },
           "yaxis": {
            "backgroundcolor": "#E5ECF6",
            "gridcolor": "white",
            "gridwidth": 2,
            "linecolor": "white",
            "showbackground": true,
            "ticks": "",
            "zerolinecolor": "white"
           },
           "zaxis": {
            "backgroundcolor": "#E5ECF6",
            "gridcolor": "white",
            "gridwidth": 2,
            "linecolor": "white",
            "showbackground": true,
            "ticks": "",
            "zerolinecolor": "white"
           }
          },
          "shapedefaults": {
           "line": {
            "color": "#2a3f5f"
           }
          },
          "ternary": {
           "aaxis": {
            "gridcolor": "white",
            "linecolor": "white",
            "ticks": ""
           },
           "baxis": {
            "gridcolor": "white",
            "linecolor": "white",
            "ticks": ""
           },
           "bgcolor": "#E5ECF6",
           "caxis": {
            "gridcolor": "white",
            "linecolor": "white",
            "ticks": ""
           }
          },
          "title": {
           "x": 0.05
          },
          "xaxis": {
           "automargin": true,
           "gridcolor": "white",
           "linecolor": "white",
           "ticks": "",
           "title": {
            "standoff": 15
           },
           "zerolinecolor": "white",
           "zerolinewidth": 2
          },
          "yaxis": {
           "automargin": true,
           "gridcolor": "white",
           "linecolor": "white",
           "ticks": "",
           "title": {
            "standoff": 15
           },
           "zerolinecolor": "white",
           "zerolinewidth": 2
          }
         }
        },
        "title": {
         "text": "Quantidade de processos do tribunal"
        },
        "updatemenus": [
         {
          "buttons": [
           {
            "args": [
             {
              "type": "scatter",
              "x": [
               [
                "2010-01-31T00:00:00",
                "2010-02-28T00:00:00",
                "2010-03-31T00:00:00",
                "2010-04-30T00:00:00",
                "2010-05-31T00:00:00",
                "2010-06-30T00:00:00",
                "2010-07-31T00:00:00",
                "2010-08-31T00:00:00",
                "2010-09-30T00:00:00",
                "2020-03-31T00:00:00",
                "2020-04-30T00:00:00",
                "2020-05-31T00:00:00"
               ]
              ],
              "y": [
               [
                706,
                548,
                717,
                1047,
                1316,
                474,
                0,
                0,
                0,
                1602,
                1132,
                0
               ]
              ]
             },
             [
              0
             ]
            ],
            "label": "TJMG",
            "method": "restyle",
            "visible": true
           },
           {
            "args": [
             {
              "type": "scatter",
              "x": [
               [
                "2010-01-31T00:00:00",
                "2010-02-28T00:00:00",
                "2010-03-31T00:00:00",
                "2010-04-30T00:00:00",
                "2010-05-31T00:00:00",
                "2010-06-30T00:00:00",
                "2010-07-31T00:00:00",
                "2010-08-31T00:00:00",
                "2010-09-30T00:00:00",
                "2020-03-31T00:00:00",
                "2020-04-30T00:00:00",
                "2020-05-31T00:00:00"
               ]
              ],
              "y": [
               [
                6818,
                0,
                1,
                0,
                0,
                0,
                0,
                0,
                0,
                2095,
                1102,
                0
               ]
              ]
             },
             [
              0
             ]
            ],
            "label": "TJPR",
            "method": "restyle",
            "visible": true
           },
           {
            "args": [
             {
              "type": "scatter",
              "x": [
               [
                "2010-01-31T00:00:00",
                "2010-02-28T00:00:00",
                "2010-03-31T00:00:00",
                "2010-04-30T00:00:00",
                "2010-05-31T00:00:00",
                "2010-06-30T00:00:00",
                "2010-07-31T00:00:00",
                "2010-08-31T00:00:00",
                "2010-09-30T00:00:00",
                "2020-03-31T00:00:00",
                "2020-04-30T00:00:00",
                "2020-05-31T00:00:00"
               ]
              ],
              "y": [
               [
                54,
                25,
                82,
                618,
                2322,
                750,
                24,
                347,
                2553,
                2246,
                1467,
                956
               ]
              ]
             },
             [
              0
             ]
            ],
            "label": "TJRJ",
            "method": "restyle",
            "visible": true
           }
          ],
          "direction": "down",
          "showactive": true
         }
        ],
        "xaxis": {
         "title": {
          "text": "Data"
         }
        },
        "yaxis": {
         "title": {
          "text": "Quantidade de processos"
         }
        }
       }
      },
      "text/html": [
       "<div>                            <div id=\"8380043d-f546-432d-9fbb-f88dbf337af2\" class=\"plotly-graph-div\" style=\"height:525px; width:100%;\"></div>            <script type=\"text/javascript\">                require([\"plotly\"], function(Plotly) {                    window.PLOTLYENV=window.PLOTLYENV || {};                                    if (document.getElementById(\"8380043d-f546-432d-9fbb-f88dbf337af2\")) {                    Plotly.newPlot(                        \"8380043d-f546-432d-9fbb-f88dbf337af2\",                        [{\"type\": \"scatter\", \"visible\": true, \"x\": [\"2010-01-31T00:00:00\", \"2010-02-28T00:00:00\", \"2010-03-31T00:00:00\", \"2010-04-30T00:00:00\", \"2010-05-31T00:00:00\", \"2010-06-30T00:00:00\", \"2010-07-31T00:00:00\", \"2010-08-31T00:00:00\", \"2010-09-30T00:00:00\", \"2020-03-31T00:00:00\", \"2020-04-30T00:00:00\", \"2020-05-31T00:00:00\"], \"y\": [706.0, 548.0, 717.0, 1047.0, 1316.0, 474.0, 0.0, 0.0, 0.0, 1602.0, 1132.0, 0.0]}],                        {\"showlegend\": false, \"template\": {\"data\": {\"bar\": [{\"error_x\": {\"color\": \"#2a3f5f\"}, \"error_y\": {\"color\": \"#2a3f5f\"}, \"marker\": {\"line\": {\"color\": \"#E5ECF6\", \"width\": 0.5}}, \"type\": \"bar\"}], \"barpolar\": [{\"marker\": {\"line\": {\"color\": \"#E5ECF6\", \"width\": 0.5}}, \"type\": \"barpolar\"}], \"carpet\": [{\"aaxis\": {\"endlinecolor\": \"#2a3f5f\", \"gridcolor\": \"white\", \"linecolor\": \"white\", \"minorgridcolor\": \"white\", \"startlinecolor\": \"#2a3f5f\"}, \"baxis\": {\"endlinecolor\": \"#2a3f5f\", \"gridcolor\": \"white\", \"linecolor\": \"white\", \"minorgridcolor\": \"white\", \"startlinecolor\": \"#2a3f5f\"}, \"type\": \"carpet\"}], \"choropleth\": [{\"colorbar\": {\"outlinewidth\": 0, \"ticks\": \"\"}, \"type\": \"choropleth\"}], \"contour\": [{\"colorbar\": {\"outlinewidth\": 0, \"ticks\": \"\"}, \"colorscale\": [[0.0, \"#0d0887\"], [0.1111111111111111, \"#46039f\"], [0.2222222222222222, \"#7201a8\"], [0.3333333333333333, \"#9c179e\"], [0.4444444444444444, \"#bd3786\"], [0.5555555555555556, \"#d8576b\"], [0.6666666666666666, \"#ed7953\"], [0.7777777777777778, \"#fb9f3a\"], [0.8888888888888888, \"#fdca26\"], [1.0, \"#f0f921\"]], \"type\": \"contour\"}], \"contourcarpet\": [{\"colorbar\": {\"outlinewidth\": 0, \"ticks\": \"\"}, \"type\": \"contourcarpet\"}], \"heatmap\": [{\"colorbar\": {\"outlinewidth\": 0, \"ticks\": \"\"}, \"colorscale\": [[0.0, \"#0d0887\"], [0.1111111111111111, \"#46039f\"], [0.2222222222222222, \"#7201a8\"], [0.3333333333333333, \"#9c179e\"], [0.4444444444444444, \"#bd3786\"], [0.5555555555555556, \"#d8576b\"], [0.6666666666666666, \"#ed7953\"], [0.7777777777777778, \"#fb9f3a\"], [0.8888888888888888, \"#fdca26\"], [1.0, \"#f0f921\"]], \"type\": \"heatmap\"}], \"heatmapgl\": [{\"colorbar\": {\"outlinewidth\": 0, \"ticks\": \"\"}, \"colorscale\": [[0.0, \"#0d0887\"], [0.1111111111111111, \"#46039f\"], [0.2222222222222222, \"#7201a8\"], [0.3333333333333333, \"#9c179e\"], [0.4444444444444444, \"#bd3786\"], [0.5555555555555556, \"#d8576b\"], [0.6666666666666666, \"#ed7953\"], [0.7777777777777778, \"#fb9f3a\"], [0.8888888888888888, \"#fdca26\"], [1.0, \"#f0f921\"]], \"type\": \"heatmapgl\"}], \"histogram\": [{\"marker\": {\"colorbar\": {\"outlinewidth\": 0, \"ticks\": \"\"}}, \"type\": \"histogram\"}], \"histogram2d\": [{\"colorbar\": {\"outlinewidth\": 0, \"ticks\": \"\"}, \"colorscale\": [[0.0, \"#0d0887\"], [0.1111111111111111, \"#46039f\"], [0.2222222222222222, \"#7201a8\"], [0.3333333333333333, \"#9c179e\"], [0.4444444444444444, \"#bd3786\"], [0.5555555555555556, \"#d8576b\"], [0.6666666666666666, \"#ed7953\"], [0.7777777777777778, \"#fb9f3a\"], [0.8888888888888888, \"#fdca26\"], [1.0, \"#f0f921\"]], \"type\": \"histogram2d\"}], \"histogram2dcontour\": [{\"colorbar\": {\"outlinewidth\": 0, \"ticks\": \"\"}, \"colorscale\": [[0.0, \"#0d0887\"], [0.1111111111111111, \"#46039f\"], [0.2222222222222222, \"#7201a8\"], [0.3333333333333333, \"#9c179e\"], [0.4444444444444444, \"#bd3786\"], [0.5555555555555556, \"#d8576b\"], [0.6666666666666666, \"#ed7953\"], [0.7777777777777778, \"#fb9f3a\"], [0.8888888888888888, \"#fdca26\"], [1.0, \"#f0f921\"]], \"type\": \"histogram2dcontour\"}], \"mesh3d\": [{\"colorbar\": {\"outlinewidth\": 0, \"ticks\": \"\"}, \"type\": \"mesh3d\"}], \"parcoords\": [{\"line\": {\"colorbar\": {\"outlinewidth\": 0, \"ticks\": \"\"}}, \"type\": \"parcoords\"}], \"pie\": [{\"automargin\": true, \"type\": \"pie\"}], \"scatter\": [{\"marker\": {\"colorbar\": {\"outlinewidth\": 0, \"ticks\": \"\"}}, \"type\": \"scatter\"}], \"scatter3d\": [{\"line\": {\"colorbar\": {\"outlinewidth\": 0, \"ticks\": \"\"}}, \"marker\": {\"colorbar\": {\"outlinewidth\": 0, \"ticks\": \"\"}}, \"type\": \"scatter3d\"}], \"scattercarpet\": [{\"marker\": {\"colorbar\": {\"outlinewidth\": 0, \"ticks\": \"\"}}, \"type\": \"scattercarpet\"}], \"scattergeo\": [{\"marker\": {\"colorbar\": {\"outlinewidth\": 0, \"ticks\": \"\"}}, \"type\": \"scattergeo\"}], \"scattergl\": [{\"marker\": {\"colorbar\": {\"outlinewidth\": 0, \"ticks\": \"\"}}, \"type\": \"scattergl\"}], \"scattermapbox\": [{\"marker\": {\"colorbar\": {\"outlinewidth\": 0, \"ticks\": \"\"}}, \"type\": \"scattermapbox\"}], \"scatterpolar\": [{\"marker\": {\"colorbar\": {\"outlinewidth\": 0, \"ticks\": \"\"}}, \"type\": \"scatterpolar\"}], \"scatterpolargl\": [{\"marker\": {\"colorbar\": {\"outlinewidth\": 0, \"ticks\": \"\"}}, \"type\": \"scatterpolargl\"}], \"scatterternary\": [{\"marker\": {\"colorbar\": {\"outlinewidth\": 0, \"ticks\": \"\"}}, \"type\": \"scatterternary\"}], \"surface\": [{\"colorbar\": {\"outlinewidth\": 0, \"ticks\": \"\"}, \"colorscale\": [[0.0, \"#0d0887\"], [0.1111111111111111, \"#46039f\"], [0.2222222222222222, \"#7201a8\"], [0.3333333333333333, \"#9c179e\"], [0.4444444444444444, \"#bd3786\"], [0.5555555555555556, \"#d8576b\"], [0.6666666666666666, \"#ed7953\"], [0.7777777777777778, \"#fb9f3a\"], [0.8888888888888888, \"#fdca26\"], [1.0, \"#f0f921\"]], \"type\": \"surface\"}], \"table\": [{\"cells\": {\"fill\": {\"color\": \"#EBF0F8\"}, \"line\": {\"color\": \"white\"}}, \"header\": {\"fill\": {\"color\": \"#C8D4E3\"}, \"line\": {\"color\": \"white\"}}, \"type\": \"table\"}]}, \"layout\": {\"annotationdefaults\": {\"arrowcolor\": \"#2a3f5f\", \"arrowhead\": 0, \"arrowwidth\": 1}, \"coloraxis\": {\"colorbar\": {\"outlinewidth\": 0, \"ticks\": \"\"}}, \"colorscale\": {\"diverging\": [[0, \"#8e0152\"], [0.1, \"#c51b7d\"], [0.2, \"#de77ae\"], [0.3, \"#f1b6da\"], [0.4, \"#fde0ef\"], [0.5, \"#f7f7f7\"], [0.6, \"#e6f5d0\"], [0.7, \"#b8e186\"], [0.8, \"#7fbc41\"], [0.9, \"#4d9221\"], [1, \"#276419\"]], \"sequential\": [[0.0, \"#0d0887\"], [0.1111111111111111, \"#46039f\"], [0.2222222222222222, \"#7201a8\"], [0.3333333333333333, \"#9c179e\"], [0.4444444444444444, \"#bd3786\"], [0.5555555555555556, \"#d8576b\"], [0.6666666666666666, \"#ed7953\"], [0.7777777777777778, \"#fb9f3a\"], [0.8888888888888888, \"#fdca26\"], [1.0, \"#f0f921\"]], \"sequentialminus\": [[0.0, \"#0d0887\"], [0.1111111111111111, \"#46039f\"], [0.2222222222222222, \"#7201a8\"], [0.3333333333333333, \"#9c179e\"], [0.4444444444444444, \"#bd3786\"], [0.5555555555555556, \"#d8576b\"], [0.6666666666666666, \"#ed7953\"], [0.7777777777777778, \"#fb9f3a\"], [0.8888888888888888, \"#fdca26\"], [1.0, \"#f0f921\"]]}, \"colorway\": [\"#636efa\", \"#EF553B\", \"#00cc96\", \"#ab63fa\", \"#FFA15A\", \"#19d3f3\", \"#FF6692\", \"#B6E880\", \"#FF97FF\", \"#FECB52\"], \"font\": {\"color\": \"#2a3f5f\"}, \"geo\": {\"bgcolor\": \"white\", \"lakecolor\": \"white\", \"landcolor\": \"#E5ECF6\", \"showlakes\": true, \"showland\": true, \"subunitcolor\": \"white\"}, \"hoverlabel\": {\"align\": \"left\"}, \"hovermode\": \"closest\", \"mapbox\": {\"style\": \"light\"}, \"paper_bgcolor\": \"white\", \"plot_bgcolor\": \"#E5ECF6\", \"polar\": {\"angularaxis\": {\"gridcolor\": \"white\", \"linecolor\": \"white\", \"ticks\": \"\"}, \"bgcolor\": \"#E5ECF6\", \"radialaxis\": {\"gridcolor\": \"white\", \"linecolor\": \"white\", \"ticks\": \"\"}}, \"scene\": {\"xaxis\": {\"backgroundcolor\": \"#E5ECF6\", \"gridcolor\": \"white\", \"gridwidth\": 2, \"linecolor\": \"white\", \"showbackground\": true, \"ticks\": \"\", \"zerolinecolor\": \"white\"}, \"yaxis\": {\"backgroundcolor\": \"#E5ECF6\", \"gridcolor\": \"white\", \"gridwidth\": 2, \"linecolor\": \"white\", \"showbackground\": true, \"ticks\": \"\", \"zerolinecolor\": \"white\"}, \"zaxis\": {\"backgroundcolor\": \"#E5ECF6\", \"gridcolor\": \"white\", \"gridwidth\": 2, \"linecolor\": \"white\", \"showbackground\": true, \"ticks\": \"\", \"zerolinecolor\": \"white\"}}, \"shapedefaults\": {\"line\": {\"color\": \"#2a3f5f\"}}, \"ternary\": {\"aaxis\": {\"gridcolor\": \"white\", \"linecolor\": \"white\", \"ticks\": \"\"}, \"baxis\": {\"gridcolor\": \"white\", \"linecolor\": \"white\", \"ticks\": \"\"}, \"bgcolor\": \"#E5ECF6\", \"caxis\": {\"gridcolor\": \"white\", \"linecolor\": \"white\", \"ticks\": \"\"}}, \"title\": {\"x\": 0.05}, \"xaxis\": {\"automargin\": true, \"gridcolor\": \"white\", \"linecolor\": \"white\", \"ticks\": \"\", \"title\": {\"standoff\": 15}, \"zerolinecolor\": \"white\", \"zerolinewidth\": 2}, \"yaxis\": {\"automargin\": true, \"gridcolor\": \"white\", \"linecolor\": \"white\", \"ticks\": \"\", \"title\": {\"standoff\": 15}, \"zerolinecolor\": \"white\", \"zerolinewidth\": 2}}}, \"title\": {\"text\": \"Quantidade de processos do tribunal\"}, \"updatemenus\": [{\"buttons\": [{\"args\": [{\"type\": \"scatter\", \"x\": [[\"2010-01-31T00:00:00\", \"2010-02-28T00:00:00\", \"2010-03-31T00:00:00\", \"2010-04-30T00:00:00\", \"2010-05-31T00:00:00\", \"2010-06-30T00:00:00\", \"2010-07-31T00:00:00\", \"2010-08-31T00:00:00\", \"2010-09-30T00:00:00\", \"2020-03-31T00:00:00\", \"2020-04-30T00:00:00\", \"2020-05-31T00:00:00\"]], \"y\": [[706.0, 548.0, 717.0, 1047.0, 1316.0, 474.0, 0.0, 0.0, 0.0, 1602.0, 1132.0, 0.0]]}, [0]], \"label\": \"TJMG\", \"method\": \"restyle\", \"visible\": true}, {\"args\": [{\"type\": \"scatter\", \"x\": [[\"2010-01-31T00:00:00\", \"2010-02-28T00:00:00\", \"2010-03-31T00:00:00\", \"2010-04-30T00:00:00\", \"2010-05-31T00:00:00\", \"2010-06-30T00:00:00\", \"2010-07-31T00:00:00\", \"2010-08-31T00:00:00\", \"2010-09-30T00:00:00\", \"2020-03-31T00:00:00\", \"2020-04-30T00:00:00\", \"2020-05-31T00:00:00\"]], \"y\": [[6818.0, 0.0, 1.0, 0.0, 0.0, 0.0, 0.0, 0.0, 0.0, 2095.0, 1102.0, 0.0]]}, [0]], \"label\": \"TJPR\", \"method\": \"restyle\", \"visible\": true}, {\"args\": [{\"type\": \"scatter\", \"x\": [[\"2010-01-31T00:00:00\", \"2010-02-28T00:00:00\", \"2010-03-31T00:00:00\", \"2010-04-30T00:00:00\", \"2010-05-31T00:00:00\", \"2010-06-30T00:00:00\", \"2010-07-31T00:00:00\", \"2010-08-31T00:00:00\", \"2010-09-30T00:00:00\", \"2020-03-31T00:00:00\", \"2020-04-30T00:00:00\", \"2020-05-31T00:00:00\"]], \"y\": [[54.0, 25.0, 82.0, 618.0, 2322.0, 750.0, 24.0, 347.0, 2553.0, 2246.0, 1467.0, 956.0]]}, [0]], \"label\": \"TJRJ\", \"method\": \"restyle\", \"visible\": true}], \"direction\": \"down\", \"showactive\": true}], \"xaxis\": {\"title\": {\"text\": \"Data\"}}, \"yaxis\": {\"title\": {\"text\": \"Quantidade de processos\"}}},                        {\"responsive\": true}                    ).then(function(){\n",
       "                            \n",
       "var gd = document.getElementById('8380043d-f546-432d-9fbb-f88dbf337af2');\n",
       "var x = new MutationObserver(function (mutations, observer) {{\n",
       "        var display = window.getComputedStyle(gd).display;\n",
       "        if (!display || display === 'none') {{\n",
       "            console.log([gd, 'removed!']);\n",
       "            Plotly.purge(gd);\n",
       "            observer.disconnect();\n",
       "        }}\n",
       "}});\n",
       "\n",
       "// Listen for the removal of the full notebook cells\n",
       "var notebookContainer = gd.closest('#notebook-container');\n",
       "if (notebookContainer) {{\n",
       "    x.observe(notebookContainer, {childList: true});\n",
       "}}\n",
       "\n",
       "// Listen for the clearing of the current output cell\n",
       "var outputEl = gd.closest('.output');\n",
       "if (outputEl) {{\n",
       "    x.observe(outputEl, {childList: true});\n",
       "}}\n",
       "\n",
       "                        })                };                });            </script>        </div>"
      ]
     },
     "metadata": {},
     "output_type": "display_data"
    }
   ],
   "source": [
    "fig = plot_with_filter(\n",
    "    data=data,\n",
    "    title='Quantidade de processos do tribunal',\n",
    "    xlabel='Data',\n",
    "    ylabel='Quantidade de processos'\n",
    ")\n",
    "fig.show()"
   ]
  },
  {
   "cell_type": "markdown",
   "metadata": {},
   "source": [
    "## Qtd de movimentos por dataHora agrupando por tribunal;"
   ]
  },
  {
   "cell_type": "code",
   "execution_count": 37,
   "metadata": {},
   "outputs": [
    {
     "data": {
      "text/html": [
       "<div>\n",
       "<style scoped>\n",
       "    .dataframe tbody tr th:only-of-type {\n",
       "        vertical-align: middle;\n",
       "    }\n",
       "\n",
       "    .dataframe tbody tr th {\n",
       "        vertical-align: top;\n",
       "    }\n",
       "\n",
       "    .dataframe thead th {\n",
       "        text-align: right;\n",
       "    }\n",
       "</style>\n",
       "<table border=\"1\" class=\"dataframe\">\n",
       "  <thead>\n",
       "    <tr style=\"text-align: right;\">\n",
       "      <th>siglaTribunal</th>\n",
       "      <th>TJMG</th>\n",
       "      <th>TJRJ</th>\n",
       "    </tr>\n",
       "    <tr>\n",
       "      <th>dataHora</th>\n",
       "      <th></th>\n",
       "      <th></th>\n",
       "    </tr>\n",
       "  </thead>\n",
       "  <tbody>\n",
       "    <tr>\n",
       "      <th>1972-07-31</th>\n",
       "      <td>NaN</td>\n",
       "      <td>1.0</td>\n",
       "    </tr>\n",
       "    <tr>\n",
       "      <th>1986-11-30</th>\n",
       "      <td>NaN</td>\n",
       "      <td>1.0</td>\n",
       "    </tr>\n",
       "    <tr>\n",
       "      <th>1987-01-31</th>\n",
       "      <td>NaN</td>\n",
       "      <td>2.0</td>\n",
       "    </tr>\n",
       "    <tr>\n",
       "      <th>1987-04-30</th>\n",
       "      <td>NaN</td>\n",
       "      <td>2.0</td>\n",
       "    </tr>\n",
       "    <tr>\n",
       "      <th>1987-05-31</th>\n",
       "      <td>NaN</td>\n",
       "      <td>1.0</td>\n",
       "    </tr>\n",
       "  </tbody>\n",
       "</table>\n",
       "</div>"
      ],
      "text/plain": [
       "siglaTribunal  TJMG  TJRJ\n",
       "dataHora                 \n",
       "1972-07-31      NaN   1.0\n",
       "1986-11-30      NaN   1.0\n",
       "1987-01-31      NaN   2.0\n",
       "1987-04-30      NaN   2.0\n",
       "1987-05-31      NaN   1.0"
      ]
     },
     "execution_count": 37,
     "metadata": {},
     "output_type": "execute_result"
    }
   ],
   "source": [
    "data = df_moves.groupby(['siglaTribunal', pd.Grouper(freq='M', key='dataHora')]).size().unstack().T\n",
    "data.sort_index(inplace=True)\n",
    "data.head()"
   ]
  },
  {
   "cell_type": "code",
   "execution_count": 38,
   "metadata": {},
   "outputs": [
    {
     "data": {
      "application/vnd.plotly.v1+json": {
       "config": {
        "plotlyServerURL": "https://plot.ly"
       },
       "data": [
        {
         "type": "scatter",
         "visible": true,
         "x": [
          "1972-07-31T00:00:00",
          "1986-11-30T00:00:00",
          "1987-01-31T00:00:00",
          "1987-04-30T00:00:00",
          "1987-05-31T00:00:00",
          "1987-09-30T00:00:00",
          "1987-10-31T00:00:00",
          "1987-11-30T00:00:00",
          "1988-01-31T00:00:00",
          "1988-03-31T00:00:00",
          "1988-05-31T00:00:00",
          "1988-07-31T00:00:00",
          "1988-09-30T00:00:00",
          "1988-12-31T00:00:00",
          "1989-02-28T00:00:00",
          "1989-07-31T00:00:00",
          "1989-08-31T00:00:00",
          "1989-11-30T00:00:00",
          "1990-01-31T00:00:00",
          "1990-03-31T00:00:00",
          "1990-04-30T00:00:00",
          "1990-05-31T00:00:00",
          "1990-06-30T00:00:00",
          "1990-07-31T00:00:00",
          "1990-08-31T00:00:00",
          "1991-08-31T00:00:00",
          "1993-02-28T00:00:00",
          "1993-03-31T00:00:00",
          "1993-04-30T00:00:00",
          "1993-05-31T00:00:00",
          "1993-06-30T00:00:00",
          "1993-07-31T00:00:00",
          "1993-08-31T00:00:00",
          "1993-09-30T00:00:00",
          "1993-11-30T00:00:00",
          "1993-12-31T00:00:00",
          "1994-01-31T00:00:00",
          "1994-02-28T00:00:00",
          "1994-03-31T00:00:00",
          "1994-04-30T00:00:00",
          "1994-05-31T00:00:00",
          "1994-06-30T00:00:00",
          "1994-07-31T00:00:00",
          "1994-08-31T00:00:00",
          "1994-09-30T00:00:00",
          "1994-10-31T00:00:00",
          "1994-11-30T00:00:00",
          "1994-12-31T00:00:00",
          "1995-01-31T00:00:00",
          "1995-02-28T00:00:00",
          "1995-03-31T00:00:00",
          "1995-04-30T00:00:00",
          "1995-05-31T00:00:00",
          "1995-06-30T00:00:00",
          "1995-07-31T00:00:00",
          "1995-08-31T00:00:00",
          "1995-09-30T00:00:00",
          "1995-10-31T00:00:00",
          "1995-11-30T00:00:00",
          "1995-12-31T00:00:00",
          "1996-01-31T00:00:00",
          "1996-02-29T00:00:00",
          "1996-03-31T00:00:00",
          "1996-04-30T00:00:00",
          "1996-05-31T00:00:00",
          "1996-06-30T00:00:00",
          "1996-07-31T00:00:00",
          "1996-08-31T00:00:00",
          "1996-09-30T00:00:00",
          "1996-10-31T00:00:00",
          "1996-11-30T00:00:00",
          "1996-12-31T00:00:00",
          "1997-01-31T00:00:00",
          "1997-02-28T00:00:00",
          "1997-03-31T00:00:00",
          "1997-04-30T00:00:00",
          "1997-05-31T00:00:00",
          "1997-06-30T00:00:00",
          "1997-07-31T00:00:00",
          "1997-08-31T00:00:00",
          "1997-09-30T00:00:00",
          "1997-10-31T00:00:00",
          "1997-11-30T00:00:00",
          "1997-12-31T00:00:00",
          "1998-01-31T00:00:00",
          "1998-02-28T00:00:00",
          "1998-03-31T00:00:00",
          "1998-04-30T00:00:00",
          "1998-05-31T00:00:00",
          "1998-06-30T00:00:00",
          "1998-07-31T00:00:00",
          "1998-08-31T00:00:00",
          "1998-09-30T00:00:00",
          "1998-10-31T00:00:00",
          "1998-11-30T00:00:00",
          "1998-12-31T00:00:00",
          "1999-01-31T00:00:00",
          "1999-02-28T00:00:00",
          "1999-03-31T00:00:00",
          "1999-04-30T00:00:00",
          "1999-05-31T00:00:00",
          "1999-06-30T00:00:00",
          "1999-07-31T00:00:00",
          "1999-08-31T00:00:00",
          "1999-09-30T00:00:00",
          "1999-10-31T00:00:00",
          "1999-11-30T00:00:00",
          "1999-12-31T00:00:00",
          "2000-01-31T00:00:00",
          "2000-02-29T00:00:00",
          "2000-03-31T00:00:00",
          "2000-04-30T00:00:00",
          "2000-05-31T00:00:00",
          "2000-06-30T00:00:00",
          "2000-07-31T00:00:00",
          "2000-08-31T00:00:00",
          "2000-09-30T00:00:00",
          "2000-10-31T00:00:00",
          "2000-11-30T00:00:00",
          "2000-12-31T00:00:00",
          "2001-01-31T00:00:00",
          "2001-02-28T00:00:00",
          "2001-03-31T00:00:00",
          "2001-04-30T00:00:00",
          "2001-05-31T00:00:00",
          "2001-06-30T00:00:00",
          "2001-07-31T00:00:00",
          "2001-08-31T00:00:00",
          "2001-09-30T00:00:00",
          "2001-10-31T00:00:00",
          "2001-11-30T00:00:00",
          "2001-12-31T00:00:00",
          "2002-01-31T00:00:00",
          "2002-02-28T00:00:00",
          "2002-03-31T00:00:00",
          "2002-04-30T00:00:00",
          "2002-05-31T00:00:00",
          "2002-06-30T00:00:00",
          "2002-07-31T00:00:00",
          "2002-08-31T00:00:00",
          "2002-09-30T00:00:00",
          "2002-10-31T00:00:00",
          "2002-11-30T00:00:00",
          "2002-12-31T00:00:00",
          "2003-01-31T00:00:00",
          "2003-02-28T00:00:00",
          "2003-03-31T00:00:00",
          "2003-04-30T00:00:00",
          "2003-05-31T00:00:00",
          "2003-06-30T00:00:00",
          "2003-07-31T00:00:00",
          "2003-08-31T00:00:00",
          "2003-09-30T00:00:00",
          "2003-10-31T00:00:00",
          "2003-11-30T00:00:00",
          "2003-12-31T00:00:00",
          "2004-01-31T00:00:00",
          "2004-02-29T00:00:00",
          "2004-03-31T00:00:00",
          "2004-04-30T00:00:00",
          "2004-05-31T00:00:00",
          "2004-06-30T00:00:00",
          "2004-07-31T00:00:00",
          "2004-08-31T00:00:00",
          "2004-09-30T00:00:00",
          "2004-10-31T00:00:00",
          "2004-11-30T00:00:00",
          "2004-12-31T00:00:00",
          "2005-01-31T00:00:00",
          "2005-02-28T00:00:00",
          "2005-03-31T00:00:00",
          "2005-04-30T00:00:00",
          "2005-05-31T00:00:00",
          "2005-06-30T00:00:00",
          "2005-07-31T00:00:00",
          "2005-08-31T00:00:00",
          "2005-09-30T00:00:00",
          "2005-10-31T00:00:00",
          "2005-11-30T00:00:00",
          "2005-12-31T00:00:00",
          "2006-01-31T00:00:00",
          "2006-02-28T00:00:00",
          "2006-03-31T00:00:00",
          "2006-04-30T00:00:00",
          "2006-05-31T00:00:00",
          "2006-06-30T00:00:00",
          "2006-07-31T00:00:00",
          "2006-08-31T00:00:00",
          "2006-09-30T00:00:00",
          "2006-10-31T00:00:00",
          "2006-11-30T00:00:00",
          "2006-12-31T00:00:00",
          "2007-01-31T00:00:00",
          "2007-02-28T00:00:00",
          "2007-03-31T00:00:00",
          "2007-04-30T00:00:00",
          "2007-05-31T00:00:00",
          "2007-06-30T00:00:00",
          "2007-07-31T00:00:00",
          "2007-08-31T00:00:00",
          "2007-09-30T00:00:00",
          "2007-10-31T00:00:00",
          "2007-11-30T00:00:00",
          "2007-12-31T00:00:00",
          "2008-01-31T00:00:00",
          "2008-02-29T00:00:00",
          "2008-03-31T00:00:00",
          "2008-04-30T00:00:00",
          "2008-05-31T00:00:00",
          "2008-06-30T00:00:00",
          "2008-07-31T00:00:00",
          "2008-08-31T00:00:00",
          "2008-09-30T00:00:00",
          "2008-10-31T00:00:00",
          "2008-11-30T00:00:00",
          "2008-12-31T00:00:00",
          "2009-01-31T00:00:00",
          "2009-02-28T00:00:00",
          "2009-03-31T00:00:00",
          "2009-04-30T00:00:00",
          "2009-05-31T00:00:00",
          "2009-06-30T00:00:00",
          "2009-07-31T00:00:00",
          "2009-08-31T00:00:00",
          "2009-09-30T00:00:00",
          "2009-10-31T00:00:00",
          "2009-11-30T00:00:00",
          "2009-12-31T00:00:00",
          "2010-01-31T00:00:00",
          "2010-02-28T00:00:00",
          "2010-03-31T00:00:00",
          "2010-04-30T00:00:00",
          "2010-05-31T00:00:00",
          "2010-06-30T00:00:00",
          "2010-07-31T00:00:00",
          "2010-08-31T00:00:00",
          "2010-09-30T00:00:00",
          "2010-10-31T00:00:00",
          "2010-11-30T00:00:00",
          "2010-12-31T00:00:00",
          "2011-01-31T00:00:00",
          "2011-02-28T00:00:00",
          "2011-03-31T00:00:00",
          "2011-04-30T00:00:00",
          "2011-05-31T00:00:00",
          "2011-06-30T00:00:00",
          "2011-07-31T00:00:00",
          "2011-08-31T00:00:00",
          "2011-09-30T00:00:00",
          "2011-10-31T00:00:00",
          "2011-11-30T00:00:00",
          "2011-12-31T00:00:00",
          "2012-01-31T00:00:00",
          "2012-02-29T00:00:00",
          "2012-03-31T00:00:00",
          "2012-04-30T00:00:00",
          "2012-05-31T00:00:00",
          "2012-06-30T00:00:00",
          "2012-07-31T00:00:00",
          "2012-08-31T00:00:00",
          "2012-09-30T00:00:00",
          "2012-10-31T00:00:00",
          "2012-11-30T00:00:00",
          "2012-12-31T00:00:00",
          "2013-01-31T00:00:00",
          "2013-02-28T00:00:00",
          "2013-03-31T00:00:00",
          "2013-04-30T00:00:00",
          "2013-05-31T00:00:00",
          "2013-06-30T00:00:00",
          "2013-07-31T00:00:00",
          "2013-08-31T00:00:00",
          "2013-09-30T00:00:00",
          "2013-10-31T00:00:00",
          "2013-11-30T00:00:00",
          "2013-12-31T00:00:00",
          "2014-01-31T00:00:00",
          "2014-02-28T00:00:00",
          "2014-03-31T00:00:00",
          "2014-04-30T00:00:00",
          "2014-05-31T00:00:00",
          "2014-06-30T00:00:00",
          "2014-07-31T00:00:00",
          "2014-08-31T00:00:00",
          "2014-09-30T00:00:00",
          "2014-10-31T00:00:00",
          "2014-11-30T00:00:00",
          "2014-12-31T00:00:00",
          "2015-01-31T00:00:00",
          "2015-02-28T00:00:00",
          "2015-03-31T00:00:00",
          "2015-04-30T00:00:00",
          "2015-05-31T00:00:00",
          "2015-06-30T00:00:00",
          "2015-07-31T00:00:00",
          "2015-08-31T00:00:00",
          "2015-09-30T00:00:00",
          "2015-10-31T00:00:00",
          "2015-11-30T00:00:00",
          "2015-12-31T00:00:00",
          "2016-01-31T00:00:00",
          "2016-02-29T00:00:00",
          "2016-03-31T00:00:00",
          "2016-04-30T00:00:00",
          "2016-05-31T00:00:00",
          "2016-06-30T00:00:00",
          "2016-07-31T00:00:00",
          "2016-08-31T00:00:00",
          "2016-09-30T00:00:00",
          "2016-10-31T00:00:00",
          "2016-11-30T00:00:00",
          "2016-12-31T00:00:00",
          "2017-01-31T00:00:00",
          "2017-02-28T00:00:00",
          "2017-03-31T00:00:00",
          "2017-04-30T00:00:00",
          "2017-05-31T00:00:00",
          "2017-06-30T00:00:00",
          "2017-07-31T00:00:00",
          "2017-08-31T00:00:00",
          "2017-09-30T00:00:00",
          "2017-10-31T00:00:00",
          "2017-11-30T00:00:00",
          "2017-12-31T00:00:00",
          "2018-01-31T00:00:00",
          "2018-02-28T00:00:00",
          "2018-03-31T00:00:00",
          "2018-04-30T00:00:00",
          "2018-05-31T00:00:00",
          "2018-06-30T00:00:00",
          "2018-07-31T00:00:00",
          "2018-08-31T00:00:00",
          "2018-09-30T00:00:00",
          "2018-10-31T00:00:00",
          "2018-11-30T00:00:00",
          "2018-12-31T00:00:00",
          "2019-01-31T00:00:00",
          "2019-02-28T00:00:00",
          "2019-03-31T00:00:00",
          "2019-04-30T00:00:00",
          "2019-05-31T00:00:00",
          "2019-06-30T00:00:00",
          "2019-07-31T00:00:00",
          "2019-08-31T00:00:00",
          "2019-09-30T00:00:00",
          "2019-10-31T00:00:00",
          "2019-11-30T00:00:00",
          "2019-12-31T00:00:00",
          "2020-01-31T00:00:00",
          "2020-02-29T00:00:00",
          "2020-03-31T00:00:00",
          "2020-04-30T00:00:00",
          "2020-05-31T00:00:00",
          "2020-06-30T00:00:00",
          "2020-07-31T00:00:00"
         ],
         "y": [
          null,
          null,
          null,
          null,
          null,
          null,
          null,
          null,
          null,
          null,
          null,
          null,
          null,
          null,
          null,
          null,
          null,
          null,
          null,
          null,
          null,
          null,
          null,
          null,
          null,
          null,
          null,
          null,
          null,
          null,
          null,
          null,
          null,
          null,
          null,
          null,
          null,
          1,
          null,
          null,
          null,
          null,
          null,
          null,
          null,
          null,
          null,
          null,
          null,
          null,
          null,
          null,
          null,
          null,
          null,
          null,
          1,
          null,
          null,
          null,
          null,
          null,
          null,
          null,
          null,
          null,
          null,
          null,
          null,
          null,
          null,
          null,
          null,
          null,
          null,
          null,
          1,
          null,
          1,
          2,
          5,
          3,
          6,
          5,
          8,
          3,
          15,
          19,
          25,
          33,
          15,
          17,
          50,
          74,
          82,
          57,
          34,
          66,
          93,
          92,
          83,
          65,
          50,
          116,
          90,
          100,
          95,
          77,
          36,
          115,
          95,
          109,
          175,
          102,
          159,
          147,
          110,
          148,
          155,
          115,
          66,
          112,
          165,
          187,
          158,
          215,
          151,
          367,
          328,
          623,
          568,
          622,
          706,
          603,
          943,
          993,
          806,
          837,
          727,
          1322,
          1023,
          1151,
          938,
          968,
          648,
          848,
          798,
          747,
          1210,
          1011,
          765,
          1096,
          1143,
          1142,
          1118,
          934,
          891,
          1041,
          1431,
          1073,
          1295,
          1216,
          908,
          1521,
          1249,
          1114,
          1197,
          1266,
          639,
          911,
          1200,
          1015,
          1164,
          1115,
          849,
          1174,
          1317,
          1152,
          1072,
          773,
          833,
          1200,
          1715,
          1018,
          1411,
          1024,
          1029,
          1283,
          1205,
          1355,
          1196,
          769,
          860,
          1225,
          1716,
          1282,
          1523,
          1337,
          1221,
          1447,
          1285,
          1339,
          1203,
          802,
          974,
          1133,
          1547,
          1469,
          1279,
          1540,
          1430,
          1431,
          1607,
          1662,
          1444,
          886,
          999,
          1190,
          1685,
          1088,
          1433,
          1358,
          1442,
          1417,
          1524,
          1122,
          1055,
          562,
          2292,
          3470,
          5171,
          6446,
          10150,
          8624,
          7007,
          6886,
          6340,
          5756,
          5595,
          3576,
          4283,
          5872,
          5724,
          4890,
          6098,
          5777,
          5850,
          7147,
          5592,
          4799,
          4746,
          2619,
          3789,
          3979,
          5316,
          3796,
          5189,
          4267,
          4493,
          4831,
          4044,
          4591,
          3864,
          2477,
          3267,
          2920,
          3160,
          3488,
          3699,
          3704,
          3861,
          3844,
          3676,
          3902,
          3358,
          2361,
          2782,
          3425,
          3200,
          2917,
          3448,
          2886,
          3585,
          3350,
          3327,
          3353,
          3257,
          2318,
          2734,
          3018,
          3935,
          2784,
          4050,
          3747,
          3859,
          3780,
          3254,
          3077,
          2901,
          1841,
          3089,
          3289,
          3182,
          3041,
          3407,
          3493,
          3006,
          3349,
          3280,
          3034,
          2902,
          2047,
          2439,
          2976,
          3674,
          2780,
          4034,
          4007,
          3782,
          4598,
          3816,
          3697,
          3171,
          2181,
          2828,
          3066,
          3682,
          4354,
          4019,
          3920,
          3842,
          4552,
          3999,
          4681,
          3832,
          2605,
          3703,
          4477,
          4191,
          4201,
          4752,
          3939,
          4903,
          4723,
          4831,
          4973,
          4338,
          2961,
          3478,
          3806,
          6129,
          6497,
          3307,
          2402,
          1886
         ]
        }
       ],
       "layout": {
        "showlegend": false,
        "template": {
         "data": {
          "bar": [
           {
            "error_x": {
             "color": "#2a3f5f"
            },
            "error_y": {
             "color": "#2a3f5f"
            },
            "marker": {
             "line": {
              "color": "#E5ECF6",
              "width": 0.5
             }
            },
            "type": "bar"
           }
          ],
          "barpolar": [
           {
            "marker": {
             "line": {
              "color": "#E5ECF6",
              "width": 0.5
             }
            },
            "type": "barpolar"
           }
          ],
          "carpet": [
           {
            "aaxis": {
             "endlinecolor": "#2a3f5f",
             "gridcolor": "white",
             "linecolor": "white",
             "minorgridcolor": "white",
             "startlinecolor": "#2a3f5f"
            },
            "baxis": {
             "endlinecolor": "#2a3f5f",
             "gridcolor": "white",
             "linecolor": "white",
             "minorgridcolor": "white",
             "startlinecolor": "#2a3f5f"
            },
            "type": "carpet"
           }
          ],
          "choropleth": [
           {
            "colorbar": {
             "outlinewidth": 0,
             "ticks": ""
            },
            "type": "choropleth"
           }
          ],
          "contour": [
           {
            "colorbar": {
             "outlinewidth": 0,
             "ticks": ""
            },
            "colorscale": [
             [
              0,
              "#0d0887"
             ],
             [
              0.1111111111111111,
              "#46039f"
             ],
             [
              0.2222222222222222,
              "#7201a8"
             ],
             [
              0.3333333333333333,
              "#9c179e"
             ],
             [
              0.4444444444444444,
              "#bd3786"
             ],
             [
              0.5555555555555556,
              "#d8576b"
             ],
             [
              0.6666666666666666,
              "#ed7953"
             ],
             [
              0.7777777777777778,
              "#fb9f3a"
             ],
             [
              0.8888888888888888,
              "#fdca26"
             ],
             [
              1,
              "#f0f921"
             ]
            ],
            "type": "contour"
           }
          ],
          "contourcarpet": [
           {
            "colorbar": {
             "outlinewidth": 0,
             "ticks": ""
            },
            "type": "contourcarpet"
           }
          ],
          "heatmap": [
           {
            "colorbar": {
             "outlinewidth": 0,
             "ticks": ""
            },
            "colorscale": [
             [
              0,
              "#0d0887"
             ],
             [
              0.1111111111111111,
              "#46039f"
             ],
             [
              0.2222222222222222,
              "#7201a8"
             ],
             [
              0.3333333333333333,
              "#9c179e"
             ],
             [
              0.4444444444444444,
              "#bd3786"
             ],
             [
              0.5555555555555556,
              "#d8576b"
             ],
             [
              0.6666666666666666,
              "#ed7953"
             ],
             [
              0.7777777777777778,
              "#fb9f3a"
             ],
             [
              0.8888888888888888,
              "#fdca26"
             ],
             [
              1,
              "#f0f921"
             ]
            ],
            "type": "heatmap"
           }
          ],
          "heatmapgl": [
           {
            "colorbar": {
             "outlinewidth": 0,
             "ticks": ""
            },
            "colorscale": [
             [
              0,
              "#0d0887"
             ],
             [
              0.1111111111111111,
              "#46039f"
             ],
             [
              0.2222222222222222,
              "#7201a8"
             ],
             [
              0.3333333333333333,
              "#9c179e"
             ],
             [
              0.4444444444444444,
              "#bd3786"
             ],
             [
              0.5555555555555556,
              "#d8576b"
             ],
             [
              0.6666666666666666,
              "#ed7953"
             ],
             [
              0.7777777777777778,
              "#fb9f3a"
             ],
             [
              0.8888888888888888,
              "#fdca26"
             ],
             [
              1,
              "#f0f921"
             ]
            ],
            "type": "heatmapgl"
           }
          ],
          "histogram": [
           {
            "marker": {
             "colorbar": {
              "outlinewidth": 0,
              "ticks": ""
             }
            },
            "type": "histogram"
           }
          ],
          "histogram2d": [
           {
            "colorbar": {
             "outlinewidth": 0,
             "ticks": ""
            },
            "colorscale": [
             [
              0,
              "#0d0887"
             ],
             [
              0.1111111111111111,
              "#46039f"
             ],
             [
              0.2222222222222222,
              "#7201a8"
             ],
             [
              0.3333333333333333,
              "#9c179e"
             ],
             [
              0.4444444444444444,
              "#bd3786"
             ],
             [
              0.5555555555555556,
              "#d8576b"
             ],
             [
              0.6666666666666666,
              "#ed7953"
             ],
             [
              0.7777777777777778,
              "#fb9f3a"
             ],
             [
              0.8888888888888888,
              "#fdca26"
             ],
             [
              1,
              "#f0f921"
             ]
            ],
            "type": "histogram2d"
           }
          ],
          "histogram2dcontour": [
           {
            "colorbar": {
             "outlinewidth": 0,
             "ticks": ""
            },
            "colorscale": [
             [
              0,
              "#0d0887"
             ],
             [
              0.1111111111111111,
              "#46039f"
             ],
             [
              0.2222222222222222,
              "#7201a8"
             ],
             [
              0.3333333333333333,
              "#9c179e"
             ],
             [
              0.4444444444444444,
              "#bd3786"
             ],
             [
              0.5555555555555556,
              "#d8576b"
             ],
             [
              0.6666666666666666,
              "#ed7953"
             ],
             [
              0.7777777777777778,
              "#fb9f3a"
             ],
             [
              0.8888888888888888,
              "#fdca26"
             ],
             [
              1,
              "#f0f921"
             ]
            ],
            "type": "histogram2dcontour"
           }
          ],
          "mesh3d": [
           {
            "colorbar": {
             "outlinewidth": 0,
             "ticks": ""
            },
            "type": "mesh3d"
           }
          ],
          "parcoords": [
           {
            "line": {
             "colorbar": {
              "outlinewidth": 0,
              "ticks": ""
             }
            },
            "type": "parcoords"
           }
          ],
          "pie": [
           {
            "automargin": true,
            "type": "pie"
           }
          ],
          "scatter": [
           {
            "marker": {
             "colorbar": {
              "outlinewidth": 0,
              "ticks": ""
             }
            },
            "type": "scatter"
           }
          ],
          "scatter3d": [
           {
            "line": {
             "colorbar": {
              "outlinewidth": 0,
              "ticks": ""
             }
            },
            "marker": {
             "colorbar": {
              "outlinewidth": 0,
              "ticks": ""
             }
            },
            "type": "scatter3d"
           }
          ],
          "scattercarpet": [
           {
            "marker": {
             "colorbar": {
              "outlinewidth": 0,
              "ticks": ""
             }
            },
            "type": "scattercarpet"
           }
          ],
          "scattergeo": [
           {
            "marker": {
             "colorbar": {
              "outlinewidth": 0,
              "ticks": ""
             }
            },
            "type": "scattergeo"
           }
          ],
          "scattergl": [
           {
            "marker": {
             "colorbar": {
              "outlinewidth": 0,
              "ticks": ""
             }
            },
            "type": "scattergl"
           }
          ],
          "scattermapbox": [
           {
            "marker": {
             "colorbar": {
              "outlinewidth": 0,
              "ticks": ""
             }
            },
            "type": "scattermapbox"
           }
          ],
          "scatterpolar": [
           {
            "marker": {
             "colorbar": {
              "outlinewidth": 0,
              "ticks": ""
             }
            },
            "type": "scatterpolar"
           }
          ],
          "scatterpolargl": [
           {
            "marker": {
             "colorbar": {
              "outlinewidth": 0,
              "ticks": ""
             }
            },
            "type": "scatterpolargl"
           }
          ],
          "scatterternary": [
           {
            "marker": {
             "colorbar": {
              "outlinewidth": 0,
              "ticks": ""
             }
            },
            "type": "scatterternary"
           }
          ],
          "surface": [
           {
            "colorbar": {
             "outlinewidth": 0,
             "ticks": ""
            },
            "colorscale": [
             [
              0,
              "#0d0887"
             ],
             [
              0.1111111111111111,
              "#46039f"
             ],
             [
              0.2222222222222222,
              "#7201a8"
             ],
             [
              0.3333333333333333,
              "#9c179e"
             ],
             [
              0.4444444444444444,
              "#bd3786"
             ],
             [
              0.5555555555555556,
              "#d8576b"
             ],
             [
              0.6666666666666666,
              "#ed7953"
             ],
             [
              0.7777777777777778,
              "#fb9f3a"
             ],
             [
              0.8888888888888888,
              "#fdca26"
             ],
             [
              1,
              "#f0f921"
             ]
            ],
            "type": "surface"
           }
          ],
          "table": [
           {
            "cells": {
             "fill": {
              "color": "#EBF0F8"
             },
             "line": {
              "color": "white"
             }
            },
            "header": {
             "fill": {
              "color": "#C8D4E3"
             },
             "line": {
              "color": "white"
             }
            },
            "type": "table"
           }
          ]
         },
         "layout": {
          "annotationdefaults": {
           "arrowcolor": "#2a3f5f",
           "arrowhead": 0,
           "arrowwidth": 1
          },
          "coloraxis": {
           "colorbar": {
            "outlinewidth": 0,
            "ticks": ""
           }
          },
          "colorscale": {
           "diverging": [
            [
             0,
             "#8e0152"
            ],
            [
             0.1,
             "#c51b7d"
            ],
            [
             0.2,
             "#de77ae"
            ],
            [
             0.3,
             "#f1b6da"
            ],
            [
             0.4,
             "#fde0ef"
            ],
            [
             0.5,
             "#f7f7f7"
            ],
            [
             0.6,
             "#e6f5d0"
            ],
            [
             0.7,
             "#b8e186"
            ],
            [
             0.8,
             "#7fbc41"
            ],
            [
             0.9,
             "#4d9221"
            ],
            [
             1,
             "#276419"
            ]
           ],
           "sequential": [
            [
             0,
             "#0d0887"
            ],
            [
             0.1111111111111111,
             "#46039f"
            ],
            [
             0.2222222222222222,
             "#7201a8"
            ],
            [
             0.3333333333333333,
             "#9c179e"
            ],
            [
             0.4444444444444444,
             "#bd3786"
            ],
            [
             0.5555555555555556,
             "#d8576b"
            ],
            [
             0.6666666666666666,
             "#ed7953"
            ],
            [
             0.7777777777777778,
             "#fb9f3a"
            ],
            [
             0.8888888888888888,
             "#fdca26"
            ],
            [
             1,
             "#f0f921"
            ]
           ],
           "sequentialminus": [
            [
             0,
             "#0d0887"
            ],
            [
             0.1111111111111111,
             "#46039f"
            ],
            [
             0.2222222222222222,
             "#7201a8"
            ],
            [
             0.3333333333333333,
             "#9c179e"
            ],
            [
             0.4444444444444444,
             "#bd3786"
            ],
            [
             0.5555555555555556,
             "#d8576b"
            ],
            [
             0.6666666666666666,
             "#ed7953"
            ],
            [
             0.7777777777777778,
             "#fb9f3a"
            ],
            [
             0.8888888888888888,
             "#fdca26"
            ],
            [
             1,
             "#f0f921"
            ]
           ]
          },
          "colorway": [
           "#636efa",
           "#EF553B",
           "#00cc96",
           "#ab63fa",
           "#FFA15A",
           "#19d3f3",
           "#FF6692",
           "#B6E880",
           "#FF97FF",
           "#FECB52"
          ],
          "font": {
           "color": "#2a3f5f"
          },
          "geo": {
           "bgcolor": "white",
           "lakecolor": "white",
           "landcolor": "#E5ECF6",
           "showlakes": true,
           "showland": true,
           "subunitcolor": "white"
          },
          "hoverlabel": {
           "align": "left"
          },
          "hovermode": "closest",
          "mapbox": {
           "style": "light"
          },
          "paper_bgcolor": "white",
          "plot_bgcolor": "#E5ECF6",
          "polar": {
           "angularaxis": {
            "gridcolor": "white",
            "linecolor": "white",
            "ticks": ""
           },
           "bgcolor": "#E5ECF6",
           "radialaxis": {
            "gridcolor": "white",
            "linecolor": "white",
            "ticks": ""
           }
          },
          "scene": {
           "xaxis": {
            "backgroundcolor": "#E5ECF6",
            "gridcolor": "white",
            "gridwidth": 2,
            "linecolor": "white",
            "showbackground": true,
            "ticks": "",
            "zerolinecolor": "white"
           },
           "yaxis": {
            "backgroundcolor": "#E5ECF6",
            "gridcolor": "white",
            "gridwidth": 2,
            "linecolor": "white",
            "showbackground": true,
            "ticks": "",
            "zerolinecolor": "white"
           },
           "zaxis": {
            "backgroundcolor": "#E5ECF6",
            "gridcolor": "white",
            "gridwidth": 2,
            "linecolor": "white",
            "showbackground": true,
            "ticks": "",
            "zerolinecolor": "white"
           }
          },
          "shapedefaults": {
           "line": {
            "color": "#2a3f5f"
           }
          },
          "ternary": {
           "aaxis": {
            "gridcolor": "white",
            "linecolor": "white",
            "ticks": ""
           },
           "baxis": {
            "gridcolor": "white",
            "linecolor": "white",
            "ticks": ""
           },
           "bgcolor": "#E5ECF6",
           "caxis": {
            "gridcolor": "white",
            "linecolor": "white",
            "ticks": ""
           }
          },
          "title": {
           "x": 0.05
          },
          "xaxis": {
           "automargin": true,
           "gridcolor": "white",
           "linecolor": "white",
           "ticks": "",
           "title": {
            "standoff": 15
           },
           "zerolinecolor": "white",
           "zerolinewidth": 2
          },
          "yaxis": {
           "automargin": true,
           "gridcolor": "white",
           "linecolor": "white",
           "ticks": "",
           "title": {
            "standoff": 15
           },
           "zerolinecolor": "white",
           "zerolinewidth": 2
          }
         }
        },
        "title": {
         "text": "Quantidade de movimentações do tribunal"
        },
        "updatemenus": [
         {
          "buttons": [
           {
            "args": [
             {
              "type": "scatter",
              "x": [
               [
                "1972-07-31T00:00:00",
                "1986-11-30T00:00:00",
                "1987-01-31T00:00:00",
                "1987-04-30T00:00:00",
                "1987-05-31T00:00:00",
                "1987-09-30T00:00:00",
                "1987-10-31T00:00:00",
                "1987-11-30T00:00:00",
                "1988-01-31T00:00:00",
                "1988-03-31T00:00:00",
                "1988-05-31T00:00:00",
                "1988-07-31T00:00:00",
                "1988-09-30T00:00:00",
                "1988-12-31T00:00:00",
                "1989-02-28T00:00:00",
                "1989-07-31T00:00:00",
                "1989-08-31T00:00:00",
                "1989-11-30T00:00:00",
                "1990-01-31T00:00:00",
                "1990-03-31T00:00:00",
                "1990-04-30T00:00:00",
                "1990-05-31T00:00:00",
                "1990-06-30T00:00:00",
                "1990-07-31T00:00:00",
                "1990-08-31T00:00:00",
                "1991-08-31T00:00:00",
                "1993-02-28T00:00:00",
                "1993-03-31T00:00:00",
                "1993-04-30T00:00:00",
                "1993-05-31T00:00:00",
                "1993-06-30T00:00:00",
                "1993-07-31T00:00:00",
                "1993-08-31T00:00:00",
                "1993-09-30T00:00:00",
                "1993-11-30T00:00:00",
                "1993-12-31T00:00:00",
                "1994-01-31T00:00:00",
                "1994-02-28T00:00:00",
                "1994-03-31T00:00:00",
                "1994-04-30T00:00:00",
                "1994-05-31T00:00:00",
                "1994-06-30T00:00:00",
                "1994-07-31T00:00:00",
                "1994-08-31T00:00:00",
                "1994-09-30T00:00:00",
                "1994-10-31T00:00:00",
                "1994-11-30T00:00:00",
                "1994-12-31T00:00:00",
                "1995-01-31T00:00:00",
                "1995-02-28T00:00:00",
                "1995-03-31T00:00:00",
                "1995-04-30T00:00:00",
                "1995-05-31T00:00:00",
                "1995-06-30T00:00:00",
                "1995-07-31T00:00:00",
                "1995-08-31T00:00:00",
                "1995-09-30T00:00:00",
                "1995-10-31T00:00:00",
                "1995-11-30T00:00:00",
                "1995-12-31T00:00:00",
                "1996-01-31T00:00:00",
                "1996-02-29T00:00:00",
                "1996-03-31T00:00:00",
                "1996-04-30T00:00:00",
                "1996-05-31T00:00:00",
                "1996-06-30T00:00:00",
                "1996-07-31T00:00:00",
                "1996-08-31T00:00:00",
                "1996-09-30T00:00:00",
                "1996-10-31T00:00:00",
                "1996-11-30T00:00:00",
                "1996-12-31T00:00:00",
                "1997-01-31T00:00:00",
                "1997-02-28T00:00:00",
                "1997-03-31T00:00:00",
                "1997-04-30T00:00:00",
                "1997-05-31T00:00:00",
                "1997-06-30T00:00:00",
                "1997-07-31T00:00:00",
                "1997-08-31T00:00:00",
                "1997-09-30T00:00:00",
                "1997-10-31T00:00:00",
                "1997-11-30T00:00:00",
                "1997-12-31T00:00:00",
                "1998-01-31T00:00:00",
                "1998-02-28T00:00:00",
                "1998-03-31T00:00:00",
                "1998-04-30T00:00:00",
                "1998-05-31T00:00:00",
                "1998-06-30T00:00:00",
                "1998-07-31T00:00:00",
                "1998-08-31T00:00:00",
                "1998-09-30T00:00:00",
                "1998-10-31T00:00:00",
                "1998-11-30T00:00:00",
                "1998-12-31T00:00:00",
                "1999-01-31T00:00:00",
                "1999-02-28T00:00:00",
                "1999-03-31T00:00:00",
                "1999-04-30T00:00:00",
                "1999-05-31T00:00:00",
                "1999-06-30T00:00:00",
                "1999-07-31T00:00:00",
                "1999-08-31T00:00:00",
                "1999-09-30T00:00:00",
                "1999-10-31T00:00:00",
                "1999-11-30T00:00:00",
                "1999-12-31T00:00:00",
                "2000-01-31T00:00:00",
                "2000-02-29T00:00:00",
                "2000-03-31T00:00:00",
                "2000-04-30T00:00:00",
                "2000-05-31T00:00:00",
                "2000-06-30T00:00:00",
                "2000-07-31T00:00:00",
                "2000-08-31T00:00:00",
                "2000-09-30T00:00:00",
                "2000-10-31T00:00:00",
                "2000-11-30T00:00:00",
                "2000-12-31T00:00:00",
                "2001-01-31T00:00:00",
                "2001-02-28T00:00:00",
                "2001-03-31T00:00:00",
                "2001-04-30T00:00:00",
                "2001-05-31T00:00:00",
                "2001-06-30T00:00:00",
                "2001-07-31T00:00:00",
                "2001-08-31T00:00:00",
                "2001-09-30T00:00:00",
                "2001-10-31T00:00:00",
                "2001-11-30T00:00:00",
                "2001-12-31T00:00:00",
                "2002-01-31T00:00:00",
                "2002-02-28T00:00:00",
                "2002-03-31T00:00:00",
                "2002-04-30T00:00:00",
                "2002-05-31T00:00:00",
                "2002-06-30T00:00:00",
                "2002-07-31T00:00:00",
                "2002-08-31T00:00:00",
                "2002-09-30T00:00:00",
                "2002-10-31T00:00:00",
                "2002-11-30T00:00:00",
                "2002-12-31T00:00:00",
                "2003-01-31T00:00:00",
                "2003-02-28T00:00:00",
                "2003-03-31T00:00:00",
                "2003-04-30T00:00:00",
                "2003-05-31T00:00:00",
                "2003-06-30T00:00:00",
                "2003-07-31T00:00:00",
                "2003-08-31T00:00:00",
                "2003-09-30T00:00:00",
                "2003-10-31T00:00:00",
                "2003-11-30T00:00:00",
                "2003-12-31T00:00:00",
                "2004-01-31T00:00:00",
                "2004-02-29T00:00:00",
                "2004-03-31T00:00:00",
                "2004-04-30T00:00:00",
                "2004-05-31T00:00:00",
                "2004-06-30T00:00:00",
                "2004-07-31T00:00:00",
                "2004-08-31T00:00:00",
                "2004-09-30T00:00:00",
                "2004-10-31T00:00:00",
                "2004-11-30T00:00:00",
                "2004-12-31T00:00:00",
                "2005-01-31T00:00:00",
                "2005-02-28T00:00:00",
                "2005-03-31T00:00:00",
                "2005-04-30T00:00:00",
                "2005-05-31T00:00:00",
                "2005-06-30T00:00:00",
                "2005-07-31T00:00:00",
                "2005-08-31T00:00:00",
                "2005-09-30T00:00:00",
                "2005-10-31T00:00:00",
                "2005-11-30T00:00:00",
                "2005-12-31T00:00:00",
                "2006-01-31T00:00:00",
                "2006-02-28T00:00:00",
                "2006-03-31T00:00:00",
                "2006-04-30T00:00:00",
                "2006-05-31T00:00:00",
                "2006-06-30T00:00:00",
                "2006-07-31T00:00:00",
                "2006-08-31T00:00:00",
                "2006-09-30T00:00:00",
                "2006-10-31T00:00:00",
                "2006-11-30T00:00:00",
                "2006-12-31T00:00:00",
                "2007-01-31T00:00:00",
                "2007-02-28T00:00:00",
                "2007-03-31T00:00:00",
                "2007-04-30T00:00:00",
                "2007-05-31T00:00:00",
                "2007-06-30T00:00:00",
                "2007-07-31T00:00:00",
                "2007-08-31T00:00:00",
                "2007-09-30T00:00:00",
                "2007-10-31T00:00:00",
                "2007-11-30T00:00:00",
                "2007-12-31T00:00:00",
                "2008-01-31T00:00:00",
                "2008-02-29T00:00:00",
                "2008-03-31T00:00:00",
                "2008-04-30T00:00:00",
                "2008-05-31T00:00:00",
                "2008-06-30T00:00:00",
                "2008-07-31T00:00:00",
                "2008-08-31T00:00:00",
                "2008-09-30T00:00:00",
                "2008-10-31T00:00:00",
                "2008-11-30T00:00:00",
                "2008-12-31T00:00:00",
                "2009-01-31T00:00:00",
                "2009-02-28T00:00:00",
                "2009-03-31T00:00:00",
                "2009-04-30T00:00:00",
                "2009-05-31T00:00:00",
                "2009-06-30T00:00:00",
                "2009-07-31T00:00:00",
                "2009-08-31T00:00:00",
                "2009-09-30T00:00:00",
                "2009-10-31T00:00:00",
                "2009-11-30T00:00:00",
                "2009-12-31T00:00:00",
                "2010-01-31T00:00:00",
                "2010-02-28T00:00:00",
                "2010-03-31T00:00:00",
                "2010-04-30T00:00:00",
                "2010-05-31T00:00:00",
                "2010-06-30T00:00:00",
                "2010-07-31T00:00:00",
                "2010-08-31T00:00:00",
                "2010-09-30T00:00:00",
                "2010-10-31T00:00:00",
                "2010-11-30T00:00:00",
                "2010-12-31T00:00:00",
                "2011-01-31T00:00:00",
                "2011-02-28T00:00:00",
                "2011-03-31T00:00:00",
                "2011-04-30T00:00:00",
                "2011-05-31T00:00:00",
                "2011-06-30T00:00:00",
                "2011-07-31T00:00:00",
                "2011-08-31T00:00:00",
                "2011-09-30T00:00:00",
                "2011-10-31T00:00:00",
                "2011-11-30T00:00:00",
                "2011-12-31T00:00:00",
                "2012-01-31T00:00:00",
                "2012-02-29T00:00:00",
                "2012-03-31T00:00:00",
                "2012-04-30T00:00:00",
                "2012-05-31T00:00:00",
                "2012-06-30T00:00:00",
                "2012-07-31T00:00:00",
                "2012-08-31T00:00:00",
                "2012-09-30T00:00:00",
                "2012-10-31T00:00:00",
                "2012-11-30T00:00:00",
                "2012-12-31T00:00:00",
                "2013-01-31T00:00:00",
                "2013-02-28T00:00:00",
                "2013-03-31T00:00:00",
                "2013-04-30T00:00:00",
                "2013-05-31T00:00:00",
                "2013-06-30T00:00:00",
                "2013-07-31T00:00:00",
                "2013-08-31T00:00:00",
                "2013-09-30T00:00:00",
                "2013-10-31T00:00:00",
                "2013-11-30T00:00:00",
                "2013-12-31T00:00:00",
                "2014-01-31T00:00:00",
                "2014-02-28T00:00:00",
                "2014-03-31T00:00:00",
                "2014-04-30T00:00:00",
                "2014-05-31T00:00:00",
                "2014-06-30T00:00:00",
                "2014-07-31T00:00:00",
                "2014-08-31T00:00:00",
                "2014-09-30T00:00:00",
                "2014-10-31T00:00:00",
                "2014-11-30T00:00:00",
                "2014-12-31T00:00:00",
                "2015-01-31T00:00:00",
                "2015-02-28T00:00:00",
                "2015-03-31T00:00:00",
                "2015-04-30T00:00:00",
                "2015-05-31T00:00:00",
                "2015-06-30T00:00:00",
                "2015-07-31T00:00:00",
                "2015-08-31T00:00:00",
                "2015-09-30T00:00:00",
                "2015-10-31T00:00:00",
                "2015-11-30T00:00:00",
                "2015-12-31T00:00:00",
                "2016-01-31T00:00:00",
                "2016-02-29T00:00:00",
                "2016-03-31T00:00:00",
                "2016-04-30T00:00:00",
                "2016-05-31T00:00:00",
                "2016-06-30T00:00:00",
                "2016-07-31T00:00:00",
                "2016-08-31T00:00:00",
                "2016-09-30T00:00:00",
                "2016-10-31T00:00:00",
                "2016-11-30T00:00:00",
                "2016-12-31T00:00:00",
                "2017-01-31T00:00:00",
                "2017-02-28T00:00:00",
                "2017-03-31T00:00:00",
                "2017-04-30T00:00:00",
                "2017-05-31T00:00:00",
                "2017-06-30T00:00:00",
                "2017-07-31T00:00:00",
                "2017-08-31T00:00:00",
                "2017-09-30T00:00:00",
                "2017-10-31T00:00:00",
                "2017-11-30T00:00:00",
                "2017-12-31T00:00:00",
                "2018-01-31T00:00:00",
                "2018-02-28T00:00:00",
                "2018-03-31T00:00:00",
                "2018-04-30T00:00:00",
                "2018-05-31T00:00:00",
                "2018-06-30T00:00:00",
                "2018-07-31T00:00:00",
                "2018-08-31T00:00:00",
                "2018-09-30T00:00:00",
                "2018-10-31T00:00:00",
                "2018-11-30T00:00:00",
                "2018-12-31T00:00:00",
                "2019-01-31T00:00:00",
                "2019-02-28T00:00:00",
                "2019-03-31T00:00:00",
                "2019-04-30T00:00:00",
                "2019-05-31T00:00:00",
                "2019-06-30T00:00:00",
                "2019-07-31T00:00:00",
                "2019-08-31T00:00:00",
                "2019-09-30T00:00:00",
                "2019-10-31T00:00:00",
                "2019-11-30T00:00:00",
                "2019-12-31T00:00:00",
                "2020-01-31T00:00:00",
                "2020-02-29T00:00:00",
                "2020-03-31T00:00:00",
                "2020-04-30T00:00:00",
                "2020-05-31T00:00:00",
                "2020-06-30T00:00:00",
                "2020-07-31T00:00:00"
               ]
              ],
              "y": [
               [
                null,
                null,
                null,
                null,
                null,
                null,
                null,
                null,
                null,
                null,
                null,
                null,
                null,
                null,
                null,
                null,
                null,
                null,
                null,
                null,
                null,
                null,
                null,
                null,
                null,
                null,
                null,
                null,
                null,
                null,
                null,
                null,
                null,
                null,
                null,
                null,
                null,
                1,
                null,
                null,
                null,
                null,
                null,
                null,
                null,
                null,
                null,
                null,
                null,
                null,
                null,
                null,
                null,
                null,
                null,
                null,
                1,
                null,
                null,
                null,
                null,
                null,
                null,
                null,
                null,
                null,
                null,
                null,
                null,
                null,
                null,
                null,
                null,
                null,
                null,
                null,
                1,
                null,
                1,
                2,
                5,
                3,
                6,
                5,
                8,
                3,
                15,
                19,
                25,
                33,
                15,
                17,
                50,
                74,
                82,
                57,
                34,
                66,
                93,
                92,
                83,
                65,
                50,
                116,
                90,
                100,
                95,
                77,
                36,
                115,
                95,
                109,
                175,
                102,
                159,
                147,
                110,
                148,
                155,
                115,
                66,
                112,
                165,
                187,
                158,
                215,
                151,
                367,
                328,
                623,
                568,
                622,
                706,
                603,
                943,
                993,
                806,
                837,
                727,
                1322,
                1023,
                1151,
                938,
                968,
                648,
                848,
                798,
                747,
                1210,
                1011,
                765,
                1096,
                1143,
                1142,
                1118,
                934,
                891,
                1041,
                1431,
                1073,
                1295,
                1216,
                908,
                1521,
                1249,
                1114,
                1197,
                1266,
                639,
                911,
                1200,
                1015,
                1164,
                1115,
                849,
                1174,
                1317,
                1152,
                1072,
                773,
                833,
                1200,
                1715,
                1018,
                1411,
                1024,
                1029,
                1283,
                1205,
                1355,
                1196,
                769,
                860,
                1225,
                1716,
                1282,
                1523,
                1337,
                1221,
                1447,
                1285,
                1339,
                1203,
                802,
                974,
                1133,
                1547,
                1469,
                1279,
                1540,
                1430,
                1431,
                1607,
                1662,
                1444,
                886,
                999,
                1190,
                1685,
                1088,
                1433,
                1358,
                1442,
                1417,
                1524,
                1122,
                1055,
                562,
                2292,
                3470,
                5171,
                6446,
                10150,
                8624,
                7007,
                6886,
                6340,
                5756,
                5595,
                3576,
                4283,
                5872,
                5724,
                4890,
                6098,
                5777,
                5850,
                7147,
                5592,
                4799,
                4746,
                2619,
                3789,
                3979,
                5316,
                3796,
                5189,
                4267,
                4493,
                4831,
                4044,
                4591,
                3864,
                2477,
                3267,
                2920,
                3160,
                3488,
                3699,
                3704,
                3861,
                3844,
                3676,
                3902,
                3358,
                2361,
                2782,
                3425,
                3200,
                2917,
                3448,
                2886,
                3585,
                3350,
                3327,
                3353,
                3257,
                2318,
                2734,
                3018,
                3935,
                2784,
                4050,
                3747,
                3859,
                3780,
                3254,
                3077,
                2901,
                1841,
                3089,
                3289,
                3182,
                3041,
                3407,
                3493,
                3006,
                3349,
                3280,
                3034,
                2902,
                2047,
                2439,
                2976,
                3674,
                2780,
                4034,
                4007,
                3782,
                4598,
                3816,
                3697,
                3171,
                2181,
                2828,
                3066,
                3682,
                4354,
                4019,
                3920,
                3842,
                4552,
                3999,
                4681,
                3832,
                2605,
                3703,
                4477,
                4191,
                4201,
                4752,
                3939,
                4903,
                4723,
                4831,
                4973,
                4338,
                2961,
                3478,
                3806,
                6129,
                6497,
                3307,
                2402,
                1886
               ]
              ]
             },
             [
              0
             ]
            ],
            "label": "TJMG",
            "method": "restyle",
            "visible": true
           },
           {
            "args": [
             {
              "type": "scatter",
              "x": [
               [
                "1972-07-31T00:00:00",
                "1986-11-30T00:00:00",
                "1987-01-31T00:00:00",
                "1987-04-30T00:00:00",
                "1987-05-31T00:00:00",
                "1987-09-30T00:00:00",
                "1987-10-31T00:00:00",
                "1987-11-30T00:00:00",
                "1988-01-31T00:00:00",
                "1988-03-31T00:00:00",
                "1988-05-31T00:00:00",
                "1988-07-31T00:00:00",
                "1988-09-30T00:00:00",
                "1988-12-31T00:00:00",
                "1989-02-28T00:00:00",
                "1989-07-31T00:00:00",
                "1989-08-31T00:00:00",
                "1989-11-30T00:00:00",
                "1990-01-31T00:00:00",
                "1990-03-31T00:00:00",
                "1990-04-30T00:00:00",
                "1990-05-31T00:00:00",
                "1990-06-30T00:00:00",
                "1990-07-31T00:00:00",
                "1990-08-31T00:00:00",
                "1991-08-31T00:00:00",
                "1993-02-28T00:00:00",
                "1993-03-31T00:00:00",
                "1993-04-30T00:00:00",
                "1993-05-31T00:00:00",
                "1993-06-30T00:00:00",
                "1993-07-31T00:00:00",
                "1993-08-31T00:00:00",
                "1993-09-30T00:00:00",
                "1993-11-30T00:00:00",
                "1993-12-31T00:00:00",
                "1994-01-31T00:00:00",
                "1994-02-28T00:00:00",
                "1994-03-31T00:00:00",
                "1994-04-30T00:00:00",
                "1994-05-31T00:00:00",
                "1994-06-30T00:00:00",
                "1994-07-31T00:00:00",
                "1994-08-31T00:00:00",
                "1994-09-30T00:00:00",
                "1994-10-31T00:00:00",
                "1994-11-30T00:00:00",
                "1994-12-31T00:00:00",
                "1995-01-31T00:00:00",
                "1995-02-28T00:00:00",
                "1995-03-31T00:00:00",
                "1995-04-30T00:00:00",
                "1995-05-31T00:00:00",
                "1995-06-30T00:00:00",
                "1995-07-31T00:00:00",
                "1995-08-31T00:00:00",
                "1995-09-30T00:00:00",
                "1995-10-31T00:00:00",
                "1995-11-30T00:00:00",
                "1995-12-31T00:00:00",
                "1996-01-31T00:00:00",
                "1996-02-29T00:00:00",
                "1996-03-31T00:00:00",
                "1996-04-30T00:00:00",
                "1996-05-31T00:00:00",
                "1996-06-30T00:00:00",
                "1996-07-31T00:00:00",
                "1996-08-31T00:00:00",
                "1996-09-30T00:00:00",
                "1996-10-31T00:00:00",
                "1996-11-30T00:00:00",
                "1996-12-31T00:00:00",
                "1997-01-31T00:00:00",
                "1997-02-28T00:00:00",
                "1997-03-31T00:00:00",
                "1997-04-30T00:00:00",
                "1997-05-31T00:00:00",
                "1997-06-30T00:00:00",
                "1997-07-31T00:00:00",
                "1997-08-31T00:00:00",
                "1997-09-30T00:00:00",
                "1997-10-31T00:00:00",
                "1997-11-30T00:00:00",
                "1997-12-31T00:00:00",
                "1998-01-31T00:00:00",
                "1998-02-28T00:00:00",
                "1998-03-31T00:00:00",
                "1998-04-30T00:00:00",
                "1998-05-31T00:00:00",
                "1998-06-30T00:00:00",
                "1998-07-31T00:00:00",
                "1998-08-31T00:00:00",
                "1998-09-30T00:00:00",
                "1998-10-31T00:00:00",
                "1998-11-30T00:00:00",
                "1998-12-31T00:00:00",
                "1999-01-31T00:00:00",
                "1999-02-28T00:00:00",
                "1999-03-31T00:00:00",
                "1999-04-30T00:00:00",
                "1999-05-31T00:00:00",
                "1999-06-30T00:00:00",
                "1999-07-31T00:00:00",
                "1999-08-31T00:00:00",
                "1999-09-30T00:00:00",
                "1999-10-31T00:00:00",
                "1999-11-30T00:00:00",
                "1999-12-31T00:00:00",
                "2000-01-31T00:00:00",
                "2000-02-29T00:00:00",
                "2000-03-31T00:00:00",
                "2000-04-30T00:00:00",
                "2000-05-31T00:00:00",
                "2000-06-30T00:00:00",
                "2000-07-31T00:00:00",
                "2000-08-31T00:00:00",
                "2000-09-30T00:00:00",
                "2000-10-31T00:00:00",
                "2000-11-30T00:00:00",
                "2000-12-31T00:00:00",
                "2001-01-31T00:00:00",
                "2001-02-28T00:00:00",
                "2001-03-31T00:00:00",
                "2001-04-30T00:00:00",
                "2001-05-31T00:00:00",
                "2001-06-30T00:00:00",
                "2001-07-31T00:00:00",
                "2001-08-31T00:00:00",
                "2001-09-30T00:00:00",
                "2001-10-31T00:00:00",
                "2001-11-30T00:00:00",
                "2001-12-31T00:00:00",
                "2002-01-31T00:00:00",
                "2002-02-28T00:00:00",
                "2002-03-31T00:00:00",
                "2002-04-30T00:00:00",
                "2002-05-31T00:00:00",
                "2002-06-30T00:00:00",
                "2002-07-31T00:00:00",
                "2002-08-31T00:00:00",
                "2002-09-30T00:00:00",
                "2002-10-31T00:00:00",
                "2002-11-30T00:00:00",
                "2002-12-31T00:00:00",
                "2003-01-31T00:00:00",
                "2003-02-28T00:00:00",
                "2003-03-31T00:00:00",
                "2003-04-30T00:00:00",
                "2003-05-31T00:00:00",
                "2003-06-30T00:00:00",
                "2003-07-31T00:00:00",
                "2003-08-31T00:00:00",
                "2003-09-30T00:00:00",
                "2003-10-31T00:00:00",
                "2003-11-30T00:00:00",
                "2003-12-31T00:00:00",
                "2004-01-31T00:00:00",
                "2004-02-29T00:00:00",
                "2004-03-31T00:00:00",
                "2004-04-30T00:00:00",
                "2004-05-31T00:00:00",
                "2004-06-30T00:00:00",
                "2004-07-31T00:00:00",
                "2004-08-31T00:00:00",
                "2004-09-30T00:00:00",
                "2004-10-31T00:00:00",
                "2004-11-30T00:00:00",
                "2004-12-31T00:00:00",
                "2005-01-31T00:00:00",
                "2005-02-28T00:00:00",
                "2005-03-31T00:00:00",
                "2005-04-30T00:00:00",
                "2005-05-31T00:00:00",
                "2005-06-30T00:00:00",
                "2005-07-31T00:00:00",
                "2005-08-31T00:00:00",
                "2005-09-30T00:00:00",
                "2005-10-31T00:00:00",
                "2005-11-30T00:00:00",
                "2005-12-31T00:00:00",
                "2006-01-31T00:00:00",
                "2006-02-28T00:00:00",
                "2006-03-31T00:00:00",
                "2006-04-30T00:00:00",
                "2006-05-31T00:00:00",
                "2006-06-30T00:00:00",
                "2006-07-31T00:00:00",
                "2006-08-31T00:00:00",
                "2006-09-30T00:00:00",
                "2006-10-31T00:00:00",
                "2006-11-30T00:00:00",
                "2006-12-31T00:00:00",
                "2007-01-31T00:00:00",
                "2007-02-28T00:00:00",
                "2007-03-31T00:00:00",
                "2007-04-30T00:00:00",
                "2007-05-31T00:00:00",
                "2007-06-30T00:00:00",
                "2007-07-31T00:00:00",
                "2007-08-31T00:00:00",
                "2007-09-30T00:00:00",
                "2007-10-31T00:00:00",
                "2007-11-30T00:00:00",
                "2007-12-31T00:00:00",
                "2008-01-31T00:00:00",
                "2008-02-29T00:00:00",
                "2008-03-31T00:00:00",
                "2008-04-30T00:00:00",
                "2008-05-31T00:00:00",
                "2008-06-30T00:00:00",
                "2008-07-31T00:00:00",
                "2008-08-31T00:00:00",
                "2008-09-30T00:00:00",
                "2008-10-31T00:00:00",
                "2008-11-30T00:00:00",
                "2008-12-31T00:00:00",
                "2009-01-31T00:00:00",
                "2009-02-28T00:00:00",
                "2009-03-31T00:00:00",
                "2009-04-30T00:00:00",
                "2009-05-31T00:00:00",
                "2009-06-30T00:00:00",
                "2009-07-31T00:00:00",
                "2009-08-31T00:00:00",
                "2009-09-30T00:00:00",
                "2009-10-31T00:00:00",
                "2009-11-30T00:00:00",
                "2009-12-31T00:00:00",
                "2010-01-31T00:00:00",
                "2010-02-28T00:00:00",
                "2010-03-31T00:00:00",
                "2010-04-30T00:00:00",
                "2010-05-31T00:00:00",
                "2010-06-30T00:00:00",
                "2010-07-31T00:00:00",
                "2010-08-31T00:00:00",
                "2010-09-30T00:00:00",
                "2010-10-31T00:00:00",
                "2010-11-30T00:00:00",
                "2010-12-31T00:00:00",
                "2011-01-31T00:00:00",
                "2011-02-28T00:00:00",
                "2011-03-31T00:00:00",
                "2011-04-30T00:00:00",
                "2011-05-31T00:00:00",
                "2011-06-30T00:00:00",
                "2011-07-31T00:00:00",
                "2011-08-31T00:00:00",
                "2011-09-30T00:00:00",
                "2011-10-31T00:00:00",
                "2011-11-30T00:00:00",
                "2011-12-31T00:00:00",
                "2012-01-31T00:00:00",
                "2012-02-29T00:00:00",
                "2012-03-31T00:00:00",
                "2012-04-30T00:00:00",
                "2012-05-31T00:00:00",
                "2012-06-30T00:00:00",
                "2012-07-31T00:00:00",
                "2012-08-31T00:00:00",
                "2012-09-30T00:00:00",
                "2012-10-31T00:00:00",
                "2012-11-30T00:00:00",
                "2012-12-31T00:00:00",
                "2013-01-31T00:00:00",
                "2013-02-28T00:00:00",
                "2013-03-31T00:00:00",
                "2013-04-30T00:00:00",
                "2013-05-31T00:00:00",
                "2013-06-30T00:00:00",
                "2013-07-31T00:00:00",
                "2013-08-31T00:00:00",
                "2013-09-30T00:00:00",
                "2013-10-31T00:00:00",
                "2013-11-30T00:00:00",
                "2013-12-31T00:00:00",
                "2014-01-31T00:00:00",
                "2014-02-28T00:00:00",
                "2014-03-31T00:00:00",
                "2014-04-30T00:00:00",
                "2014-05-31T00:00:00",
                "2014-06-30T00:00:00",
                "2014-07-31T00:00:00",
                "2014-08-31T00:00:00",
                "2014-09-30T00:00:00",
                "2014-10-31T00:00:00",
                "2014-11-30T00:00:00",
                "2014-12-31T00:00:00",
                "2015-01-31T00:00:00",
                "2015-02-28T00:00:00",
                "2015-03-31T00:00:00",
                "2015-04-30T00:00:00",
                "2015-05-31T00:00:00",
                "2015-06-30T00:00:00",
                "2015-07-31T00:00:00",
                "2015-08-31T00:00:00",
                "2015-09-30T00:00:00",
                "2015-10-31T00:00:00",
                "2015-11-30T00:00:00",
                "2015-12-31T00:00:00",
                "2016-01-31T00:00:00",
                "2016-02-29T00:00:00",
                "2016-03-31T00:00:00",
                "2016-04-30T00:00:00",
                "2016-05-31T00:00:00",
                "2016-06-30T00:00:00",
                "2016-07-31T00:00:00",
                "2016-08-31T00:00:00",
                "2016-09-30T00:00:00",
                "2016-10-31T00:00:00",
                "2016-11-30T00:00:00",
                "2016-12-31T00:00:00",
                "2017-01-31T00:00:00",
                "2017-02-28T00:00:00",
                "2017-03-31T00:00:00",
                "2017-04-30T00:00:00",
                "2017-05-31T00:00:00",
                "2017-06-30T00:00:00",
                "2017-07-31T00:00:00",
                "2017-08-31T00:00:00",
                "2017-09-30T00:00:00",
                "2017-10-31T00:00:00",
                "2017-11-30T00:00:00",
                "2017-12-31T00:00:00",
                "2018-01-31T00:00:00",
                "2018-02-28T00:00:00",
                "2018-03-31T00:00:00",
                "2018-04-30T00:00:00",
                "2018-05-31T00:00:00",
                "2018-06-30T00:00:00",
                "2018-07-31T00:00:00",
                "2018-08-31T00:00:00",
                "2018-09-30T00:00:00",
                "2018-10-31T00:00:00",
                "2018-11-30T00:00:00",
                "2018-12-31T00:00:00",
                "2019-01-31T00:00:00",
                "2019-02-28T00:00:00",
                "2019-03-31T00:00:00",
                "2019-04-30T00:00:00",
                "2019-05-31T00:00:00",
                "2019-06-30T00:00:00",
                "2019-07-31T00:00:00",
                "2019-08-31T00:00:00",
                "2019-09-30T00:00:00",
                "2019-10-31T00:00:00",
                "2019-11-30T00:00:00",
                "2019-12-31T00:00:00",
                "2020-01-31T00:00:00",
                "2020-02-29T00:00:00",
                "2020-03-31T00:00:00",
                "2020-04-30T00:00:00",
                "2020-05-31T00:00:00",
                "2020-06-30T00:00:00",
                "2020-07-31T00:00:00"
               ]
              ],
              "y": [
               [
                1,
                1,
                2,
                2,
                1,
                1,
                2,
                1,
                2,
                3,
                1,
                2,
                2,
                1,
                1,
                2,
                1,
                3,
                2,
                3,
                2,
                6,
                2,
                2,
                5,
                1,
                1,
                2,
                8,
                2,
                11,
                2,
                3,
                1,
                1,
                2,
                4,
                null,
                8,
                9,
                18,
                10,
                6,
                5,
                9,
                8,
                1,
                6,
                3,
                5,
                4,
                1,
                8,
                3,
                3,
                22,
                11,
                8,
                14,
                15,
                13,
                37,
                43,
                19,
                34,
                20,
                27,
                14,
                6,
                17,
                15,
                9,
                14,
                24,
                42,
                42,
                13,
                18,
                17,
                15,
                17,
                13,
                26,
                7,
                10,
                7,
                11,
                15,
                10,
                12,
                5,
                12,
                8,
                7,
                12,
                7,
                16,
                32,
                34,
                28,
                32,
                40,
                35,
                38,
                19,
                128,
                114,
                43,
                289,
                120,
                28,
                40,
                87,
                129,
                76,
                184,
                94,
                144,
                73,
                62,
                37,
                18,
                29,
                17,
                10,
                42,
                25,
                24,
                6,
                28,
                12,
                25,
                26,
                19,
                7,
                13,
                9,
                11,
                22,
                15,
                20,
                18,
                25,
                3,
                3,
                9,
                44,
                21,
                21,
                50,
                50,
                19,
                57,
                52,
                61,
                47,
                47,
                46,
                57,
                42,
                50,
                44,
                53,
                90,
                80,
                38,
                34,
                31,
                74,
                58,
                75,
                67,
                96,
                94,
                85,
                231,
                125,
                89,
                83,
                54,
                60,
                60,
                51,
                33,
                77,
                45,
                52,
                49,
                78,
                64,
                48,
                70,
                61,
                47,
                73,
                56,
                51,
                76,
                87,
                84,
                86,
                65,
                41,
                34,
                45,
                40,
                79,
                54,
                63,
                56,
                55,
                48,
                45,
                34,
                30,
                26,
                26,
                41,
                39,
                43,
                34,
                52,
                44,
                29,
                25,
                23,
                18,
                19,
                11,
                14,
                55,
                630,
                2300,
                758,
                68,
                366,
                2347,
                47,
                26,
                55,
                13,
                13,
                28,
                19,
                30,
                23,
                23,
                34,
                11,
                13,
                13,
                11,
                6,
                22,
                20,
                16,
                26,
                8,
                23,
                20,
                36,
                556,
                24,
                11,
                1278,
                7,
                86,
                330,
                2184,
                57,
                50,
                35,
                33,
                17,
                15,
                14,
                21,
                23,
                17,
                13,
                24,
                15,
                18,
                24,
                23,
                290,
                25,
                7,
                20,
                16,
                15,
                40,
                24,
                36,
                23,
                36,
                23,
                16,
                21,
                14,
                37,
                39,
                23,
                13,
                41,
                36,
                72,
                42,
                31,
                47,
                19,
                8,
                38,
                17,
                32,
                37,
                46,
                23,
                34,
                14,
                11,
                41,
                13,
                13,
                5,
                14,
                35,
                25,
                21,
                10,
                15,
                34,
                6,
                35,
                16,
                9,
                21,
                26,
                6,
                4,
                25,
                25,
                40,
                49,
                74,
                74,
                88,
                98,
                67,
                3,
                2293,
                1419,
                768,
                2087,
                null
               ]
              ]
             },
             [
              0
             ]
            ],
            "label": "TJRJ",
            "method": "restyle",
            "visible": true
           }
          ],
          "direction": "down",
          "showactive": true
         }
        ],
        "xaxis": {
         "title": {
          "text": "Data"
         }
        },
        "yaxis": {
         "title": {
          "text": "Quantidade de movimentações"
         }
        }
       }
      },
      "text/html": [
       "<div>                            <div id=\"1dc22b2e-3152-4bc4-9631-7e8ae4a1cac6\" class=\"plotly-graph-div\" style=\"height:525px; width:100%;\"></div>            <script type=\"text/javascript\">                require([\"plotly\"], function(Plotly) {                    window.PLOTLYENV=window.PLOTLYENV || {};                                    if (document.getElementById(\"1dc22b2e-3152-4bc4-9631-7e8ae4a1cac6\")) {                    Plotly.newPlot(                        \"1dc22b2e-3152-4bc4-9631-7e8ae4a1cac6\",                        [{\"type\": \"scatter\", \"visible\": true, \"x\": [\"1972-07-31T00:00:00\", \"1986-11-30T00:00:00\", \"1987-01-31T00:00:00\", \"1987-04-30T00:00:00\", \"1987-05-31T00:00:00\", \"1987-09-30T00:00:00\", \"1987-10-31T00:00:00\", \"1987-11-30T00:00:00\", \"1988-01-31T00:00:00\", \"1988-03-31T00:00:00\", \"1988-05-31T00:00:00\", \"1988-07-31T00:00:00\", \"1988-09-30T00:00:00\", \"1988-12-31T00:00:00\", \"1989-02-28T00:00:00\", \"1989-07-31T00:00:00\", \"1989-08-31T00:00:00\", \"1989-11-30T00:00:00\", \"1990-01-31T00:00:00\", \"1990-03-31T00:00:00\", \"1990-04-30T00:00:00\", \"1990-05-31T00:00:00\", \"1990-06-30T00:00:00\", \"1990-07-31T00:00:00\", \"1990-08-31T00:00:00\", \"1991-08-31T00:00:00\", \"1993-02-28T00:00:00\", \"1993-03-31T00:00:00\", \"1993-04-30T00:00:00\", \"1993-05-31T00:00:00\", \"1993-06-30T00:00:00\", \"1993-07-31T00:00:00\", \"1993-08-31T00:00:00\", \"1993-09-30T00:00:00\", \"1993-11-30T00:00:00\", \"1993-12-31T00:00:00\", \"1994-01-31T00:00:00\", \"1994-02-28T00:00:00\", \"1994-03-31T00:00:00\", \"1994-04-30T00:00:00\", \"1994-05-31T00:00:00\", \"1994-06-30T00:00:00\", \"1994-07-31T00:00:00\", \"1994-08-31T00:00:00\", \"1994-09-30T00:00:00\", \"1994-10-31T00:00:00\", \"1994-11-30T00:00:00\", \"1994-12-31T00:00:00\", \"1995-01-31T00:00:00\", \"1995-02-28T00:00:00\", \"1995-03-31T00:00:00\", \"1995-04-30T00:00:00\", \"1995-05-31T00:00:00\", \"1995-06-30T00:00:00\", \"1995-07-31T00:00:00\", \"1995-08-31T00:00:00\", \"1995-09-30T00:00:00\", \"1995-10-31T00:00:00\", \"1995-11-30T00:00:00\", \"1995-12-31T00:00:00\", \"1996-01-31T00:00:00\", \"1996-02-29T00:00:00\", \"1996-03-31T00:00:00\", \"1996-04-30T00:00:00\", \"1996-05-31T00:00:00\", \"1996-06-30T00:00:00\", \"1996-07-31T00:00:00\", \"1996-08-31T00:00:00\", \"1996-09-30T00:00:00\", \"1996-10-31T00:00:00\", \"1996-11-30T00:00:00\", \"1996-12-31T00:00:00\", \"1997-01-31T00:00:00\", \"1997-02-28T00:00:00\", \"1997-03-31T00:00:00\", \"1997-04-30T00:00:00\", \"1997-05-31T00:00:00\", \"1997-06-30T00:00:00\", \"1997-07-31T00:00:00\", \"1997-08-31T00:00:00\", \"1997-09-30T00:00:00\", \"1997-10-31T00:00:00\", \"1997-11-30T00:00:00\", \"1997-12-31T00:00:00\", \"1998-01-31T00:00:00\", \"1998-02-28T00:00:00\", \"1998-03-31T00:00:00\", \"1998-04-30T00:00:00\", \"1998-05-31T00:00:00\", \"1998-06-30T00:00:00\", \"1998-07-31T00:00:00\", \"1998-08-31T00:00:00\", \"1998-09-30T00:00:00\", \"1998-10-31T00:00:00\", \"1998-11-30T00:00:00\", \"1998-12-31T00:00:00\", \"1999-01-31T00:00:00\", \"1999-02-28T00:00:00\", \"1999-03-31T00:00:00\", \"1999-04-30T00:00:00\", \"1999-05-31T00:00:00\", \"1999-06-30T00:00:00\", \"1999-07-31T00:00:00\", \"1999-08-31T00:00:00\", \"1999-09-30T00:00:00\", \"1999-10-31T00:00:00\", \"1999-11-30T00:00:00\", \"1999-12-31T00:00:00\", \"2000-01-31T00:00:00\", \"2000-02-29T00:00:00\", \"2000-03-31T00:00:00\", \"2000-04-30T00:00:00\", \"2000-05-31T00:00:00\", \"2000-06-30T00:00:00\", \"2000-07-31T00:00:00\", \"2000-08-31T00:00:00\", \"2000-09-30T00:00:00\", \"2000-10-31T00:00:00\", \"2000-11-30T00:00:00\", \"2000-12-31T00:00:00\", \"2001-01-31T00:00:00\", \"2001-02-28T00:00:00\", \"2001-03-31T00:00:00\", \"2001-04-30T00:00:00\", \"2001-05-31T00:00:00\", \"2001-06-30T00:00:00\", \"2001-07-31T00:00:00\", \"2001-08-31T00:00:00\", \"2001-09-30T00:00:00\", \"2001-10-31T00:00:00\", \"2001-11-30T00:00:00\", \"2001-12-31T00:00:00\", \"2002-01-31T00:00:00\", \"2002-02-28T00:00:00\", \"2002-03-31T00:00:00\", \"2002-04-30T00:00:00\", \"2002-05-31T00:00:00\", \"2002-06-30T00:00:00\", \"2002-07-31T00:00:00\", \"2002-08-31T00:00:00\", \"2002-09-30T00:00:00\", \"2002-10-31T00:00:00\", \"2002-11-30T00:00:00\", \"2002-12-31T00:00:00\", \"2003-01-31T00:00:00\", \"2003-02-28T00:00:00\", \"2003-03-31T00:00:00\", \"2003-04-30T00:00:00\", \"2003-05-31T00:00:00\", \"2003-06-30T00:00:00\", \"2003-07-31T00:00:00\", \"2003-08-31T00:00:00\", \"2003-09-30T00:00:00\", \"2003-10-31T00:00:00\", \"2003-11-30T00:00:00\", \"2003-12-31T00:00:00\", \"2004-01-31T00:00:00\", \"2004-02-29T00:00:00\", \"2004-03-31T00:00:00\", \"2004-04-30T00:00:00\", \"2004-05-31T00:00:00\", \"2004-06-30T00:00:00\", \"2004-07-31T00:00:00\", \"2004-08-31T00:00:00\", \"2004-09-30T00:00:00\", \"2004-10-31T00:00:00\", \"2004-11-30T00:00:00\", \"2004-12-31T00:00:00\", \"2005-01-31T00:00:00\", \"2005-02-28T00:00:00\", \"2005-03-31T00:00:00\", \"2005-04-30T00:00:00\", \"2005-05-31T00:00:00\", \"2005-06-30T00:00:00\", \"2005-07-31T00:00:00\", \"2005-08-31T00:00:00\", \"2005-09-30T00:00:00\", \"2005-10-31T00:00:00\", \"2005-11-30T00:00:00\", \"2005-12-31T00:00:00\", \"2006-01-31T00:00:00\", \"2006-02-28T00:00:00\", \"2006-03-31T00:00:00\", \"2006-04-30T00:00:00\", \"2006-05-31T00:00:00\", \"2006-06-30T00:00:00\", \"2006-07-31T00:00:00\", \"2006-08-31T00:00:00\", \"2006-09-30T00:00:00\", \"2006-10-31T00:00:00\", \"2006-11-30T00:00:00\", \"2006-12-31T00:00:00\", \"2007-01-31T00:00:00\", \"2007-02-28T00:00:00\", \"2007-03-31T00:00:00\", \"2007-04-30T00:00:00\", \"2007-05-31T00:00:00\", \"2007-06-30T00:00:00\", \"2007-07-31T00:00:00\", \"2007-08-31T00:00:00\", \"2007-09-30T00:00:00\", \"2007-10-31T00:00:00\", \"2007-11-30T00:00:00\", \"2007-12-31T00:00:00\", \"2008-01-31T00:00:00\", \"2008-02-29T00:00:00\", \"2008-03-31T00:00:00\", \"2008-04-30T00:00:00\", \"2008-05-31T00:00:00\", \"2008-06-30T00:00:00\", \"2008-07-31T00:00:00\", \"2008-08-31T00:00:00\", \"2008-09-30T00:00:00\", \"2008-10-31T00:00:00\", \"2008-11-30T00:00:00\", \"2008-12-31T00:00:00\", \"2009-01-31T00:00:00\", \"2009-02-28T00:00:00\", \"2009-03-31T00:00:00\", \"2009-04-30T00:00:00\", \"2009-05-31T00:00:00\", \"2009-06-30T00:00:00\", \"2009-07-31T00:00:00\", \"2009-08-31T00:00:00\", \"2009-09-30T00:00:00\", \"2009-10-31T00:00:00\", \"2009-11-30T00:00:00\", \"2009-12-31T00:00:00\", \"2010-01-31T00:00:00\", \"2010-02-28T00:00:00\", \"2010-03-31T00:00:00\", \"2010-04-30T00:00:00\", \"2010-05-31T00:00:00\", \"2010-06-30T00:00:00\", \"2010-07-31T00:00:00\", \"2010-08-31T00:00:00\", \"2010-09-30T00:00:00\", \"2010-10-31T00:00:00\", \"2010-11-30T00:00:00\", \"2010-12-31T00:00:00\", \"2011-01-31T00:00:00\", \"2011-02-28T00:00:00\", \"2011-03-31T00:00:00\", \"2011-04-30T00:00:00\", \"2011-05-31T00:00:00\", \"2011-06-30T00:00:00\", \"2011-07-31T00:00:00\", \"2011-08-31T00:00:00\", \"2011-09-30T00:00:00\", \"2011-10-31T00:00:00\", \"2011-11-30T00:00:00\", \"2011-12-31T00:00:00\", \"2012-01-31T00:00:00\", \"2012-02-29T00:00:00\", \"2012-03-31T00:00:00\", \"2012-04-30T00:00:00\", \"2012-05-31T00:00:00\", \"2012-06-30T00:00:00\", \"2012-07-31T00:00:00\", \"2012-08-31T00:00:00\", \"2012-09-30T00:00:00\", \"2012-10-31T00:00:00\", \"2012-11-30T00:00:00\", \"2012-12-31T00:00:00\", \"2013-01-31T00:00:00\", \"2013-02-28T00:00:00\", \"2013-03-31T00:00:00\", \"2013-04-30T00:00:00\", \"2013-05-31T00:00:00\", \"2013-06-30T00:00:00\", \"2013-07-31T00:00:00\", \"2013-08-31T00:00:00\", \"2013-09-30T00:00:00\", \"2013-10-31T00:00:00\", \"2013-11-30T00:00:00\", \"2013-12-31T00:00:00\", \"2014-01-31T00:00:00\", \"2014-02-28T00:00:00\", \"2014-03-31T00:00:00\", \"2014-04-30T00:00:00\", \"2014-05-31T00:00:00\", \"2014-06-30T00:00:00\", \"2014-07-31T00:00:00\", \"2014-08-31T00:00:00\", \"2014-09-30T00:00:00\", \"2014-10-31T00:00:00\", \"2014-11-30T00:00:00\", \"2014-12-31T00:00:00\", \"2015-01-31T00:00:00\", \"2015-02-28T00:00:00\", \"2015-03-31T00:00:00\", \"2015-04-30T00:00:00\", \"2015-05-31T00:00:00\", \"2015-06-30T00:00:00\", \"2015-07-31T00:00:00\", \"2015-08-31T00:00:00\", \"2015-09-30T00:00:00\", \"2015-10-31T00:00:00\", \"2015-11-30T00:00:00\", \"2015-12-31T00:00:00\", \"2016-01-31T00:00:00\", \"2016-02-29T00:00:00\", \"2016-03-31T00:00:00\", \"2016-04-30T00:00:00\", \"2016-05-31T00:00:00\", \"2016-06-30T00:00:00\", \"2016-07-31T00:00:00\", \"2016-08-31T00:00:00\", \"2016-09-30T00:00:00\", \"2016-10-31T00:00:00\", \"2016-11-30T00:00:00\", \"2016-12-31T00:00:00\", \"2017-01-31T00:00:00\", \"2017-02-28T00:00:00\", \"2017-03-31T00:00:00\", \"2017-04-30T00:00:00\", \"2017-05-31T00:00:00\", \"2017-06-30T00:00:00\", \"2017-07-31T00:00:00\", \"2017-08-31T00:00:00\", \"2017-09-30T00:00:00\", \"2017-10-31T00:00:00\", \"2017-11-30T00:00:00\", \"2017-12-31T00:00:00\", \"2018-01-31T00:00:00\", \"2018-02-28T00:00:00\", \"2018-03-31T00:00:00\", \"2018-04-30T00:00:00\", \"2018-05-31T00:00:00\", \"2018-06-30T00:00:00\", \"2018-07-31T00:00:00\", \"2018-08-31T00:00:00\", \"2018-09-30T00:00:00\", \"2018-10-31T00:00:00\", \"2018-11-30T00:00:00\", \"2018-12-31T00:00:00\", \"2019-01-31T00:00:00\", \"2019-02-28T00:00:00\", \"2019-03-31T00:00:00\", \"2019-04-30T00:00:00\", \"2019-05-31T00:00:00\", \"2019-06-30T00:00:00\", \"2019-07-31T00:00:00\", \"2019-08-31T00:00:00\", \"2019-09-30T00:00:00\", \"2019-10-31T00:00:00\", \"2019-11-30T00:00:00\", \"2019-12-31T00:00:00\", \"2020-01-31T00:00:00\", \"2020-02-29T00:00:00\", \"2020-03-31T00:00:00\", \"2020-04-30T00:00:00\", \"2020-05-31T00:00:00\", \"2020-06-30T00:00:00\", \"2020-07-31T00:00:00\"], \"y\": [null, null, null, null, null, null, null, null, null, null, null, null, null, null, null, null, null, null, null, null, null, null, null, null, null, null, null, null, null, null, null, null, null, null, null, null, null, 1.0, null, null, null, null, null, null, null, null, null, null, null, null, null, null, null, null, null, null, 1.0, null, null, null, null, null, null, null, null, null, null, null, null, null, null, null, null, null, null, null, 1.0, null, 1.0, 2.0, 5.0, 3.0, 6.0, 5.0, 8.0, 3.0, 15.0, 19.0, 25.0, 33.0, 15.0, 17.0, 50.0, 74.0, 82.0, 57.0, 34.0, 66.0, 93.0, 92.0, 83.0, 65.0, 50.0, 116.0, 90.0, 100.0, 95.0, 77.0, 36.0, 115.0, 95.0, 109.0, 175.0, 102.0, 159.0, 147.0, 110.0, 148.0, 155.0, 115.0, 66.0, 112.0, 165.0, 187.0, 158.0, 215.0, 151.0, 367.0, 328.0, 623.0, 568.0, 622.0, 706.0, 603.0, 943.0, 993.0, 806.0, 837.0, 727.0, 1322.0, 1023.0, 1151.0, 938.0, 968.0, 648.0, 848.0, 798.0, 747.0, 1210.0, 1011.0, 765.0, 1096.0, 1143.0, 1142.0, 1118.0, 934.0, 891.0, 1041.0, 1431.0, 1073.0, 1295.0, 1216.0, 908.0, 1521.0, 1249.0, 1114.0, 1197.0, 1266.0, 639.0, 911.0, 1200.0, 1015.0, 1164.0, 1115.0, 849.0, 1174.0, 1317.0, 1152.0, 1072.0, 773.0, 833.0, 1200.0, 1715.0, 1018.0, 1411.0, 1024.0, 1029.0, 1283.0, 1205.0, 1355.0, 1196.0, 769.0, 860.0, 1225.0, 1716.0, 1282.0, 1523.0, 1337.0, 1221.0, 1447.0, 1285.0, 1339.0, 1203.0, 802.0, 974.0, 1133.0, 1547.0, 1469.0, 1279.0, 1540.0, 1430.0, 1431.0, 1607.0, 1662.0, 1444.0, 886.0, 999.0, 1190.0, 1685.0, 1088.0, 1433.0, 1358.0, 1442.0, 1417.0, 1524.0, 1122.0, 1055.0, 562.0, 2292.0, 3470.0, 5171.0, 6446.0, 10150.0, 8624.0, 7007.0, 6886.0, 6340.0, 5756.0, 5595.0, 3576.0, 4283.0, 5872.0, 5724.0, 4890.0, 6098.0, 5777.0, 5850.0, 7147.0, 5592.0, 4799.0, 4746.0, 2619.0, 3789.0, 3979.0, 5316.0, 3796.0, 5189.0, 4267.0, 4493.0, 4831.0, 4044.0, 4591.0, 3864.0, 2477.0, 3267.0, 2920.0, 3160.0, 3488.0, 3699.0, 3704.0, 3861.0, 3844.0, 3676.0, 3902.0, 3358.0, 2361.0, 2782.0, 3425.0, 3200.0, 2917.0, 3448.0, 2886.0, 3585.0, 3350.0, 3327.0, 3353.0, 3257.0, 2318.0, 2734.0, 3018.0, 3935.0, 2784.0, 4050.0, 3747.0, 3859.0, 3780.0, 3254.0, 3077.0, 2901.0, 1841.0, 3089.0, 3289.0, 3182.0, 3041.0, 3407.0, 3493.0, 3006.0, 3349.0, 3280.0, 3034.0, 2902.0, 2047.0, 2439.0, 2976.0, 3674.0, 2780.0, 4034.0, 4007.0, 3782.0, 4598.0, 3816.0, 3697.0, 3171.0, 2181.0, 2828.0, 3066.0, 3682.0, 4354.0, 4019.0, 3920.0, 3842.0, 4552.0, 3999.0, 4681.0, 3832.0, 2605.0, 3703.0, 4477.0, 4191.0, 4201.0, 4752.0, 3939.0, 4903.0, 4723.0, 4831.0, 4973.0, 4338.0, 2961.0, 3478.0, 3806.0, 6129.0, 6497.0, 3307.0, 2402.0, 1886.0]}],                        {\"showlegend\": false, \"template\": {\"data\": {\"bar\": [{\"error_x\": {\"color\": \"#2a3f5f\"}, \"error_y\": {\"color\": \"#2a3f5f\"}, \"marker\": {\"line\": {\"color\": \"#E5ECF6\", \"width\": 0.5}}, \"type\": \"bar\"}], \"barpolar\": [{\"marker\": {\"line\": {\"color\": \"#E5ECF6\", \"width\": 0.5}}, \"type\": \"barpolar\"}], \"carpet\": [{\"aaxis\": {\"endlinecolor\": \"#2a3f5f\", \"gridcolor\": \"white\", \"linecolor\": \"white\", \"minorgridcolor\": \"white\", \"startlinecolor\": \"#2a3f5f\"}, \"baxis\": {\"endlinecolor\": \"#2a3f5f\", \"gridcolor\": \"white\", \"linecolor\": \"white\", \"minorgridcolor\": \"white\", \"startlinecolor\": \"#2a3f5f\"}, \"type\": \"carpet\"}], \"choropleth\": [{\"colorbar\": {\"outlinewidth\": 0, \"ticks\": \"\"}, \"type\": \"choropleth\"}], \"contour\": [{\"colorbar\": {\"outlinewidth\": 0, \"ticks\": \"\"}, \"colorscale\": [[0.0, \"#0d0887\"], [0.1111111111111111, \"#46039f\"], [0.2222222222222222, \"#7201a8\"], [0.3333333333333333, \"#9c179e\"], [0.4444444444444444, \"#bd3786\"], [0.5555555555555556, \"#d8576b\"], [0.6666666666666666, \"#ed7953\"], [0.7777777777777778, \"#fb9f3a\"], [0.8888888888888888, \"#fdca26\"], [1.0, \"#f0f921\"]], \"type\": \"contour\"}], \"contourcarpet\": [{\"colorbar\": {\"outlinewidth\": 0, \"ticks\": \"\"}, \"type\": \"contourcarpet\"}], \"heatmap\": [{\"colorbar\": {\"outlinewidth\": 0, \"ticks\": \"\"}, \"colorscale\": [[0.0, \"#0d0887\"], [0.1111111111111111, \"#46039f\"], [0.2222222222222222, \"#7201a8\"], [0.3333333333333333, \"#9c179e\"], [0.4444444444444444, \"#bd3786\"], [0.5555555555555556, \"#d8576b\"], [0.6666666666666666, \"#ed7953\"], [0.7777777777777778, \"#fb9f3a\"], [0.8888888888888888, \"#fdca26\"], [1.0, \"#f0f921\"]], \"type\": \"heatmap\"}], \"heatmapgl\": [{\"colorbar\": {\"outlinewidth\": 0, \"ticks\": \"\"}, \"colorscale\": [[0.0, \"#0d0887\"], [0.1111111111111111, \"#46039f\"], [0.2222222222222222, \"#7201a8\"], [0.3333333333333333, \"#9c179e\"], [0.4444444444444444, \"#bd3786\"], [0.5555555555555556, \"#d8576b\"], [0.6666666666666666, \"#ed7953\"], [0.7777777777777778, \"#fb9f3a\"], [0.8888888888888888, \"#fdca26\"], [1.0, \"#f0f921\"]], \"type\": \"heatmapgl\"}], \"histogram\": [{\"marker\": {\"colorbar\": {\"outlinewidth\": 0, \"ticks\": \"\"}}, \"type\": \"histogram\"}], \"histogram2d\": [{\"colorbar\": {\"outlinewidth\": 0, \"ticks\": \"\"}, \"colorscale\": [[0.0, \"#0d0887\"], [0.1111111111111111, \"#46039f\"], [0.2222222222222222, \"#7201a8\"], [0.3333333333333333, \"#9c179e\"], [0.4444444444444444, \"#bd3786\"], [0.5555555555555556, \"#d8576b\"], [0.6666666666666666, \"#ed7953\"], [0.7777777777777778, \"#fb9f3a\"], [0.8888888888888888, \"#fdca26\"], [1.0, \"#f0f921\"]], \"type\": \"histogram2d\"}], \"histogram2dcontour\": [{\"colorbar\": {\"outlinewidth\": 0, \"ticks\": \"\"}, \"colorscale\": [[0.0, \"#0d0887\"], [0.1111111111111111, \"#46039f\"], [0.2222222222222222, \"#7201a8\"], [0.3333333333333333, \"#9c179e\"], [0.4444444444444444, \"#bd3786\"], [0.5555555555555556, \"#d8576b\"], [0.6666666666666666, \"#ed7953\"], [0.7777777777777778, \"#fb9f3a\"], [0.8888888888888888, \"#fdca26\"], [1.0, \"#f0f921\"]], \"type\": \"histogram2dcontour\"}], \"mesh3d\": [{\"colorbar\": {\"outlinewidth\": 0, \"ticks\": \"\"}, \"type\": \"mesh3d\"}], \"parcoords\": [{\"line\": {\"colorbar\": {\"outlinewidth\": 0, \"ticks\": \"\"}}, \"type\": \"parcoords\"}], \"pie\": [{\"automargin\": true, \"type\": \"pie\"}], \"scatter\": [{\"marker\": {\"colorbar\": {\"outlinewidth\": 0, \"ticks\": \"\"}}, \"type\": \"scatter\"}], \"scatter3d\": [{\"line\": {\"colorbar\": {\"outlinewidth\": 0, \"ticks\": \"\"}}, \"marker\": {\"colorbar\": {\"outlinewidth\": 0, \"ticks\": \"\"}}, \"type\": \"scatter3d\"}], \"scattercarpet\": [{\"marker\": {\"colorbar\": {\"outlinewidth\": 0, \"ticks\": \"\"}}, \"type\": \"scattercarpet\"}], \"scattergeo\": [{\"marker\": {\"colorbar\": {\"outlinewidth\": 0, \"ticks\": \"\"}}, \"type\": \"scattergeo\"}], \"scattergl\": [{\"marker\": {\"colorbar\": {\"outlinewidth\": 0, \"ticks\": \"\"}}, \"type\": \"scattergl\"}], \"scattermapbox\": [{\"marker\": {\"colorbar\": {\"outlinewidth\": 0, \"ticks\": \"\"}}, \"type\": \"scattermapbox\"}], \"scatterpolar\": [{\"marker\": {\"colorbar\": {\"outlinewidth\": 0, \"ticks\": \"\"}}, \"type\": \"scatterpolar\"}], \"scatterpolargl\": [{\"marker\": {\"colorbar\": {\"outlinewidth\": 0, \"ticks\": \"\"}}, \"type\": \"scatterpolargl\"}], \"scatterternary\": [{\"marker\": {\"colorbar\": {\"outlinewidth\": 0, \"ticks\": \"\"}}, \"type\": \"scatterternary\"}], \"surface\": [{\"colorbar\": {\"outlinewidth\": 0, \"ticks\": \"\"}, \"colorscale\": [[0.0, \"#0d0887\"], [0.1111111111111111, \"#46039f\"], [0.2222222222222222, \"#7201a8\"], [0.3333333333333333, \"#9c179e\"], [0.4444444444444444, \"#bd3786\"], [0.5555555555555556, \"#d8576b\"], [0.6666666666666666, \"#ed7953\"], [0.7777777777777778, \"#fb9f3a\"], [0.8888888888888888, \"#fdca26\"], [1.0, \"#f0f921\"]], \"type\": \"surface\"}], \"table\": [{\"cells\": {\"fill\": {\"color\": \"#EBF0F8\"}, \"line\": {\"color\": \"white\"}}, \"header\": {\"fill\": {\"color\": \"#C8D4E3\"}, \"line\": {\"color\": \"white\"}}, \"type\": \"table\"}]}, \"layout\": {\"annotationdefaults\": {\"arrowcolor\": \"#2a3f5f\", \"arrowhead\": 0, \"arrowwidth\": 1}, \"coloraxis\": {\"colorbar\": {\"outlinewidth\": 0, \"ticks\": \"\"}}, \"colorscale\": {\"diverging\": [[0, \"#8e0152\"], [0.1, \"#c51b7d\"], [0.2, \"#de77ae\"], [0.3, \"#f1b6da\"], [0.4, \"#fde0ef\"], [0.5, \"#f7f7f7\"], [0.6, \"#e6f5d0\"], [0.7, \"#b8e186\"], [0.8, \"#7fbc41\"], [0.9, \"#4d9221\"], [1, \"#276419\"]], \"sequential\": [[0.0, \"#0d0887\"], [0.1111111111111111, \"#46039f\"], [0.2222222222222222, \"#7201a8\"], [0.3333333333333333, \"#9c179e\"], [0.4444444444444444, \"#bd3786\"], [0.5555555555555556, \"#d8576b\"], [0.6666666666666666, \"#ed7953\"], [0.7777777777777778, \"#fb9f3a\"], [0.8888888888888888, \"#fdca26\"], [1.0, \"#f0f921\"]], \"sequentialminus\": [[0.0, \"#0d0887\"], [0.1111111111111111, \"#46039f\"], [0.2222222222222222, \"#7201a8\"], [0.3333333333333333, \"#9c179e\"], [0.4444444444444444, \"#bd3786\"], [0.5555555555555556, \"#d8576b\"], [0.6666666666666666, \"#ed7953\"], [0.7777777777777778, \"#fb9f3a\"], [0.8888888888888888, \"#fdca26\"], [1.0, \"#f0f921\"]]}, \"colorway\": [\"#636efa\", \"#EF553B\", \"#00cc96\", \"#ab63fa\", \"#FFA15A\", \"#19d3f3\", \"#FF6692\", \"#B6E880\", \"#FF97FF\", \"#FECB52\"], \"font\": {\"color\": \"#2a3f5f\"}, \"geo\": {\"bgcolor\": \"white\", \"lakecolor\": \"white\", \"landcolor\": \"#E5ECF6\", \"showlakes\": true, \"showland\": true, \"subunitcolor\": \"white\"}, \"hoverlabel\": {\"align\": \"left\"}, \"hovermode\": \"closest\", \"mapbox\": {\"style\": \"light\"}, \"paper_bgcolor\": \"white\", \"plot_bgcolor\": \"#E5ECF6\", \"polar\": {\"angularaxis\": {\"gridcolor\": \"white\", \"linecolor\": \"white\", \"ticks\": \"\"}, \"bgcolor\": \"#E5ECF6\", \"radialaxis\": {\"gridcolor\": \"white\", \"linecolor\": \"white\", \"ticks\": \"\"}}, \"scene\": {\"xaxis\": {\"backgroundcolor\": \"#E5ECF6\", \"gridcolor\": \"white\", \"gridwidth\": 2, \"linecolor\": \"white\", \"showbackground\": true, \"ticks\": \"\", \"zerolinecolor\": \"white\"}, \"yaxis\": {\"backgroundcolor\": \"#E5ECF6\", \"gridcolor\": \"white\", \"gridwidth\": 2, \"linecolor\": \"white\", \"showbackground\": true, \"ticks\": \"\", \"zerolinecolor\": \"white\"}, \"zaxis\": {\"backgroundcolor\": \"#E5ECF6\", \"gridcolor\": \"white\", \"gridwidth\": 2, \"linecolor\": \"white\", \"showbackground\": true, \"ticks\": \"\", \"zerolinecolor\": \"white\"}}, \"shapedefaults\": {\"line\": {\"color\": \"#2a3f5f\"}}, \"ternary\": {\"aaxis\": {\"gridcolor\": \"white\", \"linecolor\": \"white\", \"ticks\": \"\"}, \"baxis\": {\"gridcolor\": \"white\", \"linecolor\": \"white\", \"ticks\": \"\"}, \"bgcolor\": \"#E5ECF6\", \"caxis\": {\"gridcolor\": \"white\", \"linecolor\": \"white\", \"ticks\": \"\"}}, \"title\": {\"x\": 0.05}, \"xaxis\": {\"automargin\": true, \"gridcolor\": \"white\", \"linecolor\": \"white\", \"ticks\": \"\", \"title\": {\"standoff\": 15}, \"zerolinecolor\": \"white\", \"zerolinewidth\": 2}, \"yaxis\": {\"automargin\": true, \"gridcolor\": \"white\", \"linecolor\": \"white\", \"ticks\": \"\", \"title\": {\"standoff\": 15}, \"zerolinecolor\": \"white\", \"zerolinewidth\": 2}}}, \"title\": {\"text\": \"Quantidade de movimenta\\u00e7\\u00f5es do tribunal\"}, \"updatemenus\": [{\"buttons\": [{\"args\": [{\"type\": \"scatter\", \"x\": [[\"1972-07-31T00:00:00\", \"1986-11-30T00:00:00\", \"1987-01-31T00:00:00\", \"1987-04-30T00:00:00\", \"1987-05-31T00:00:00\", \"1987-09-30T00:00:00\", \"1987-10-31T00:00:00\", \"1987-11-30T00:00:00\", \"1988-01-31T00:00:00\", \"1988-03-31T00:00:00\", \"1988-05-31T00:00:00\", \"1988-07-31T00:00:00\", \"1988-09-30T00:00:00\", \"1988-12-31T00:00:00\", \"1989-02-28T00:00:00\", \"1989-07-31T00:00:00\", \"1989-08-31T00:00:00\", \"1989-11-30T00:00:00\", \"1990-01-31T00:00:00\", \"1990-03-31T00:00:00\", \"1990-04-30T00:00:00\", \"1990-05-31T00:00:00\", \"1990-06-30T00:00:00\", \"1990-07-31T00:00:00\", \"1990-08-31T00:00:00\", \"1991-08-31T00:00:00\", \"1993-02-28T00:00:00\", \"1993-03-31T00:00:00\", \"1993-04-30T00:00:00\", \"1993-05-31T00:00:00\", \"1993-06-30T00:00:00\", \"1993-07-31T00:00:00\", \"1993-08-31T00:00:00\", \"1993-09-30T00:00:00\", \"1993-11-30T00:00:00\", \"1993-12-31T00:00:00\", \"1994-01-31T00:00:00\", \"1994-02-28T00:00:00\", \"1994-03-31T00:00:00\", \"1994-04-30T00:00:00\", \"1994-05-31T00:00:00\", \"1994-06-30T00:00:00\", \"1994-07-31T00:00:00\", \"1994-08-31T00:00:00\", \"1994-09-30T00:00:00\", \"1994-10-31T00:00:00\", \"1994-11-30T00:00:00\", \"1994-12-31T00:00:00\", \"1995-01-31T00:00:00\", \"1995-02-28T00:00:00\", \"1995-03-31T00:00:00\", \"1995-04-30T00:00:00\", \"1995-05-31T00:00:00\", \"1995-06-30T00:00:00\", \"1995-07-31T00:00:00\", \"1995-08-31T00:00:00\", \"1995-09-30T00:00:00\", \"1995-10-31T00:00:00\", \"1995-11-30T00:00:00\", \"1995-12-31T00:00:00\", \"1996-01-31T00:00:00\", \"1996-02-29T00:00:00\", \"1996-03-31T00:00:00\", \"1996-04-30T00:00:00\", \"1996-05-31T00:00:00\", \"1996-06-30T00:00:00\", \"1996-07-31T00:00:00\", \"1996-08-31T00:00:00\", \"1996-09-30T00:00:00\", \"1996-10-31T00:00:00\", \"1996-11-30T00:00:00\", \"1996-12-31T00:00:00\", \"1997-01-31T00:00:00\", \"1997-02-28T00:00:00\", \"1997-03-31T00:00:00\", \"1997-04-30T00:00:00\", \"1997-05-31T00:00:00\", \"1997-06-30T00:00:00\", \"1997-07-31T00:00:00\", \"1997-08-31T00:00:00\", \"1997-09-30T00:00:00\", \"1997-10-31T00:00:00\", \"1997-11-30T00:00:00\", \"1997-12-31T00:00:00\", \"1998-01-31T00:00:00\", \"1998-02-28T00:00:00\", \"1998-03-31T00:00:00\", \"1998-04-30T00:00:00\", \"1998-05-31T00:00:00\", \"1998-06-30T00:00:00\", \"1998-07-31T00:00:00\", \"1998-08-31T00:00:00\", \"1998-09-30T00:00:00\", \"1998-10-31T00:00:00\", \"1998-11-30T00:00:00\", \"1998-12-31T00:00:00\", \"1999-01-31T00:00:00\", \"1999-02-28T00:00:00\", \"1999-03-31T00:00:00\", \"1999-04-30T00:00:00\", \"1999-05-31T00:00:00\", \"1999-06-30T00:00:00\", \"1999-07-31T00:00:00\", \"1999-08-31T00:00:00\", \"1999-09-30T00:00:00\", \"1999-10-31T00:00:00\", \"1999-11-30T00:00:00\", \"1999-12-31T00:00:00\", \"2000-01-31T00:00:00\", \"2000-02-29T00:00:00\", \"2000-03-31T00:00:00\", \"2000-04-30T00:00:00\", \"2000-05-31T00:00:00\", \"2000-06-30T00:00:00\", \"2000-07-31T00:00:00\", \"2000-08-31T00:00:00\", \"2000-09-30T00:00:00\", \"2000-10-31T00:00:00\", \"2000-11-30T00:00:00\", \"2000-12-31T00:00:00\", \"2001-01-31T00:00:00\", \"2001-02-28T00:00:00\", \"2001-03-31T00:00:00\", \"2001-04-30T00:00:00\", \"2001-05-31T00:00:00\", \"2001-06-30T00:00:00\", \"2001-07-31T00:00:00\", \"2001-08-31T00:00:00\", \"2001-09-30T00:00:00\", \"2001-10-31T00:00:00\", \"2001-11-30T00:00:00\", \"2001-12-31T00:00:00\", \"2002-01-31T00:00:00\", \"2002-02-28T00:00:00\", \"2002-03-31T00:00:00\", \"2002-04-30T00:00:00\", \"2002-05-31T00:00:00\", \"2002-06-30T00:00:00\", \"2002-07-31T00:00:00\", \"2002-08-31T00:00:00\", \"2002-09-30T00:00:00\", \"2002-10-31T00:00:00\", \"2002-11-30T00:00:00\", \"2002-12-31T00:00:00\", \"2003-01-31T00:00:00\", \"2003-02-28T00:00:00\", \"2003-03-31T00:00:00\", \"2003-04-30T00:00:00\", \"2003-05-31T00:00:00\", \"2003-06-30T00:00:00\", \"2003-07-31T00:00:00\", \"2003-08-31T00:00:00\", \"2003-09-30T00:00:00\", \"2003-10-31T00:00:00\", \"2003-11-30T00:00:00\", \"2003-12-31T00:00:00\", \"2004-01-31T00:00:00\", \"2004-02-29T00:00:00\", \"2004-03-31T00:00:00\", \"2004-04-30T00:00:00\", \"2004-05-31T00:00:00\", \"2004-06-30T00:00:00\", \"2004-07-31T00:00:00\", \"2004-08-31T00:00:00\", \"2004-09-30T00:00:00\", \"2004-10-31T00:00:00\", \"2004-11-30T00:00:00\", \"2004-12-31T00:00:00\", \"2005-01-31T00:00:00\", \"2005-02-28T00:00:00\", \"2005-03-31T00:00:00\", \"2005-04-30T00:00:00\", \"2005-05-31T00:00:00\", \"2005-06-30T00:00:00\", \"2005-07-31T00:00:00\", \"2005-08-31T00:00:00\", \"2005-09-30T00:00:00\", \"2005-10-31T00:00:00\", \"2005-11-30T00:00:00\", \"2005-12-31T00:00:00\", \"2006-01-31T00:00:00\", \"2006-02-28T00:00:00\", \"2006-03-31T00:00:00\", \"2006-04-30T00:00:00\", \"2006-05-31T00:00:00\", \"2006-06-30T00:00:00\", \"2006-07-31T00:00:00\", \"2006-08-31T00:00:00\", \"2006-09-30T00:00:00\", \"2006-10-31T00:00:00\", \"2006-11-30T00:00:00\", \"2006-12-31T00:00:00\", \"2007-01-31T00:00:00\", \"2007-02-28T00:00:00\", \"2007-03-31T00:00:00\", \"2007-04-30T00:00:00\", \"2007-05-31T00:00:00\", \"2007-06-30T00:00:00\", \"2007-07-31T00:00:00\", \"2007-08-31T00:00:00\", \"2007-09-30T00:00:00\", \"2007-10-31T00:00:00\", \"2007-11-30T00:00:00\", \"2007-12-31T00:00:00\", \"2008-01-31T00:00:00\", \"2008-02-29T00:00:00\", \"2008-03-31T00:00:00\", \"2008-04-30T00:00:00\", \"2008-05-31T00:00:00\", \"2008-06-30T00:00:00\", \"2008-07-31T00:00:00\", \"2008-08-31T00:00:00\", \"2008-09-30T00:00:00\", \"2008-10-31T00:00:00\", \"2008-11-30T00:00:00\", \"2008-12-31T00:00:00\", \"2009-01-31T00:00:00\", \"2009-02-28T00:00:00\", \"2009-03-31T00:00:00\", \"2009-04-30T00:00:00\", \"2009-05-31T00:00:00\", \"2009-06-30T00:00:00\", \"2009-07-31T00:00:00\", \"2009-08-31T00:00:00\", \"2009-09-30T00:00:00\", \"2009-10-31T00:00:00\", \"2009-11-30T00:00:00\", \"2009-12-31T00:00:00\", \"2010-01-31T00:00:00\", \"2010-02-28T00:00:00\", \"2010-03-31T00:00:00\", \"2010-04-30T00:00:00\", \"2010-05-31T00:00:00\", \"2010-06-30T00:00:00\", \"2010-07-31T00:00:00\", \"2010-08-31T00:00:00\", \"2010-09-30T00:00:00\", \"2010-10-31T00:00:00\", \"2010-11-30T00:00:00\", \"2010-12-31T00:00:00\", \"2011-01-31T00:00:00\", \"2011-02-28T00:00:00\", \"2011-03-31T00:00:00\", \"2011-04-30T00:00:00\", \"2011-05-31T00:00:00\", \"2011-06-30T00:00:00\", \"2011-07-31T00:00:00\", \"2011-08-31T00:00:00\", \"2011-09-30T00:00:00\", \"2011-10-31T00:00:00\", \"2011-11-30T00:00:00\", \"2011-12-31T00:00:00\", \"2012-01-31T00:00:00\", \"2012-02-29T00:00:00\", \"2012-03-31T00:00:00\", \"2012-04-30T00:00:00\", \"2012-05-31T00:00:00\", \"2012-06-30T00:00:00\", \"2012-07-31T00:00:00\", \"2012-08-31T00:00:00\", \"2012-09-30T00:00:00\", \"2012-10-31T00:00:00\", \"2012-11-30T00:00:00\", \"2012-12-31T00:00:00\", \"2013-01-31T00:00:00\", \"2013-02-28T00:00:00\", \"2013-03-31T00:00:00\", \"2013-04-30T00:00:00\", \"2013-05-31T00:00:00\", \"2013-06-30T00:00:00\", \"2013-07-31T00:00:00\", \"2013-08-31T00:00:00\", \"2013-09-30T00:00:00\", \"2013-10-31T00:00:00\", \"2013-11-30T00:00:00\", \"2013-12-31T00:00:00\", \"2014-01-31T00:00:00\", \"2014-02-28T00:00:00\", \"2014-03-31T00:00:00\", \"2014-04-30T00:00:00\", \"2014-05-31T00:00:00\", \"2014-06-30T00:00:00\", \"2014-07-31T00:00:00\", \"2014-08-31T00:00:00\", \"2014-09-30T00:00:00\", \"2014-10-31T00:00:00\", \"2014-11-30T00:00:00\", \"2014-12-31T00:00:00\", \"2015-01-31T00:00:00\", \"2015-02-28T00:00:00\", \"2015-03-31T00:00:00\", \"2015-04-30T00:00:00\", \"2015-05-31T00:00:00\", \"2015-06-30T00:00:00\", \"2015-07-31T00:00:00\", \"2015-08-31T00:00:00\", \"2015-09-30T00:00:00\", \"2015-10-31T00:00:00\", \"2015-11-30T00:00:00\", \"2015-12-31T00:00:00\", \"2016-01-31T00:00:00\", \"2016-02-29T00:00:00\", \"2016-03-31T00:00:00\", \"2016-04-30T00:00:00\", \"2016-05-31T00:00:00\", \"2016-06-30T00:00:00\", \"2016-07-31T00:00:00\", \"2016-08-31T00:00:00\", \"2016-09-30T00:00:00\", \"2016-10-31T00:00:00\", \"2016-11-30T00:00:00\", \"2016-12-31T00:00:00\", \"2017-01-31T00:00:00\", \"2017-02-28T00:00:00\", \"2017-03-31T00:00:00\", \"2017-04-30T00:00:00\", \"2017-05-31T00:00:00\", \"2017-06-30T00:00:00\", \"2017-07-31T00:00:00\", \"2017-08-31T00:00:00\", \"2017-09-30T00:00:00\", \"2017-10-31T00:00:00\", \"2017-11-30T00:00:00\", \"2017-12-31T00:00:00\", \"2018-01-31T00:00:00\", \"2018-02-28T00:00:00\", \"2018-03-31T00:00:00\", \"2018-04-30T00:00:00\", \"2018-05-31T00:00:00\", \"2018-06-30T00:00:00\", \"2018-07-31T00:00:00\", \"2018-08-31T00:00:00\", \"2018-09-30T00:00:00\", \"2018-10-31T00:00:00\", \"2018-11-30T00:00:00\", \"2018-12-31T00:00:00\", \"2019-01-31T00:00:00\", \"2019-02-28T00:00:00\", \"2019-03-31T00:00:00\", \"2019-04-30T00:00:00\", \"2019-05-31T00:00:00\", \"2019-06-30T00:00:00\", \"2019-07-31T00:00:00\", \"2019-08-31T00:00:00\", \"2019-09-30T00:00:00\", \"2019-10-31T00:00:00\", \"2019-11-30T00:00:00\", \"2019-12-31T00:00:00\", \"2020-01-31T00:00:00\", \"2020-02-29T00:00:00\", \"2020-03-31T00:00:00\", \"2020-04-30T00:00:00\", \"2020-05-31T00:00:00\", \"2020-06-30T00:00:00\", \"2020-07-31T00:00:00\"]], \"y\": [[null, null, null, null, null, null, null, null, null, null, null, null, null, null, null, null, null, null, null, null, null, null, null, null, null, null, null, null, null, null, null, null, null, null, null, null, null, 1.0, null, null, null, null, null, null, null, null, null, null, null, null, null, null, null, null, null, null, 1.0, null, null, null, null, null, null, null, null, null, null, null, null, null, null, null, null, null, null, null, 1.0, null, 1.0, 2.0, 5.0, 3.0, 6.0, 5.0, 8.0, 3.0, 15.0, 19.0, 25.0, 33.0, 15.0, 17.0, 50.0, 74.0, 82.0, 57.0, 34.0, 66.0, 93.0, 92.0, 83.0, 65.0, 50.0, 116.0, 90.0, 100.0, 95.0, 77.0, 36.0, 115.0, 95.0, 109.0, 175.0, 102.0, 159.0, 147.0, 110.0, 148.0, 155.0, 115.0, 66.0, 112.0, 165.0, 187.0, 158.0, 215.0, 151.0, 367.0, 328.0, 623.0, 568.0, 622.0, 706.0, 603.0, 943.0, 993.0, 806.0, 837.0, 727.0, 1322.0, 1023.0, 1151.0, 938.0, 968.0, 648.0, 848.0, 798.0, 747.0, 1210.0, 1011.0, 765.0, 1096.0, 1143.0, 1142.0, 1118.0, 934.0, 891.0, 1041.0, 1431.0, 1073.0, 1295.0, 1216.0, 908.0, 1521.0, 1249.0, 1114.0, 1197.0, 1266.0, 639.0, 911.0, 1200.0, 1015.0, 1164.0, 1115.0, 849.0, 1174.0, 1317.0, 1152.0, 1072.0, 773.0, 833.0, 1200.0, 1715.0, 1018.0, 1411.0, 1024.0, 1029.0, 1283.0, 1205.0, 1355.0, 1196.0, 769.0, 860.0, 1225.0, 1716.0, 1282.0, 1523.0, 1337.0, 1221.0, 1447.0, 1285.0, 1339.0, 1203.0, 802.0, 974.0, 1133.0, 1547.0, 1469.0, 1279.0, 1540.0, 1430.0, 1431.0, 1607.0, 1662.0, 1444.0, 886.0, 999.0, 1190.0, 1685.0, 1088.0, 1433.0, 1358.0, 1442.0, 1417.0, 1524.0, 1122.0, 1055.0, 562.0, 2292.0, 3470.0, 5171.0, 6446.0, 10150.0, 8624.0, 7007.0, 6886.0, 6340.0, 5756.0, 5595.0, 3576.0, 4283.0, 5872.0, 5724.0, 4890.0, 6098.0, 5777.0, 5850.0, 7147.0, 5592.0, 4799.0, 4746.0, 2619.0, 3789.0, 3979.0, 5316.0, 3796.0, 5189.0, 4267.0, 4493.0, 4831.0, 4044.0, 4591.0, 3864.0, 2477.0, 3267.0, 2920.0, 3160.0, 3488.0, 3699.0, 3704.0, 3861.0, 3844.0, 3676.0, 3902.0, 3358.0, 2361.0, 2782.0, 3425.0, 3200.0, 2917.0, 3448.0, 2886.0, 3585.0, 3350.0, 3327.0, 3353.0, 3257.0, 2318.0, 2734.0, 3018.0, 3935.0, 2784.0, 4050.0, 3747.0, 3859.0, 3780.0, 3254.0, 3077.0, 2901.0, 1841.0, 3089.0, 3289.0, 3182.0, 3041.0, 3407.0, 3493.0, 3006.0, 3349.0, 3280.0, 3034.0, 2902.0, 2047.0, 2439.0, 2976.0, 3674.0, 2780.0, 4034.0, 4007.0, 3782.0, 4598.0, 3816.0, 3697.0, 3171.0, 2181.0, 2828.0, 3066.0, 3682.0, 4354.0, 4019.0, 3920.0, 3842.0, 4552.0, 3999.0, 4681.0, 3832.0, 2605.0, 3703.0, 4477.0, 4191.0, 4201.0, 4752.0, 3939.0, 4903.0, 4723.0, 4831.0, 4973.0, 4338.0, 2961.0, 3478.0, 3806.0, 6129.0, 6497.0, 3307.0, 2402.0, 1886.0]]}, [0]], \"label\": \"TJMG\", \"method\": \"restyle\", \"visible\": true}, {\"args\": [{\"type\": \"scatter\", \"x\": [[\"1972-07-31T00:00:00\", \"1986-11-30T00:00:00\", \"1987-01-31T00:00:00\", \"1987-04-30T00:00:00\", \"1987-05-31T00:00:00\", \"1987-09-30T00:00:00\", \"1987-10-31T00:00:00\", \"1987-11-30T00:00:00\", \"1988-01-31T00:00:00\", \"1988-03-31T00:00:00\", \"1988-05-31T00:00:00\", \"1988-07-31T00:00:00\", \"1988-09-30T00:00:00\", \"1988-12-31T00:00:00\", \"1989-02-28T00:00:00\", \"1989-07-31T00:00:00\", \"1989-08-31T00:00:00\", \"1989-11-30T00:00:00\", \"1990-01-31T00:00:00\", \"1990-03-31T00:00:00\", \"1990-04-30T00:00:00\", \"1990-05-31T00:00:00\", \"1990-06-30T00:00:00\", \"1990-07-31T00:00:00\", \"1990-08-31T00:00:00\", \"1991-08-31T00:00:00\", \"1993-02-28T00:00:00\", \"1993-03-31T00:00:00\", \"1993-04-30T00:00:00\", \"1993-05-31T00:00:00\", \"1993-06-30T00:00:00\", \"1993-07-31T00:00:00\", \"1993-08-31T00:00:00\", \"1993-09-30T00:00:00\", \"1993-11-30T00:00:00\", \"1993-12-31T00:00:00\", \"1994-01-31T00:00:00\", \"1994-02-28T00:00:00\", \"1994-03-31T00:00:00\", \"1994-04-30T00:00:00\", \"1994-05-31T00:00:00\", \"1994-06-30T00:00:00\", \"1994-07-31T00:00:00\", \"1994-08-31T00:00:00\", \"1994-09-30T00:00:00\", \"1994-10-31T00:00:00\", \"1994-11-30T00:00:00\", \"1994-12-31T00:00:00\", \"1995-01-31T00:00:00\", \"1995-02-28T00:00:00\", \"1995-03-31T00:00:00\", \"1995-04-30T00:00:00\", \"1995-05-31T00:00:00\", \"1995-06-30T00:00:00\", \"1995-07-31T00:00:00\", \"1995-08-31T00:00:00\", \"1995-09-30T00:00:00\", \"1995-10-31T00:00:00\", \"1995-11-30T00:00:00\", \"1995-12-31T00:00:00\", \"1996-01-31T00:00:00\", \"1996-02-29T00:00:00\", \"1996-03-31T00:00:00\", \"1996-04-30T00:00:00\", \"1996-05-31T00:00:00\", \"1996-06-30T00:00:00\", \"1996-07-31T00:00:00\", \"1996-08-31T00:00:00\", \"1996-09-30T00:00:00\", \"1996-10-31T00:00:00\", \"1996-11-30T00:00:00\", \"1996-12-31T00:00:00\", \"1997-01-31T00:00:00\", \"1997-02-28T00:00:00\", \"1997-03-31T00:00:00\", \"1997-04-30T00:00:00\", \"1997-05-31T00:00:00\", \"1997-06-30T00:00:00\", \"1997-07-31T00:00:00\", \"1997-08-31T00:00:00\", \"1997-09-30T00:00:00\", \"1997-10-31T00:00:00\", \"1997-11-30T00:00:00\", \"1997-12-31T00:00:00\", \"1998-01-31T00:00:00\", \"1998-02-28T00:00:00\", \"1998-03-31T00:00:00\", \"1998-04-30T00:00:00\", \"1998-05-31T00:00:00\", \"1998-06-30T00:00:00\", \"1998-07-31T00:00:00\", \"1998-08-31T00:00:00\", \"1998-09-30T00:00:00\", \"1998-10-31T00:00:00\", \"1998-11-30T00:00:00\", \"1998-12-31T00:00:00\", \"1999-01-31T00:00:00\", \"1999-02-28T00:00:00\", \"1999-03-31T00:00:00\", \"1999-04-30T00:00:00\", \"1999-05-31T00:00:00\", \"1999-06-30T00:00:00\", \"1999-07-31T00:00:00\", \"1999-08-31T00:00:00\", \"1999-09-30T00:00:00\", \"1999-10-31T00:00:00\", \"1999-11-30T00:00:00\", \"1999-12-31T00:00:00\", \"2000-01-31T00:00:00\", \"2000-02-29T00:00:00\", \"2000-03-31T00:00:00\", \"2000-04-30T00:00:00\", \"2000-05-31T00:00:00\", \"2000-06-30T00:00:00\", \"2000-07-31T00:00:00\", \"2000-08-31T00:00:00\", \"2000-09-30T00:00:00\", \"2000-10-31T00:00:00\", \"2000-11-30T00:00:00\", \"2000-12-31T00:00:00\", \"2001-01-31T00:00:00\", \"2001-02-28T00:00:00\", \"2001-03-31T00:00:00\", \"2001-04-30T00:00:00\", \"2001-05-31T00:00:00\", \"2001-06-30T00:00:00\", \"2001-07-31T00:00:00\", \"2001-08-31T00:00:00\", \"2001-09-30T00:00:00\", \"2001-10-31T00:00:00\", \"2001-11-30T00:00:00\", \"2001-12-31T00:00:00\", \"2002-01-31T00:00:00\", \"2002-02-28T00:00:00\", \"2002-03-31T00:00:00\", \"2002-04-30T00:00:00\", \"2002-05-31T00:00:00\", \"2002-06-30T00:00:00\", \"2002-07-31T00:00:00\", \"2002-08-31T00:00:00\", \"2002-09-30T00:00:00\", \"2002-10-31T00:00:00\", \"2002-11-30T00:00:00\", \"2002-12-31T00:00:00\", \"2003-01-31T00:00:00\", \"2003-02-28T00:00:00\", \"2003-03-31T00:00:00\", \"2003-04-30T00:00:00\", \"2003-05-31T00:00:00\", \"2003-06-30T00:00:00\", \"2003-07-31T00:00:00\", \"2003-08-31T00:00:00\", \"2003-09-30T00:00:00\", \"2003-10-31T00:00:00\", \"2003-11-30T00:00:00\", \"2003-12-31T00:00:00\", \"2004-01-31T00:00:00\", \"2004-02-29T00:00:00\", \"2004-03-31T00:00:00\", \"2004-04-30T00:00:00\", \"2004-05-31T00:00:00\", \"2004-06-30T00:00:00\", \"2004-07-31T00:00:00\", \"2004-08-31T00:00:00\", \"2004-09-30T00:00:00\", \"2004-10-31T00:00:00\", \"2004-11-30T00:00:00\", \"2004-12-31T00:00:00\", \"2005-01-31T00:00:00\", \"2005-02-28T00:00:00\", \"2005-03-31T00:00:00\", \"2005-04-30T00:00:00\", \"2005-05-31T00:00:00\", \"2005-06-30T00:00:00\", \"2005-07-31T00:00:00\", \"2005-08-31T00:00:00\", \"2005-09-30T00:00:00\", \"2005-10-31T00:00:00\", \"2005-11-30T00:00:00\", \"2005-12-31T00:00:00\", \"2006-01-31T00:00:00\", \"2006-02-28T00:00:00\", \"2006-03-31T00:00:00\", \"2006-04-30T00:00:00\", \"2006-05-31T00:00:00\", \"2006-06-30T00:00:00\", \"2006-07-31T00:00:00\", \"2006-08-31T00:00:00\", \"2006-09-30T00:00:00\", \"2006-10-31T00:00:00\", \"2006-11-30T00:00:00\", \"2006-12-31T00:00:00\", \"2007-01-31T00:00:00\", \"2007-02-28T00:00:00\", \"2007-03-31T00:00:00\", \"2007-04-30T00:00:00\", \"2007-05-31T00:00:00\", \"2007-06-30T00:00:00\", \"2007-07-31T00:00:00\", \"2007-08-31T00:00:00\", \"2007-09-30T00:00:00\", \"2007-10-31T00:00:00\", \"2007-11-30T00:00:00\", \"2007-12-31T00:00:00\", \"2008-01-31T00:00:00\", \"2008-02-29T00:00:00\", \"2008-03-31T00:00:00\", \"2008-04-30T00:00:00\", \"2008-05-31T00:00:00\", \"2008-06-30T00:00:00\", \"2008-07-31T00:00:00\", \"2008-08-31T00:00:00\", \"2008-09-30T00:00:00\", \"2008-10-31T00:00:00\", \"2008-11-30T00:00:00\", \"2008-12-31T00:00:00\", \"2009-01-31T00:00:00\", \"2009-02-28T00:00:00\", \"2009-03-31T00:00:00\", \"2009-04-30T00:00:00\", \"2009-05-31T00:00:00\", \"2009-06-30T00:00:00\", \"2009-07-31T00:00:00\", \"2009-08-31T00:00:00\", \"2009-09-30T00:00:00\", \"2009-10-31T00:00:00\", \"2009-11-30T00:00:00\", \"2009-12-31T00:00:00\", \"2010-01-31T00:00:00\", \"2010-02-28T00:00:00\", \"2010-03-31T00:00:00\", \"2010-04-30T00:00:00\", \"2010-05-31T00:00:00\", \"2010-06-30T00:00:00\", \"2010-07-31T00:00:00\", \"2010-08-31T00:00:00\", \"2010-09-30T00:00:00\", \"2010-10-31T00:00:00\", \"2010-11-30T00:00:00\", \"2010-12-31T00:00:00\", \"2011-01-31T00:00:00\", \"2011-02-28T00:00:00\", \"2011-03-31T00:00:00\", \"2011-04-30T00:00:00\", \"2011-05-31T00:00:00\", \"2011-06-30T00:00:00\", \"2011-07-31T00:00:00\", \"2011-08-31T00:00:00\", \"2011-09-30T00:00:00\", \"2011-10-31T00:00:00\", \"2011-11-30T00:00:00\", \"2011-12-31T00:00:00\", \"2012-01-31T00:00:00\", \"2012-02-29T00:00:00\", \"2012-03-31T00:00:00\", \"2012-04-30T00:00:00\", \"2012-05-31T00:00:00\", \"2012-06-30T00:00:00\", \"2012-07-31T00:00:00\", \"2012-08-31T00:00:00\", \"2012-09-30T00:00:00\", \"2012-10-31T00:00:00\", \"2012-11-30T00:00:00\", \"2012-12-31T00:00:00\", \"2013-01-31T00:00:00\", \"2013-02-28T00:00:00\", \"2013-03-31T00:00:00\", \"2013-04-30T00:00:00\", \"2013-05-31T00:00:00\", \"2013-06-30T00:00:00\", \"2013-07-31T00:00:00\", \"2013-08-31T00:00:00\", \"2013-09-30T00:00:00\", \"2013-10-31T00:00:00\", \"2013-11-30T00:00:00\", \"2013-12-31T00:00:00\", \"2014-01-31T00:00:00\", \"2014-02-28T00:00:00\", \"2014-03-31T00:00:00\", \"2014-04-30T00:00:00\", \"2014-05-31T00:00:00\", \"2014-06-30T00:00:00\", \"2014-07-31T00:00:00\", \"2014-08-31T00:00:00\", \"2014-09-30T00:00:00\", \"2014-10-31T00:00:00\", \"2014-11-30T00:00:00\", \"2014-12-31T00:00:00\", \"2015-01-31T00:00:00\", \"2015-02-28T00:00:00\", \"2015-03-31T00:00:00\", \"2015-04-30T00:00:00\", \"2015-05-31T00:00:00\", \"2015-06-30T00:00:00\", \"2015-07-31T00:00:00\", \"2015-08-31T00:00:00\", \"2015-09-30T00:00:00\", \"2015-10-31T00:00:00\", \"2015-11-30T00:00:00\", \"2015-12-31T00:00:00\", \"2016-01-31T00:00:00\", \"2016-02-29T00:00:00\", \"2016-03-31T00:00:00\", \"2016-04-30T00:00:00\", \"2016-05-31T00:00:00\", \"2016-06-30T00:00:00\", \"2016-07-31T00:00:00\", \"2016-08-31T00:00:00\", \"2016-09-30T00:00:00\", \"2016-10-31T00:00:00\", \"2016-11-30T00:00:00\", \"2016-12-31T00:00:00\", \"2017-01-31T00:00:00\", \"2017-02-28T00:00:00\", \"2017-03-31T00:00:00\", \"2017-04-30T00:00:00\", \"2017-05-31T00:00:00\", \"2017-06-30T00:00:00\", \"2017-07-31T00:00:00\", \"2017-08-31T00:00:00\", \"2017-09-30T00:00:00\", \"2017-10-31T00:00:00\", \"2017-11-30T00:00:00\", \"2017-12-31T00:00:00\", \"2018-01-31T00:00:00\", \"2018-02-28T00:00:00\", \"2018-03-31T00:00:00\", \"2018-04-30T00:00:00\", \"2018-05-31T00:00:00\", \"2018-06-30T00:00:00\", \"2018-07-31T00:00:00\", \"2018-08-31T00:00:00\", \"2018-09-30T00:00:00\", \"2018-10-31T00:00:00\", \"2018-11-30T00:00:00\", \"2018-12-31T00:00:00\", \"2019-01-31T00:00:00\", \"2019-02-28T00:00:00\", \"2019-03-31T00:00:00\", \"2019-04-30T00:00:00\", \"2019-05-31T00:00:00\", \"2019-06-30T00:00:00\", \"2019-07-31T00:00:00\", \"2019-08-31T00:00:00\", \"2019-09-30T00:00:00\", \"2019-10-31T00:00:00\", \"2019-11-30T00:00:00\", \"2019-12-31T00:00:00\", \"2020-01-31T00:00:00\", \"2020-02-29T00:00:00\", \"2020-03-31T00:00:00\", \"2020-04-30T00:00:00\", \"2020-05-31T00:00:00\", \"2020-06-30T00:00:00\", \"2020-07-31T00:00:00\"]], \"y\": [[1.0, 1.0, 2.0, 2.0, 1.0, 1.0, 2.0, 1.0, 2.0, 3.0, 1.0, 2.0, 2.0, 1.0, 1.0, 2.0, 1.0, 3.0, 2.0, 3.0, 2.0, 6.0, 2.0, 2.0, 5.0, 1.0, 1.0, 2.0, 8.0, 2.0, 11.0, 2.0, 3.0, 1.0, 1.0, 2.0, 4.0, null, 8.0, 9.0, 18.0, 10.0, 6.0, 5.0, 9.0, 8.0, 1.0, 6.0, 3.0, 5.0, 4.0, 1.0, 8.0, 3.0, 3.0, 22.0, 11.0, 8.0, 14.0, 15.0, 13.0, 37.0, 43.0, 19.0, 34.0, 20.0, 27.0, 14.0, 6.0, 17.0, 15.0, 9.0, 14.0, 24.0, 42.0, 42.0, 13.0, 18.0, 17.0, 15.0, 17.0, 13.0, 26.0, 7.0, 10.0, 7.0, 11.0, 15.0, 10.0, 12.0, 5.0, 12.0, 8.0, 7.0, 12.0, 7.0, 16.0, 32.0, 34.0, 28.0, 32.0, 40.0, 35.0, 38.0, 19.0, 128.0, 114.0, 43.0, 289.0, 120.0, 28.0, 40.0, 87.0, 129.0, 76.0, 184.0, 94.0, 144.0, 73.0, 62.0, 37.0, 18.0, 29.0, 17.0, 10.0, 42.0, 25.0, 24.0, 6.0, 28.0, 12.0, 25.0, 26.0, 19.0, 7.0, 13.0, 9.0, 11.0, 22.0, 15.0, 20.0, 18.0, 25.0, 3.0, 3.0, 9.0, 44.0, 21.0, 21.0, 50.0, 50.0, 19.0, 57.0, 52.0, 61.0, 47.0, 47.0, 46.0, 57.0, 42.0, 50.0, 44.0, 53.0, 90.0, 80.0, 38.0, 34.0, 31.0, 74.0, 58.0, 75.0, 67.0, 96.0, 94.0, 85.0, 231.0, 125.0, 89.0, 83.0, 54.0, 60.0, 60.0, 51.0, 33.0, 77.0, 45.0, 52.0, 49.0, 78.0, 64.0, 48.0, 70.0, 61.0, 47.0, 73.0, 56.0, 51.0, 76.0, 87.0, 84.0, 86.0, 65.0, 41.0, 34.0, 45.0, 40.0, 79.0, 54.0, 63.0, 56.0, 55.0, 48.0, 45.0, 34.0, 30.0, 26.0, 26.0, 41.0, 39.0, 43.0, 34.0, 52.0, 44.0, 29.0, 25.0, 23.0, 18.0, 19.0, 11.0, 14.0, 55.0, 630.0, 2300.0, 758.0, 68.0, 366.0, 2347.0, 47.0, 26.0, 55.0, 13.0, 13.0, 28.0, 19.0, 30.0, 23.0, 23.0, 34.0, 11.0, 13.0, 13.0, 11.0, 6.0, 22.0, 20.0, 16.0, 26.0, 8.0, 23.0, 20.0, 36.0, 556.0, 24.0, 11.0, 1278.0, 7.0, 86.0, 330.0, 2184.0, 57.0, 50.0, 35.0, 33.0, 17.0, 15.0, 14.0, 21.0, 23.0, 17.0, 13.0, 24.0, 15.0, 18.0, 24.0, 23.0, 290.0, 25.0, 7.0, 20.0, 16.0, 15.0, 40.0, 24.0, 36.0, 23.0, 36.0, 23.0, 16.0, 21.0, 14.0, 37.0, 39.0, 23.0, 13.0, 41.0, 36.0, 72.0, 42.0, 31.0, 47.0, 19.0, 8.0, 38.0, 17.0, 32.0, 37.0, 46.0, 23.0, 34.0, 14.0, 11.0, 41.0, 13.0, 13.0, 5.0, 14.0, 35.0, 25.0, 21.0, 10.0, 15.0, 34.0, 6.0, 35.0, 16.0, 9.0, 21.0, 26.0, 6.0, 4.0, 25.0, 25.0, 40.0, 49.0, 74.0, 74.0, 88.0, 98.0, 67.0, 3.0, 2293.0, 1419.0, 768.0, 2087.0, null]]}, [0]], \"label\": \"TJRJ\", \"method\": \"restyle\", \"visible\": true}], \"direction\": \"down\", \"showactive\": true}], \"xaxis\": {\"title\": {\"text\": \"Data\"}}, \"yaxis\": {\"title\": {\"text\": \"Quantidade de movimenta\\u00e7\\u00f5es\"}}},                        {\"responsive\": true}                    ).then(function(){\n",
       "                            \n",
       "var gd = document.getElementById('1dc22b2e-3152-4bc4-9631-7e8ae4a1cac6');\n",
       "var x = new MutationObserver(function (mutations, observer) {{\n",
       "        var display = window.getComputedStyle(gd).display;\n",
       "        if (!display || display === 'none') {{\n",
       "            console.log([gd, 'removed!']);\n",
       "            Plotly.purge(gd);\n",
       "            observer.disconnect();\n",
       "        }}\n",
       "}});\n",
       "\n",
       "// Listen for the removal of the full notebook cells\n",
       "var notebookContainer = gd.closest('#notebook-container');\n",
       "if (notebookContainer) {{\n",
       "    x.observe(notebookContainer, {childList: true});\n",
       "}}\n",
       "\n",
       "// Listen for the clearing of the current output cell\n",
       "var outputEl = gd.closest('.output');\n",
       "if (outputEl) {{\n",
       "    x.observe(outputEl, {childList: true});\n",
       "}}\n",
       "\n",
       "                        })                };                });            </script>        </div>"
      ]
     },
     "metadata": {},
     "output_type": "display_data"
    }
   ],
   "source": [
    "fig = plot_with_filter(\n",
    "    data=data,\n",
    "    title='Quantidade de movimentações do tribunal',\n",
    "    xlabel='Data',\n",
    "    ylabel='Quantidade de movimentações'\n",
    ")\n",
    "fig.show()"
   ]
  },
  {
   "cell_type": "markdown",
   "metadata": {},
   "source": [
    "---"
   ]
  },
  {
   "cell_type": "markdown",
   "metadata": {},
   "source": [
    "# Plotly: Gráficos de barra"
   ]
  },
  {
   "cell_type": "markdown",
   "metadata": {},
   "source": [
    "- Número de processos totais;\n",
    "- Número de processos em aberto;\n",
    "- Número de processos em andamento (Final Trânsito em julgado);\n",
    "- Qtd de orgãos de cada tribunal;"
   ]
  },
  {
   "cell_type": "code",
   "execution_count": 27,
   "metadata": {},
   "outputs": [
    {
     "data": {
      "text/html": [
       "<div>\n",
       "<style scoped>\n",
       "    .dataframe tbody tr th:only-of-type {\n",
       "        vertical-align: middle;\n",
       "    }\n",
       "\n",
       "    .dataframe tbody tr th {\n",
       "        vertical-align: top;\n",
       "    }\n",
       "\n",
       "    .dataframe thead th {\n",
       "        text-align: right;\n",
       "    }\n",
       "</style>\n",
       "<table border=\"1\" class=\"dataframe\">\n",
       "  <thead>\n",
       "    <tr style=\"text-align: right;\">\n",
       "      <th></th>\n",
       "      <th>descricao</th>\n",
       "      <th>movimentoNacional.codigoNacional</th>\n",
       "    </tr>\n",
       "    <tr>\n",
       "      <th>dadosBasicos.numero</th>\n",
       "      <th></th>\n",
       "      <th></th>\n",
       "    </tr>\n",
       "  </thead>\n",
       "  <tbody>\n",
       "    <tr>\n",
       "      <th>34619888190009</th>\n",
       "      <td>Remessa</td>\n",
       "      <td>123.0</td>\n",
       "    </tr>\n",
       "    <tr>\n",
       "      <th>34619888190009</th>\n",
       "      <td>Conclusão</td>\n",
       "      <td>51.0</td>\n",
       "    </tr>\n",
       "    <tr>\n",
       "      <th>34619888190009</th>\n",
       "      <td>Conclusão</td>\n",
       "      <td>51.0</td>\n",
       "    </tr>\n",
       "    <tr>\n",
       "      <th>34619888190009</th>\n",
       "      <td>Conclusão</td>\n",
       "      <td>51.0</td>\n",
       "    </tr>\n",
       "    <tr>\n",
       "      <th>34619888190009</th>\n",
       "      <td>Remessa</td>\n",
       "      <td>123.0</td>\n",
       "    </tr>\n",
       "  </tbody>\n",
       "</table>\n",
       "</div>"
      ],
      "text/plain": [
       "                     descricao  movimentoNacional.codigoNacional\n",
       "dadosBasicos.numero                                             \n",
       "34619888190009         Remessa                             123.0\n",
       "34619888190009       Conclusão                              51.0\n",
       "34619888190009       Conclusão                              51.0\n",
       "34619888190009       Conclusão                              51.0\n",
       "34619888190009         Remessa                             123.0"
      ]
     },
     "execution_count": 27,
     "metadata": {},
     "output_type": "execute_result"
    }
   ],
   "source": [
    "df_moves['descricao'] = df_moves['movimentoNacional.codigoNacional'].astype(float).map(sgt_movimentos['descricao'])\n",
    "df_moves[['descricao', 'movimentoNacional.codigoNacional']].head()"
   ]
  },
  {
   "cell_type": "code",
   "execution_count": 32,
   "metadata": {},
   "outputs": [
    {
     "data": {
      "application/vnd.plotly.v1+json": {
       "config": {
        "plotlyServerURL": "https://plot.ly"
       },
       "data": [
        {
         "alignmentgroup": "True",
         "hovertemplate": "x=%{x}<br>y=%{y}<extra></extra>",
         "legendgroup": "",
         "marker": {
          "color": "#636efa"
         },
         "name": "",
         "offsetgroup": "",
         "orientation": "v",
         "showlegend": false,
         "textposition": "auto",
         "type": "bar",
         "x": [
          "TJPR",
          "TJRJ",
          "TJMG"
         ],
         "xaxis": "x",
         "y": [
          17018,
          16847,
          13133
         ],
         "yaxis": "y"
        }
       ],
       "layout": {
        "barmode": "relative",
        "legend": {
         "tracegroupgap": 0
        },
        "margin": {
         "t": 60
        },
        "template": {
         "data": {
          "bar": [
           {
            "error_x": {
             "color": "#2a3f5f"
            },
            "error_y": {
             "color": "#2a3f5f"
            },
            "marker": {
             "line": {
              "color": "#E5ECF6",
              "width": 0.5
             }
            },
            "type": "bar"
           }
          ],
          "barpolar": [
           {
            "marker": {
             "line": {
              "color": "#E5ECF6",
              "width": 0.5
             }
            },
            "type": "barpolar"
           }
          ],
          "carpet": [
           {
            "aaxis": {
             "endlinecolor": "#2a3f5f",
             "gridcolor": "white",
             "linecolor": "white",
             "minorgridcolor": "white",
             "startlinecolor": "#2a3f5f"
            },
            "baxis": {
             "endlinecolor": "#2a3f5f",
             "gridcolor": "white",
             "linecolor": "white",
             "minorgridcolor": "white",
             "startlinecolor": "#2a3f5f"
            },
            "type": "carpet"
           }
          ],
          "choropleth": [
           {
            "colorbar": {
             "outlinewidth": 0,
             "ticks": ""
            },
            "type": "choropleth"
           }
          ],
          "contour": [
           {
            "colorbar": {
             "outlinewidth": 0,
             "ticks": ""
            },
            "colorscale": [
             [
              0,
              "#0d0887"
             ],
             [
              0.1111111111111111,
              "#46039f"
             ],
             [
              0.2222222222222222,
              "#7201a8"
             ],
             [
              0.3333333333333333,
              "#9c179e"
             ],
             [
              0.4444444444444444,
              "#bd3786"
             ],
             [
              0.5555555555555556,
              "#d8576b"
             ],
             [
              0.6666666666666666,
              "#ed7953"
             ],
             [
              0.7777777777777778,
              "#fb9f3a"
             ],
             [
              0.8888888888888888,
              "#fdca26"
             ],
             [
              1,
              "#f0f921"
             ]
            ],
            "type": "contour"
           }
          ],
          "contourcarpet": [
           {
            "colorbar": {
             "outlinewidth": 0,
             "ticks": ""
            },
            "type": "contourcarpet"
           }
          ],
          "heatmap": [
           {
            "colorbar": {
             "outlinewidth": 0,
             "ticks": ""
            },
            "colorscale": [
             [
              0,
              "#0d0887"
             ],
             [
              0.1111111111111111,
              "#46039f"
             ],
             [
              0.2222222222222222,
              "#7201a8"
             ],
             [
              0.3333333333333333,
              "#9c179e"
             ],
             [
              0.4444444444444444,
              "#bd3786"
             ],
             [
              0.5555555555555556,
              "#d8576b"
             ],
             [
              0.6666666666666666,
              "#ed7953"
             ],
             [
              0.7777777777777778,
              "#fb9f3a"
             ],
             [
              0.8888888888888888,
              "#fdca26"
             ],
             [
              1,
              "#f0f921"
             ]
            ],
            "type": "heatmap"
           }
          ],
          "heatmapgl": [
           {
            "colorbar": {
             "outlinewidth": 0,
             "ticks": ""
            },
            "colorscale": [
             [
              0,
              "#0d0887"
             ],
             [
              0.1111111111111111,
              "#46039f"
             ],
             [
              0.2222222222222222,
              "#7201a8"
             ],
             [
              0.3333333333333333,
              "#9c179e"
             ],
             [
              0.4444444444444444,
              "#bd3786"
             ],
             [
              0.5555555555555556,
              "#d8576b"
             ],
             [
              0.6666666666666666,
              "#ed7953"
             ],
             [
              0.7777777777777778,
              "#fb9f3a"
             ],
             [
              0.8888888888888888,
              "#fdca26"
             ],
             [
              1,
              "#f0f921"
             ]
            ],
            "type": "heatmapgl"
           }
          ],
          "histogram": [
           {
            "marker": {
             "colorbar": {
              "outlinewidth": 0,
              "ticks": ""
             }
            },
            "type": "histogram"
           }
          ],
          "histogram2d": [
           {
            "colorbar": {
             "outlinewidth": 0,
             "ticks": ""
            },
            "colorscale": [
             [
              0,
              "#0d0887"
             ],
             [
              0.1111111111111111,
              "#46039f"
             ],
             [
              0.2222222222222222,
              "#7201a8"
             ],
             [
              0.3333333333333333,
              "#9c179e"
             ],
             [
              0.4444444444444444,
              "#bd3786"
             ],
             [
              0.5555555555555556,
              "#d8576b"
             ],
             [
              0.6666666666666666,
              "#ed7953"
             ],
             [
              0.7777777777777778,
              "#fb9f3a"
             ],
             [
              0.8888888888888888,
              "#fdca26"
             ],
             [
              1,
              "#f0f921"
             ]
            ],
            "type": "histogram2d"
           }
          ],
          "histogram2dcontour": [
           {
            "colorbar": {
             "outlinewidth": 0,
             "ticks": ""
            },
            "colorscale": [
             [
              0,
              "#0d0887"
             ],
             [
              0.1111111111111111,
              "#46039f"
             ],
             [
              0.2222222222222222,
              "#7201a8"
             ],
             [
              0.3333333333333333,
              "#9c179e"
             ],
             [
              0.4444444444444444,
              "#bd3786"
             ],
             [
              0.5555555555555556,
              "#d8576b"
             ],
             [
              0.6666666666666666,
              "#ed7953"
             ],
             [
              0.7777777777777778,
              "#fb9f3a"
             ],
             [
              0.8888888888888888,
              "#fdca26"
             ],
             [
              1,
              "#f0f921"
             ]
            ],
            "type": "histogram2dcontour"
           }
          ],
          "mesh3d": [
           {
            "colorbar": {
             "outlinewidth": 0,
             "ticks": ""
            },
            "type": "mesh3d"
           }
          ],
          "parcoords": [
           {
            "line": {
             "colorbar": {
              "outlinewidth": 0,
              "ticks": ""
             }
            },
            "type": "parcoords"
           }
          ],
          "pie": [
           {
            "automargin": true,
            "type": "pie"
           }
          ],
          "scatter": [
           {
            "marker": {
             "colorbar": {
              "outlinewidth": 0,
              "ticks": ""
             }
            },
            "type": "scatter"
           }
          ],
          "scatter3d": [
           {
            "line": {
             "colorbar": {
              "outlinewidth": 0,
              "ticks": ""
             }
            },
            "marker": {
             "colorbar": {
              "outlinewidth": 0,
              "ticks": ""
             }
            },
            "type": "scatter3d"
           }
          ],
          "scattercarpet": [
           {
            "marker": {
             "colorbar": {
              "outlinewidth": 0,
              "ticks": ""
             }
            },
            "type": "scattercarpet"
           }
          ],
          "scattergeo": [
           {
            "marker": {
             "colorbar": {
              "outlinewidth": 0,
              "ticks": ""
             }
            },
            "type": "scattergeo"
           }
          ],
          "scattergl": [
           {
            "marker": {
             "colorbar": {
              "outlinewidth": 0,
              "ticks": ""
             }
            },
            "type": "scattergl"
           }
          ],
          "scattermapbox": [
           {
            "marker": {
             "colorbar": {
              "outlinewidth": 0,
              "ticks": ""
             }
            },
            "type": "scattermapbox"
           }
          ],
          "scatterpolar": [
           {
            "marker": {
             "colorbar": {
              "outlinewidth": 0,
              "ticks": ""
             }
            },
            "type": "scatterpolar"
           }
          ],
          "scatterpolargl": [
           {
            "marker": {
             "colorbar": {
              "outlinewidth": 0,
              "ticks": ""
             }
            },
            "type": "scatterpolargl"
           }
          ],
          "scatterternary": [
           {
            "marker": {
             "colorbar": {
              "outlinewidth": 0,
              "ticks": ""
             }
            },
            "type": "scatterternary"
           }
          ],
          "surface": [
           {
            "colorbar": {
             "outlinewidth": 0,
             "ticks": ""
            },
            "colorscale": [
             [
              0,
              "#0d0887"
             ],
             [
              0.1111111111111111,
              "#46039f"
             ],
             [
              0.2222222222222222,
              "#7201a8"
             ],
             [
              0.3333333333333333,
              "#9c179e"
             ],
             [
              0.4444444444444444,
              "#bd3786"
             ],
             [
              0.5555555555555556,
              "#d8576b"
             ],
             [
              0.6666666666666666,
              "#ed7953"
             ],
             [
              0.7777777777777778,
              "#fb9f3a"
             ],
             [
              0.8888888888888888,
              "#fdca26"
             ],
             [
              1,
              "#f0f921"
             ]
            ],
            "type": "surface"
           }
          ],
          "table": [
           {
            "cells": {
             "fill": {
              "color": "#EBF0F8"
             },
             "line": {
              "color": "white"
             }
            },
            "header": {
             "fill": {
              "color": "#C8D4E3"
             },
             "line": {
              "color": "white"
             }
            },
            "type": "table"
           }
          ]
         },
         "layout": {
          "annotationdefaults": {
           "arrowcolor": "#2a3f5f",
           "arrowhead": 0,
           "arrowwidth": 1
          },
          "coloraxis": {
           "colorbar": {
            "outlinewidth": 0,
            "ticks": ""
           }
          },
          "colorscale": {
           "diverging": [
            [
             0,
             "#8e0152"
            ],
            [
             0.1,
             "#c51b7d"
            ],
            [
             0.2,
             "#de77ae"
            ],
            [
             0.3,
             "#f1b6da"
            ],
            [
             0.4,
             "#fde0ef"
            ],
            [
             0.5,
             "#f7f7f7"
            ],
            [
             0.6,
             "#e6f5d0"
            ],
            [
             0.7,
             "#b8e186"
            ],
            [
             0.8,
             "#7fbc41"
            ],
            [
             0.9,
             "#4d9221"
            ],
            [
             1,
             "#276419"
            ]
           ],
           "sequential": [
            [
             0,
             "#0d0887"
            ],
            [
             0.1111111111111111,
             "#46039f"
            ],
            [
             0.2222222222222222,
             "#7201a8"
            ],
            [
             0.3333333333333333,
             "#9c179e"
            ],
            [
             0.4444444444444444,
             "#bd3786"
            ],
            [
             0.5555555555555556,
             "#d8576b"
            ],
            [
             0.6666666666666666,
             "#ed7953"
            ],
            [
             0.7777777777777778,
             "#fb9f3a"
            ],
            [
             0.8888888888888888,
             "#fdca26"
            ],
            [
             1,
             "#f0f921"
            ]
           ],
           "sequentialminus": [
            [
             0,
             "#0d0887"
            ],
            [
             0.1111111111111111,
             "#46039f"
            ],
            [
             0.2222222222222222,
             "#7201a8"
            ],
            [
             0.3333333333333333,
             "#9c179e"
            ],
            [
             0.4444444444444444,
             "#bd3786"
            ],
            [
             0.5555555555555556,
             "#d8576b"
            ],
            [
             0.6666666666666666,
             "#ed7953"
            ],
            [
             0.7777777777777778,
             "#fb9f3a"
            ],
            [
             0.8888888888888888,
             "#fdca26"
            ],
            [
             1,
             "#f0f921"
            ]
           ]
          },
          "colorway": [
           "#636efa",
           "#EF553B",
           "#00cc96",
           "#ab63fa",
           "#FFA15A",
           "#19d3f3",
           "#FF6692",
           "#B6E880",
           "#FF97FF",
           "#FECB52"
          ],
          "font": {
           "color": "#2a3f5f"
          },
          "geo": {
           "bgcolor": "white",
           "lakecolor": "white",
           "landcolor": "#E5ECF6",
           "showlakes": true,
           "showland": true,
           "subunitcolor": "white"
          },
          "hoverlabel": {
           "align": "left"
          },
          "hovermode": "closest",
          "mapbox": {
           "style": "light"
          },
          "paper_bgcolor": "white",
          "plot_bgcolor": "#E5ECF6",
          "polar": {
           "angularaxis": {
            "gridcolor": "white",
            "linecolor": "white",
            "ticks": ""
           },
           "bgcolor": "#E5ECF6",
           "radialaxis": {
            "gridcolor": "white",
            "linecolor": "white",
            "ticks": ""
           }
          },
          "scene": {
           "xaxis": {
            "backgroundcolor": "#E5ECF6",
            "gridcolor": "white",
            "gridwidth": 2,
            "linecolor": "white",
            "showbackground": true,
            "ticks": "",
            "zerolinecolor": "white"
           },
           "yaxis": {
            "backgroundcolor": "#E5ECF6",
            "gridcolor": "white",
            "gridwidth": 2,
            "linecolor": "white",
            "showbackground": true,
            "ticks": "",
            "zerolinecolor": "white"
           },
           "zaxis": {
            "backgroundcolor": "#E5ECF6",
            "gridcolor": "white",
            "gridwidth": 2,
            "linecolor": "white",
            "showbackground": true,
            "ticks": "",
            "zerolinecolor": "white"
           }
          },
          "shapedefaults": {
           "line": {
            "color": "#2a3f5f"
           }
          },
          "ternary": {
           "aaxis": {
            "gridcolor": "white",
            "linecolor": "white",
            "ticks": ""
           },
           "baxis": {
            "gridcolor": "white",
            "linecolor": "white",
            "ticks": ""
           },
           "bgcolor": "#E5ECF6",
           "caxis": {
            "gridcolor": "white",
            "linecolor": "white",
            "ticks": ""
           }
          },
          "title": {
           "x": 0.05
          },
          "xaxis": {
           "automargin": true,
           "gridcolor": "white",
           "linecolor": "white",
           "ticks": "",
           "title": {
            "standoff": 15
           },
           "zerolinecolor": "white",
           "zerolinewidth": 2
          },
          "yaxis": {
           "automargin": true,
           "gridcolor": "white",
           "linecolor": "white",
           "ticks": "",
           "title": {
            "standoff": 15
           },
           "zerolinecolor": "white",
           "zerolinewidth": 2
          }
         }
        },
        "title": {
         "text": "Total de processos"
        },
        "xaxis": {
         "anchor": "y",
         "domain": [
          0,
          1
         ],
         "title": {
          "text": "Tribunal"
         }
        },
        "yaxis": {
         "anchor": "x",
         "domain": [
          0,
          1
         ],
         "title": {
          "text": "Número de processos"
         }
        }
       }
      },
      "text/html": [
       "<div>                            <div id=\"5434b2c3-6755-4e69-92c0-d2f81ac3214b\" class=\"plotly-graph-div\" style=\"height:525px; width:100%;\"></div>            <script type=\"text/javascript\">                require([\"plotly\"], function(Plotly) {                    window.PLOTLYENV=window.PLOTLYENV || {};                                    if (document.getElementById(\"5434b2c3-6755-4e69-92c0-d2f81ac3214b\")) {                    Plotly.newPlot(                        \"5434b2c3-6755-4e69-92c0-d2f81ac3214b\",                        [{\"alignmentgroup\": \"True\", \"hovertemplate\": \"x=%{x}<br>y=%{y}<extra></extra>\", \"legendgroup\": \"\", \"marker\": {\"color\": \"#636efa\"}, \"name\": \"\", \"offsetgroup\": \"\", \"orientation\": \"v\", \"showlegend\": false, \"textposition\": \"auto\", \"type\": \"bar\", \"x\": [\"TJPR\", \"TJRJ\", \"TJMG\"], \"xaxis\": \"x\", \"y\": [17018, 16847, 13133], \"yaxis\": \"y\"}],                        {\"barmode\": \"relative\", \"legend\": {\"tracegroupgap\": 0}, \"margin\": {\"t\": 60}, \"template\": {\"data\": {\"bar\": [{\"error_x\": {\"color\": \"#2a3f5f\"}, \"error_y\": {\"color\": \"#2a3f5f\"}, \"marker\": {\"line\": {\"color\": \"#E5ECF6\", \"width\": 0.5}}, \"type\": \"bar\"}], \"barpolar\": [{\"marker\": {\"line\": {\"color\": \"#E5ECF6\", \"width\": 0.5}}, \"type\": \"barpolar\"}], \"carpet\": [{\"aaxis\": {\"endlinecolor\": \"#2a3f5f\", \"gridcolor\": \"white\", \"linecolor\": \"white\", \"minorgridcolor\": \"white\", \"startlinecolor\": \"#2a3f5f\"}, \"baxis\": {\"endlinecolor\": \"#2a3f5f\", \"gridcolor\": \"white\", \"linecolor\": \"white\", \"minorgridcolor\": \"white\", \"startlinecolor\": \"#2a3f5f\"}, \"type\": \"carpet\"}], \"choropleth\": [{\"colorbar\": {\"outlinewidth\": 0, \"ticks\": \"\"}, \"type\": \"choropleth\"}], \"contour\": [{\"colorbar\": {\"outlinewidth\": 0, \"ticks\": \"\"}, \"colorscale\": [[0.0, \"#0d0887\"], [0.1111111111111111, \"#46039f\"], [0.2222222222222222, \"#7201a8\"], [0.3333333333333333, \"#9c179e\"], [0.4444444444444444, \"#bd3786\"], [0.5555555555555556, \"#d8576b\"], [0.6666666666666666, \"#ed7953\"], [0.7777777777777778, \"#fb9f3a\"], [0.8888888888888888, \"#fdca26\"], [1.0, \"#f0f921\"]], \"type\": \"contour\"}], \"contourcarpet\": [{\"colorbar\": {\"outlinewidth\": 0, \"ticks\": \"\"}, \"type\": \"contourcarpet\"}], \"heatmap\": [{\"colorbar\": {\"outlinewidth\": 0, \"ticks\": \"\"}, \"colorscale\": [[0.0, \"#0d0887\"], [0.1111111111111111, \"#46039f\"], [0.2222222222222222, \"#7201a8\"], [0.3333333333333333, \"#9c179e\"], [0.4444444444444444, \"#bd3786\"], [0.5555555555555556, \"#d8576b\"], [0.6666666666666666, \"#ed7953\"], [0.7777777777777778, \"#fb9f3a\"], [0.8888888888888888, \"#fdca26\"], [1.0, \"#f0f921\"]], \"type\": \"heatmap\"}], \"heatmapgl\": [{\"colorbar\": {\"outlinewidth\": 0, \"ticks\": \"\"}, \"colorscale\": [[0.0, \"#0d0887\"], [0.1111111111111111, \"#46039f\"], [0.2222222222222222, \"#7201a8\"], [0.3333333333333333, \"#9c179e\"], [0.4444444444444444, \"#bd3786\"], [0.5555555555555556, \"#d8576b\"], [0.6666666666666666, \"#ed7953\"], [0.7777777777777778, \"#fb9f3a\"], [0.8888888888888888, \"#fdca26\"], [1.0, \"#f0f921\"]], \"type\": \"heatmapgl\"}], \"histogram\": [{\"marker\": {\"colorbar\": {\"outlinewidth\": 0, \"ticks\": \"\"}}, \"type\": \"histogram\"}], \"histogram2d\": [{\"colorbar\": {\"outlinewidth\": 0, \"ticks\": \"\"}, \"colorscale\": [[0.0, \"#0d0887\"], [0.1111111111111111, \"#46039f\"], [0.2222222222222222, \"#7201a8\"], [0.3333333333333333, \"#9c179e\"], [0.4444444444444444, \"#bd3786\"], [0.5555555555555556, \"#d8576b\"], [0.6666666666666666, \"#ed7953\"], [0.7777777777777778, \"#fb9f3a\"], [0.8888888888888888, \"#fdca26\"], [1.0, \"#f0f921\"]], \"type\": \"histogram2d\"}], \"histogram2dcontour\": [{\"colorbar\": {\"outlinewidth\": 0, \"ticks\": \"\"}, \"colorscale\": [[0.0, \"#0d0887\"], [0.1111111111111111, \"#46039f\"], [0.2222222222222222, \"#7201a8\"], [0.3333333333333333, \"#9c179e\"], [0.4444444444444444, \"#bd3786\"], [0.5555555555555556, \"#d8576b\"], [0.6666666666666666, \"#ed7953\"], [0.7777777777777778, \"#fb9f3a\"], [0.8888888888888888, \"#fdca26\"], [1.0, \"#f0f921\"]], \"type\": \"histogram2dcontour\"}], \"mesh3d\": [{\"colorbar\": {\"outlinewidth\": 0, \"ticks\": \"\"}, \"type\": \"mesh3d\"}], \"parcoords\": [{\"line\": {\"colorbar\": {\"outlinewidth\": 0, \"ticks\": \"\"}}, \"type\": \"parcoords\"}], \"pie\": [{\"automargin\": true, \"type\": \"pie\"}], \"scatter\": [{\"marker\": {\"colorbar\": {\"outlinewidth\": 0, \"ticks\": \"\"}}, \"type\": \"scatter\"}], \"scatter3d\": [{\"line\": {\"colorbar\": {\"outlinewidth\": 0, \"ticks\": \"\"}}, \"marker\": {\"colorbar\": {\"outlinewidth\": 0, \"ticks\": \"\"}}, \"type\": \"scatter3d\"}], \"scattercarpet\": [{\"marker\": {\"colorbar\": {\"outlinewidth\": 0, \"ticks\": \"\"}}, \"type\": \"scattercarpet\"}], \"scattergeo\": [{\"marker\": {\"colorbar\": {\"outlinewidth\": 0, \"ticks\": \"\"}}, \"type\": \"scattergeo\"}], \"scattergl\": [{\"marker\": {\"colorbar\": {\"outlinewidth\": 0, \"ticks\": \"\"}}, \"type\": \"scattergl\"}], \"scattermapbox\": [{\"marker\": {\"colorbar\": {\"outlinewidth\": 0, \"ticks\": \"\"}}, \"type\": \"scattermapbox\"}], \"scatterpolar\": [{\"marker\": {\"colorbar\": {\"outlinewidth\": 0, \"ticks\": \"\"}}, \"type\": \"scatterpolar\"}], \"scatterpolargl\": [{\"marker\": {\"colorbar\": {\"outlinewidth\": 0, \"ticks\": \"\"}}, \"type\": \"scatterpolargl\"}], \"scatterternary\": [{\"marker\": {\"colorbar\": {\"outlinewidth\": 0, \"ticks\": \"\"}}, \"type\": \"scatterternary\"}], \"surface\": [{\"colorbar\": {\"outlinewidth\": 0, \"ticks\": \"\"}, \"colorscale\": [[0.0, \"#0d0887\"], [0.1111111111111111, \"#46039f\"], [0.2222222222222222, \"#7201a8\"], [0.3333333333333333, \"#9c179e\"], [0.4444444444444444, \"#bd3786\"], [0.5555555555555556, \"#d8576b\"], [0.6666666666666666, \"#ed7953\"], [0.7777777777777778, \"#fb9f3a\"], [0.8888888888888888, \"#fdca26\"], [1.0, \"#f0f921\"]], \"type\": \"surface\"}], \"table\": [{\"cells\": {\"fill\": {\"color\": \"#EBF0F8\"}, \"line\": {\"color\": \"white\"}}, \"header\": {\"fill\": {\"color\": \"#C8D4E3\"}, \"line\": {\"color\": \"white\"}}, \"type\": \"table\"}]}, \"layout\": {\"annotationdefaults\": {\"arrowcolor\": \"#2a3f5f\", \"arrowhead\": 0, \"arrowwidth\": 1}, \"coloraxis\": {\"colorbar\": {\"outlinewidth\": 0, \"ticks\": \"\"}}, \"colorscale\": {\"diverging\": [[0, \"#8e0152\"], [0.1, \"#c51b7d\"], [0.2, \"#de77ae\"], [0.3, \"#f1b6da\"], [0.4, \"#fde0ef\"], [0.5, \"#f7f7f7\"], [0.6, \"#e6f5d0\"], [0.7, \"#b8e186\"], [0.8, \"#7fbc41\"], [0.9, \"#4d9221\"], [1, \"#276419\"]], \"sequential\": [[0.0, \"#0d0887\"], [0.1111111111111111, \"#46039f\"], [0.2222222222222222, \"#7201a8\"], [0.3333333333333333, \"#9c179e\"], [0.4444444444444444, \"#bd3786\"], [0.5555555555555556, \"#d8576b\"], [0.6666666666666666, \"#ed7953\"], [0.7777777777777778, \"#fb9f3a\"], [0.8888888888888888, \"#fdca26\"], [1.0, \"#f0f921\"]], \"sequentialminus\": [[0.0, \"#0d0887\"], [0.1111111111111111, \"#46039f\"], [0.2222222222222222, \"#7201a8\"], [0.3333333333333333, \"#9c179e\"], [0.4444444444444444, \"#bd3786\"], [0.5555555555555556, \"#d8576b\"], [0.6666666666666666, \"#ed7953\"], [0.7777777777777778, \"#fb9f3a\"], [0.8888888888888888, \"#fdca26\"], [1.0, \"#f0f921\"]]}, \"colorway\": [\"#636efa\", \"#EF553B\", \"#00cc96\", \"#ab63fa\", \"#FFA15A\", \"#19d3f3\", \"#FF6692\", \"#B6E880\", \"#FF97FF\", \"#FECB52\"], \"font\": {\"color\": \"#2a3f5f\"}, \"geo\": {\"bgcolor\": \"white\", \"lakecolor\": \"white\", \"landcolor\": \"#E5ECF6\", \"showlakes\": true, \"showland\": true, \"subunitcolor\": \"white\"}, \"hoverlabel\": {\"align\": \"left\"}, \"hovermode\": \"closest\", \"mapbox\": {\"style\": \"light\"}, \"paper_bgcolor\": \"white\", \"plot_bgcolor\": \"#E5ECF6\", \"polar\": {\"angularaxis\": {\"gridcolor\": \"white\", \"linecolor\": \"white\", \"ticks\": \"\"}, \"bgcolor\": \"#E5ECF6\", \"radialaxis\": {\"gridcolor\": \"white\", \"linecolor\": \"white\", \"ticks\": \"\"}}, \"scene\": {\"xaxis\": {\"backgroundcolor\": \"#E5ECF6\", \"gridcolor\": \"white\", \"gridwidth\": 2, \"linecolor\": \"white\", \"showbackground\": true, \"ticks\": \"\", \"zerolinecolor\": \"white\"}, \"yaxis\": {\"backgroundcolor\": \"#E5ECF6\", \"gridcolor\": \"white\", \"gridwidth\": 2, \"linecolor\": \"white\", \"showbackground\": true, \"ticks\": \"\", \"zerolinecolor\": \"white\"}, \"zaxis\": {\"backgroundcolor\": \"#E5ECF6\", \"gridcolor\": \"white\", \"gridwidth\": 2, \"linecolor\": \"white\", \"showbackground\": true, \"ticks\": \"\", \"zerolinecolor\": \"white\"}}, \"shapedefaults\": {\"line\": {\"color\": \"#2a3f5f\"}}, \"ternary\": {\"aaxis\": {\"gridcolor\": \"white\", \"linecolor\": \"white\", \"ticks\": \"\"}, \"baxis\": {\"gridcolor\": \"white\", \"linecolor\": \"white\", \"ticks\": \"\"}, \"bgcolor\": \"#E5ECF6\", \"caxis\": {\"gridcolor\": \"white\", \"linecolor\": \"white\", \"ticks\": \"\"}}, \"title\": {\"x\": 0.05}, \"xaxis\": {\"automargin\": true, \"gridcolor\": \"white\", \"linecolor\": \"white\", \"ticks\": \"\", \"title\": {\"standoff\": 15}, \"zerolinecolor\": \"white\", \"zerolinewidth\": 2}, \"yaxis\": {\"automargin\": true, \"gridcolor\": \"white\", \"linecolor\": \"white\", \"ticks\": \"\", \"title\": {\"standoff\": 15}, \"zerolinecolor\": \"white\", \"zerolinewidth\": 2}}}, \"title\": {\"text\": \"Total de processos\"}, \"xaxis\": {\"anchor\": \"y\", \"domain\": [0.0, 1.0], \"title\": {\"text\": \"Tribunal\"}}, \"yaxis\": {\"anchor\": \"x\", \"domain\": [0.0, 1.0], \"title\": {\"text\": \"N\\u00famero de processos\"}}},                        {\"responsive\": true}                    ).then(function(){\n",
       "                            \n",
       "var gd = document.getElementById('5434b2c3-6755-4e69-92c0-d2f81ac3214b');\n",
       "var x = new MutationObserver(function (mutations, observer) {{\n",
       "        var display = window.getComputedStyle(gd).display;\n",
       "        if (!display || display === 'none') {{\n",
       "            console.log([gd, 'removed!']);\n",
       "            Plotly.purge(gd);\n",
       "            observer.disconnect();\n",
       "        }}\n",
       "}});\n",
       "\n",
       "// Listen for the removal of the full notebook cells\n",
       "var notebookContainer = gd.closest('#notebook-container');\n",
       "if (notebookContainer) {{\n",
       "    x.observe(notebookContainer, {childList: true});\n",
       "}}\n",
       "\n",
       "// Listen for the clearing of the current output cell\n",
       "var outputEl = gd.closest('.output');\n",
       "if (outputEl) {{\n",
       "    x.observe(outputEl, {childList: true});\n",
       "}}\n",
       "\n",
       "                        })                };                });            </script>        </div>"
      ]
     },
     "metadata": {},
     "output_type": "display_data"
    }
   ],
   "source": [
    "total_proc = df_base['siglaTribunal'].value_counts().to_frame('count')\n",
    "fig = px.bar(x=total_proc.index, y=total_proc['count'])\n",
    "fig.update_layout(\n",
    "    title='Total de processos',\n",
    "    xaxis_title='Tribunal',\n",
    "    yaxis_title='Número de processos'\n",
    ")\n",
    "fig.show()"
   ]
  },
  {
   "cell_type": "code",
   "execution_count": 35,
   "metadata": {},
   "outputs": [
    {
     "data": {
      "application/vnd.plotly.v1+json": {
       "config": {
        "plotlyServerURL": "https://plot.ly"
       },
       "data": [
        {
         "alignmentgroup": "True",
         "hovertemplate": "x=%{x}<br>y=%{y}<extra></extra>",
         "legendgroup": "",
         "marker": {
          "color": "#636efa"
         },
         "name": "",
         "offsetgroup": "",
         "orientation": "v",
         "showlegend": false,
         "textposition": "auto",
         "type": "bar",
         "x": [
          "TJMG",
          "TJRJ"
         ],
         "xaxis": "x",
         "y": [
          425,
          16
         ],
         "yaxis": "y"
        }
       ],
       "layout": {
        "barmode": "relative",
        "legend": {
         "tracegroupgap": 0
        },
        "margin": {
         "t": 60
        },
        "template": {
         "data": {
          "bar": [
           {
            "error_x": {
             "color": "#2a3f5f"
            },
            "error_y": {
             "color": "#2a3f5f"
            },
            "marker": {
             "line": {
              "color": "#E5ECF6",
              "width": 0.5
             }
            },
            "type": "bar"
           }
          ],
          "barpolar": [
           {
            "marker": {
             "line": {
              "color": "#E5ECF6",
              "width": 0.5
             }
            },
            "type": "barpolar"
           }
          ],
          "carpet": [
           {
            "aaxis": {
             "endlinecolor": "#2a3f5f",
             "gridcolor": "white",
             "linecolor": "white",
             "minorgridcolor": "white",
             "startlinecolor": "#2a3f5f"
            },
            "baxis": {
             "endlinecolor": "#2a3f5f",
             "gridcolor": "white",
             "linecolor": "white",
             "minorgridcolor": "white",
             "startlinecolor": "#2a3f5f"
            },
            "type": "carpet"
           }
          ],
          "choropleth": [
           {
            "colorbar": {
             "outlinewidth": 0,
             "ticks": ""
            },
            "type": "choropleth"
           }
          ],
          "contour": [
           {
            "colorbar": {
             "outlinewidth": 0,
             "ticks": ""
            },
            "colorscale": [
             [
              0,
              "#0d0887"
             ],
             [
              0.1111111111111111,
              "#46039f"
             ],
             [
              0.2222222222222222,
              "#7201a8"
             ],
             [
              0.3333333333333333,
              "#9c179e"
             ],
             [
              0.4444444444444444,
              "#bd3786"
             ],
             [
              0.5555555555555556,
              "#d8576b"
             ],
             [
              0.6666666666666666,
              "#ed7953"
             ],
             [
              0.7777777777777778,
              "#fb9f3a"
             ],
             [
              0.8888888888888888,
              "#fdca26"
             ],
             [
              1,
              "#f0f921"
             ]
            ],
            "type": "contour"
           }
          ],
          "contourcarpet": [
           {
            "colorbar": {
             "outlinewidth": 0,
             "ticks": ""
            },
            "type": "contourcarpet"
           }
          ],
          "heatmap": [
           {
            "colorbar": {
             "outlinewidth": 0,
             "ticks": ""
            },
            "colorscale": [
             [
              0,
              "#0d0887"
             ],
             [
              0.1111111111111111,
              "#46039f"
             ],
             [
              0.2222222222222222,
              "#7201a8"
             ],
             [
              0.3333333333333333,
              "#9c179e"
             ],
             [
              0.4444444444444444,
              "#bd3786"
             ],
             [
              0.5555555555555556,
              "#d8576b"
             ],
             [
              0.6666666666666666,
              "#ed7953"
             ],
             [
              0.7777777777777778,
              "#fb9f3a"
             ],
             [
              0.8888888888888888,
              "#fdca26"
             ],
             [
              1,
              "#f0f921"
             ]
            ],
            "type": "heatmap"
           }
          ],
          "heatmapgl": [
           {
            "colorbar": {
             "outlinewidth": 0,
             "ticks": ""
            },
            "colorscale": [
             [
              0,
              "#0d0887"
             ],
             [
              0.1111111111111111,
              "#46039f"
             ],
             [
              0.2222222222222222,
              "#7201a8"
             ],
             [
              0.3333333333333333,
              "#9c179e"
             ],
             [
              0.4444444444444444,
              "#bd3786"
             ],
             [
              0.5555555555555556,
              "#d8576b"
             ],
             [
              0.6666666666666666,
              "#ed7953"
             ],
             [
              0.7777777777777778,
              "#fb9f3a"
             ],
             [
              0.8888888888888888,
              "#fdca26"
             ],
             [
              1,
              "#f0f921"
             ]
            ],
            "type": "heatmapgl"
           }
          ],
          "histogram": [
           {
            "marker": {
             "colorbar": {
              "outlinewidth": 0,
              "ticks": ""
             }
            },
            "type": "histogram"
           }
          ],
          "histogram2d": [
           {
            "colorbar": {
             "outlinewidth": 0,
             "ticks": ""
            },
            "colorscale": [
             [
              0,
              "#0d0887"
             ],
             [
              0.1111111111111111,
              "#46039f"
             ],
             [
              0.2222222222222222,
              "#7201a8"
             ],
             [
              0.3333333333333333,
              "#9c179e"
             ],
             [
              0.4444444444444444,
              "#bd3786"
             ],
             [
              0.5555555555555556,
              "#d8576b"
             ],
             [
              0.6666666666666666,
              "#ed7953"
             ],
             [
              0.7777777777777778,
              "#fb9f3a"
             ],
             [
              0.8888888888888888,
              "#fdca26"
             ],
             [
              1,
              "#f0f921"
             ]
            ],
            "type": "histogram2d"
           }
          ],
          "histogram2dcontour": [
           {
            "colorbar": {
             "outlinewidth": 0,
             "ticks": ""
            },
            "colorscale": [
             [
              0,
              "#0d0887"
             ],
             [
              0.1111111111111111,
              "#46039f"
             ],
             [
              0.2222222222222222,
              "#7201a8"
             ],
             [
              0.3333333333333333,
              "#9c179e"
             ],
             [
              0.4444444444444444,
              "#bd3786"
             ],
             [
              0.5555555555555556,
              "#d8576b"
             ],
             [
              0.6666666666666666,
              "#ed7953"
             ],
             [
              0.7777777777777778,
              "#fb9f3a"
             ],
             [
              0.8888888888888888,
              "#fdca26"
             ],
             [
              1,
              "#f0f921"
             ]
            ],
            "type": "histogram2dcontour"
           }
          ],
          "mesh3d": [
           {
            "colorbar": {
             "outlinewidth": 0,
             "ticks": ""
            },
            "type": "mesh3d"
           }
          ],
          "parcoords": [
           {
            "line": {
             "colorbar": {
              "outlinewidth": 0,
              "ticks": ""
             }
            },
            "type": "parcoords"
           }
          ],
          "pie": [
           {
            "automargin": true,
            "type": "pie"
           }
          ],
          "scatter": [
           {
            "marker": {
             "colorbar": {
              "outlinewidth": 0,
              "ticks": ""
             }
            },
            "type": "scatter"
           }
          ],
          "scatter3d": [
           {
            "line": {
             "colorbar": {
              "outlinewidth": 0,
              "ticks": ""
             }
            },
            "marker": {
             "colorbar": {
              "outlinewidth": 0,
              "ticks": ""
             }
            },
            "type": "scatter3d"
           }
          ],
          "scattercarpet": [
           {
            "marker": {
             "colorbar": {
              "outlinewidth": 0,
              "ticks": ""
             }
            },
            "type": "scattercarpet"
           }
          ],
          "scattergeo": [
           {
            "marker": {
             "colorbar": {
              "outlinewidth": 0,
              "ticks": ""
             }
            },
            "type": "scattergeo"
           }
          ],
          "scattergl": [
           {
            "marker": {
             "colorbar": {
              "outlinewidth": 0,
              "ticks": ""
             }
            },
            "type": "scattergl"
           }
          ],
          "scattermapbox": [
           {
            "marker": {
             "colorbar": {
              "outlinewidth": 0,
              "ticks": ""
             }
            },
            "type": "scattermapbox"
           }
          ],
          "scatterpolar": [
           {
            "marker": {
             "colorbar": {
              "outlinewidth": 0,
              "ticks": ""
             }
            },
            "type": "scatterpolar"
           }
          ],
          "scatterpolargl": [
           {
            "marker": {
             "colorbar": {
              "outlinewidth": 0,
              "ticks": ""
             }
            },
            "type": "scatterpolargl"
           }
          ],
          "scatterternary": [
           {
            "marker": {
             "colorbar": {
              "outlinewidth": 0,
              "ticks": ""
             }
            },
            "type": "scatterternary"
           }
          ],
          "surface": [
           {
            "colorbar": {
             "outlinewidth": 0,
             "ticks": ""
            },
            "colorscale": [
             [
              0,
              "#0d0887"
             ],
             [
              0.1111111111111111,
              "#46039f"
             ],
             [
              0.2222222222222222,
              "#7201a8"
             ],
             [
              0.3333333333333333,
              "#9c179e"
             ],
             [
              0.4444444444444444,
              "#bd3786"
             ],
             [
              0.5555555555555556,
              "#d8576b"
             ],
             [
              0.6666666666666666,
              "#ed7953"
             ],
             [
              0.7777777777777778,
              "#fb9f3a"
             ],
             [
              0.8888888888888888,
              "#fdca26"
             ],
             [
              1,
              "#f0f921"
             ]
            ],
            "type": "surface"
           }
          ],
          "table": [
           {
            "cells": {
             "fill": {
              "color": "#EBF0F8"
             },
             "line": {
              "color": "white"
             }
            },
            "header": {
             "fill": {
              "color": "#C8D4E3"
             },
             "line": {
              "color": "white"
             }
            },
            "type": "table"
           }
          ]
         },
         "layout": {
          "annotationdefaults": {
           "arrowcolor": "#2a3f5f",
           "arrowhead": 0,
           "arrowwidth": 1
          },
          "coloraxis": {
           "colorbar": {
            "outlinewidth": 0,
            "ticks": ""
           }
          },
          "colorscale": {
           "diverging": [
            [
             0,
             "#8e0152"
            ],
            [
             0.1,
             "#c51b7d"
            ],
            [
             0.2,
             "#de77ae"
            ],
            [
             0.3,
             "#f1b6da"
            ],
            [
             0.4,
             "#fde0ef"
            ],
            [
             0.5,
             "#f7f7f7"
            ],
            [
             0.6,
             "#e6f5d0"
            ],
            [
             0.7,
             "#b8e186"
            ],
            [
             0.8,
             "#7fbc41"
            ],
            [
             0.9,
             "#4d9221"
            ],
            [
             1,
             "#276419"
            ]
           ],
           "sequential": [
            [
             0,
             "#0d0887"
            ],
            [
             0.1111111111111111,
             "#46039f"
            ],
            [
             0.2222222222222222,
             "#7201a8"
            ],
            [
             0.3333333333333333,
             "#9c179e"
            ],
            [
             0.4444444444444444,
             "#bd3786"
            ],
            [
             0.5555555555555556,
             "#d8576b"
            ],
            [
             0.6666666666666666,
             "#ed7953"
            ],
            [
             0.7777777777777778,
             "#fb9f3a"
            ],
            [
             0.8888888888888888,
             "#fdca26"
            ],
            [
             1,
             "#f0f921"
            ]
           ],
           "sequentialminus": [
            [
             0,
             "#0d0887"
            ],
            [
             0.1111111111111111,
             "#46039f"
            ],
            [
             0.2222222222222222,
             "#7201a8"
            ],
            [
             0.3333333333333333,
             "#9c179e"
            ],
            [
             0.4444444444444444,
             "#bd3786"
            ],
            [
             0.5555555555555556,
             "#d8576b"
            ],
            [
             0.6666666666666666,
             "#ed7953"
            ],
            [
             0.7777777777777778,
             "#fb9f3a"
            ],
            [
             0.8888888888888888,
             "#fdca26"
            ],
            [
             1,
             "#f0f921"
            ]
           ]
          },
          "colorway": [
           "#636efa",
           "#EF553B",
           "#00cc96",
           "#ab63fa",
           "#FFA15A",
           "#19d3f3",
           "#FF6692",
           "#B6E880",
           "#FF97FF",
           "#FECB52"
          ],
          "font": {
           "color": "#2a3f5f"
          },
          "geo": {
           "bgcolor": "white",
           "lakecolor": "white",
           "landcolor": "#E5ECF6",
           "showlakes": true,
           "showland": true,
           "subunitcolor": "white"
          },
          "hoverlabel": {
           "align": "left"
          },
          "hovermode": "closest",
          "mapbox": {
           "style": "light"
          },
          "paper_bgcolor": "white",
          "plot_bgcolor": "#E5ECF6",
          "polar": {
           "angularaxis": {
            "gridcolor": "white",
            "linecolor": "white",
            "ticks": ""
           },
           "bgcolor": "#E5ECF6",
           "radialaxis": {
            "gridcolor": "white",
            "linecolor": "white",
            "ticks": ""
           }
          },
          "scene": {
           "xaxis": {
            "backgroundcolor": "#E5ECF6",
            "gridcolor": "white",
            "gridwidth": 2,
            "linecolor": "white",
            "showbackground": true,
            "ticks": "",
            "zerolinecolor": "white"
           },
           "yaxis": {
            "backgroundcolor": "#E5ECF6",
            "gridcolor": "white",
            "gridwidth": 2,
            "linecolor": "white",
            "showbackground": true,
            "ticks": "",
            "zerolinecolor": "white"
           },
           "zaxis": {
            "backgroundcolor": "#E5ECF6",
            "gridcolor": "white",
            "gridwidth": 2,
            "linecolor": "white",
            "showbackground": true,
            "ticks": "",
            "zerolinecolor": "white"
           }
          },
          "shapedefaults": {
           "line": {
            "color": "#2a3f5f"
           }
          },
          "ternary": {
           "aaxis": {
            "gridcolor": "white",
            "linecolor": "white",
            "ticks": ""
           },
           "baxis": {
            "gridcolor": "white",
            "linecolor": "white",
            "ticks": ""
           },
           "bgcolor": "#E5ECF6",
           "caxis": {
            "gridcolor": "white",
            "linecolor": "white",
            "ticks": ""
           }
          },
          "title": {
           "x": 0.05
          },
          "xaxis": {
           "automargin": true,
           "gridcolor": "white",
           "linecolor": "white",
           "ticks": "",
           "title": {
            "standoff": 15
           },
           "zerolinecolor": "white",
           "zerolinewidth": 2
          },
          "yaxis": {
           "automargin": true,
           "gridcolor": "white",
           "linecolor": "white",
           "ticks": "",
           "title": {
            "standoff": 15
           },
           "zerolinecolor": "white",
           "zerolinewidth": 2
          }
         }
        },
        "title": {
         "text": "Processos finalizados"
        },
        "xaxis": {
         "anchor": "y",
         "domain": [
          0,
          1
         ],
         "title": {
          "text": "Tribunal"
         }
        },
        "yaxis": {
         "anchor": "x",
         "domain": [
          0,
          1
         ],
         "title": {
          "text": "Número de processos"
         }
        }
       }
      },
      "text/html": [
       "<div>                            <div id=\"d2cbe7e9-c0ea-44a1-893e-f19eac7cf554\" class=\"plotly-graph-div\" style=\"height:525px; width:100%;\"></div>            <script type=\"text/javascript\">                require([\"plotly\"], function(Plotly) {                    window.PLOTLYENV=window.PLOTLYENV || {};                                    if (document.getElementById(\"d2cbe7e9-c0ea-44a1-893e-f19eac7cf554\")) {                    Plotly.newPlot(                        \"d2cbe7e9-c0ea-44a1-893e-f19eac7cf554\",                        [{\"alignmentgroup\": \"True\", \"hovertemplate\": \"x=%{x}<br>y=%{y}<extra></extra>\", \"legendgroup\": \"\", \"marker\": {\"color\": \"#636efa\"}, \"name\": \"\", \"offsetgroup\": \"\", \"orientation\": \"v\", \"showlegend\": false, \"textposition\": \"auto\", \"type\": \"bar\", \"x\": [\"TJMG\", \"TJRJ\"], \"xaxis\": \"x\", \"y\": [425, 16], \"yaxis\": \"y\"}],                        {\"barmode\": \"relative\", \"legend\": {\"tracegroupgap\": 0}, \"margin\": {\"t\": 60}, \"template\": {\"data\": {\"bar\": [{\"error_x\": {\"color\": \"#2a3f5f\"}, \"error_y\": {\"color\": \"#2a3f5f\"}, \"marker\": {\"line\": {\"color\": \"#E5ECF6\", \"width\": 0.5}}, \"type\": \"bar\"}], \"barpolar\": [{\"marker\": {\"line\": {\"color\": \"#E5ECF6\", \"width\": 0.5}}, \"type\": \"barpolar\"}], \"carpet\": [{\"aaxis\": {\"endlinecolor\": \"#2a3f5f\", \"gridcolor\": \"white\", \"linecolor\": \"white\", \"minorgridcolor\": \"white\", \"startlinecolor\": \"#2a3f5f\"}, \"baxis\": {\"endlinecolor\": \"#2a3f5f\", \"gridcolor\": \"white\", \"linecolor\": \"white\", \"minorgridcolor\": \"white\", \"startlinecolor\": \"#2a3f5f\"}, \"type\": \"carpet\"}], \"choropleth\": [{\"colorbar\": {\"outlinewidth\": 0, \"ticks\": \"\"}, \"type\": \"choropleth\"}], \"contour\": [{\"colorbar\": {\"outlinewidth\": 0, \"ticks\": \"\"}, \"colorscale\": [[0.0, \"#0d0887\"], [0.1111111111111111, \"#46039f\"], [0.2222222222222222, \"#7201a8\"], [0.3333333333333333, \"#9c179e\"], [0.4444444444444444, \"#bd3786\"], [0.5555555555555556, \"#d8576b\"], [0.6666666666666666, \"#ed7953\"], [0.7777777777777778, \"#fb9f3a\"], [0.8888888888888888, \"#fdca26\"], [1.0, \"#f0f921\"]], \"type\": \"contour\"}], \"contourcarpet\": [{\"colorbar\": {\"outlinewidth\": 0, \"ticks\": \"\"}, \"type\": \"contourcarpet\"}], \"heatmap\": [{\"colorbar\": {\"outlinewidth\": 0, \"ticks\": \"\"}, \"colorscale\": [[0.0, \"#0d0887\"], [0.1111111111111111, \"#46039f\"], [0.2222222222222222, \"#7201a8\"], [0.3333333333333333, \"#9c179e\"], [0.4444444444444444, \"#bd3786\"], [0.5555555555555556, \"#d8576b\"], [0.6666666666666666, \"#ed7953\"], [0.7777777777777778, \"#fb9f3a\"], [0.8888888888888888, \"#fdca26\"], [1.0, \"#f0f921\"]], \"type\": \"heatmap\"}], \"heatmapgl\": [{\"colorbar\": {\"outlinewidth\": 0, \"ticks\": \"\"}, \"colorscale\": [[0.0, \"#0d0887\"], [0.1111111111111111, \"#46039f\"], [0.2222222222222222, \"#7201a8\"], [0.3333333333333333, \"#9c179e\"], [0.4444444444444444, \"#bd3786\"], [0.5555555555555556, \"#d8576b\"], [0.6666666666666666, \"#ed7953\"], [0.7777777777777778, \"#fb9f3a\"], [0.8888888888888888, \"#fdca26\"], [1.0, \"#f0f921\"]], \"type\": \"heatmapgl\"}], \"histogram\": [{\"marker\": {\"colorbar\": {\"outlinewidth\": 0, \"ticks\": \"\"}}, \"type\": \"histogram\"}], \"histogram2d\": [{\"colorbar\": {\"outlinewidth\": 0, \"ticks\": \"\"}, \"colorscale\": [[0.0, \"#0d0887\"], [0.1111111111111111, \"#46039f\"], [0.2222222222222222, \"#7201a8\"], [0.3333333333333333, \"#9c179e\"], [0.4444444444444444, \"#bd3786\"], [0.5555555555555556, \"#d8576b\"], [0.6666666666666666, \"#ed7953\"], [0.7777777777777778, \"#fb9f3a\"], [0.8888888888888888, \"#fdca26\"], [1.0, \"#f0f921\"]], \"type\": \"histogram2d\"}], \"histogram2dcontour\": [{\"colorbar\": {\"outlinewidth\": 0, \"ticks\": \"\"}, \"colorscale\": [[0.0, \"#0d0887\"], [0.1111111111111111, \"#46039f\"], [0.2222222222222222, \"#7201a8\"], [0.3333333333333333, \"#9c179e\"], [0.4444444444444444, \"#bd3786\"], [0.5555555555555556, \"#d8576b\"], [0.6666666666666666, \"#ed7953\"], [0.7777777777777778, \"#fb9f3a\"], [0.8888888888888888, \"#fdca26\"], [1.0, \"#f0f921\"]], \"type\": \"histogram2dcontour\"}], \"mesh3d\": [{\"colorbar\": {\"outlinewidth\": 0, \"ticks\": \"\"}, \"type\": \"mesh3d\"}], \"parcoords\": [{\"line\": {\"colorbar\": {\"outlinewidth\": 0, \"ticks\": \"\"}}, \"type\": \"parcoords\"}], \"pie\": [{\"automargin\": true, \"type\": \"pie\"}], \"scatter\": [{\"marker\": {\"colorbar\": {\"outlinewidth\": 0, \"ticks\": \"\"}}, \"type\": \"scatter\"}], \"scatter3d\": [{\"line\": {\"colorbar\": {\"outlinewidth\": 0, \"ticks\": \"\"}}, \"marker\": {\"colorbar\": {\"outlinewidth\": 0, \"ticks\": \"\"}}, \"type\": \"scatter3d\"}], \"scattercarpet\": [{\"marker\": {\"colorbar\": {\"outlinewidth\": 0, \"ticks\": \"\"}}, \"type\": \"scattercarpet\"}], \"scattergeo\": [{\"marker\": {\"colorbar\": {\"outlinewidth\": 0, \"ticks\": \"\"}}, \"type\": \"scattergeo\"}], \"scattergl\": [{\"marker\": {\"colorbar\": {\"outlinewidth\": 0, \"ticks\": \"\"}}, \"type\": \"scattergl\"}], \"scattermapbox\": [{\"marker\": {\"colorbar\": {\"outlinewidth\": 0, \"ticks\": \"\"}}, \"type\": \"scattermapbox\"}], \"scatterpolar\": [{\"marker\": {\"colorbar\": {\"outlinewidth\": 0, \"ticks\": \"\"}}, \"type\": \"scatterpolar\"}], \"scatterpolargl\": [{\"marker\": {\"colorbar\": {\"outlinewidth\": 0, \"ticks\": \"\"}}, \"type\": \"scatterpolargl\"}], \"scatterternary\": [{\"marker\": {\"colorbar\": {\"outlinewidth\": 0, \"ticks\": \"\"}}, \"type\": \"scatterternary\"}], \"surface\": [{\"colorbar\": {\"outlinewidth\": 0, \"ticks\": \"\"}, \"colorscale\": [[0.0, \"#0d0887\"], [0.1111111111111111, \"#46039f\"], [0.2222222222222222, \"#7201a8\"], [0.3333333333333333, \"#9c179e\"], [0.4444444444444444, \"#bd3786\"], [0.5555555555555556, \"#d8576b\"], [0.6666666666666666, \"#ed7953\"], [0.7777777777777778, \"#fb9f3a\"], [0.8888888888888888, \"#fdca26\"], [1.0, \"#f0f921\"]], \"type\": \"surface\"}], \"table\": [{\"cells\": {\"fill\": {\"color\": \"#EBF0F8\"}, \"line\": {\"color\": \"white\"}}, \"header\": {\"fill\": {\"color\": \"#C8D4E3\"}, \"line\": {\"color\": \"white\"}}, \"type\": \"table\"}]}, \"layout\": {\"annotationdefaults\": {\"arrowcolor\": \"#2a3f5f\", \"arrowhead\": 0, \"arrowwidth\": 1}, \"coloraxis\": {\"colorbar\": {\"outlinewidth\": 0, \"ticks\": \"\"}}, \"colorscale\": {\"diverging\": [[0, \"#8e0152\"], [0.1, \"#c51b7d\"], [0.2, \"#de77ae\"], [0.3, \"#f1b6da\"], [0.4, \"#fde0ef\"], [0.5, \"#f7f7f7\"], [0.6, \"#e6f5d0\"], [0.7, \"#b8e186\"], [0.8, \"#7fbc41\"], [0.9, \"#4d9221\"], [1, \"#276419\"]], \"sequential\": [[0.0, \"#0d0887\"], [0.1111111111111111, \"#46039f\"], [0.2222222222222222, \"#7201a8\"], [0.3333333333333333, \"#9c179e\"], [0.4444444444444444, \"#bd3786\"], [0.5555555555555556, \"#d8576b\"], [0.6666666666666666, \"#ed7953\"], [0.7777777777777778, \"#fb9f3a\"], [0.8888888888888888, \"#fdca26\"], [1.0, \"#f0f921\"]], \"sequentialminus\": [[0.0, \"#0d0887\"], [0.1111111111111111, \"#46039f\"], [0.2222222222222222, \"#7201a8\"], [0.3333333333333333, \"#9c179e\"], [0.4444444444444444, \"#bd3786\"], [0.5555555555555556, \"#d8576b\"], [0.6666666666666666, \"#ed7953\"], [0.7777777777777778, \"#fb9f3a\"], [0.8888888888888888, \"#fdca26\"], [1.0, \"#f0f921\"]]}, \"colorway\": [\"#636efa\", \"#EF553B\", \"#00cc96\", \"#ab63fa\", \"#FFA15A\", \"#19d3f3\", \"#FF6692\", \"#B6E880\", \"#FF97FF\", \"#FECB52\"], \"font\": {\"color\": \"#2a3f5f\"}, \"geo\": {\"bgcolor\": \"white\", \"lakecolor\": \"white\", \"landcolor\": \"#E5ECF6\", \"showlakes\": true, \"showland\": true, \"subunitcolor\": \"white\"}, \"hoverlabel\": {\"align\": \"left\"}, \"hovermode\": \"closest\", \"mapbox\": {\"style\": \"light\"}, \"paper_bgcolor\": \"white\", \"plot_bgcolor\": \"#E5ECF6\", \"polar\": {\"angularaxis\": {\"gridcolor\": \"white\", \"linecolor\": \"white\", \"ticks\": \"\"}, \"bgcolor\": \"#E5ECF6\", \"radialaxis\": {\"gridcolor\": \"white\", \"linecolor\": \"white\", \"ticks\": \"\"}}, \"scene\": {\"xaxis\": {\"backgroundcolor\": \"#E5ECF6\", \"gridcolor\": \"white\", \"gridwidth\": 2, \"linecolor\": \"white\", \"showbackground\": true, \"ticks\": \"\", \"zerolinecolor\": \"white\"}, \"yaxis\": {\"backgroundcolor\": \"#E5ECF6\", \"gridcolor\": \"white\", \"gridwidth\": 2, \"linecolor\": \"white\", \"showbackground\": true, \"ticks\": \"\", \"zerolinecolor\": \"white\"}, \"zaxis\": {\"backgroundcolor\": \"#E5ECF6\", \"gridcolor\": \"white\", \"gridwidth\": 2, \"linecolor\": \"white\", \"showbackground\": true, \"ticks\": \"\", \"zerolinecolor\": \"white\"}}, \"shapedefaults\": {\"line\": {\"color\": \"#2a3f5f\"}}, \"ternary\": {\"aaxis\": {\"gridcolor\": \"white\", \"linecolor\": \"white\", \"ticks\": \"\"}, \"baxis\": {\"gridcolor\": \"white\", \"linecolor\": \"white\", \"ticks\": \"\"}, \"bgcolor\": \"#E5ECF6\", \"caxis\": {\"gridcolor\": \"white\", \"linecolor\": \"white\", \"ticks\": \"\"}}, \"title\": {\"x\": 0.05}, \"xaxis\": {\"automargin\": true, \"gridcolor\": \"white\", \"linecolor\": \"white\", \"ticks\": \"\", \"title\": {\"standoff\": 15}, \"zerolinecolor\": \"white\", \"zerolinewidth\": 2}, \"yaxis\": {\"automargin\": true, \"gridcolor\": \"white\", \"linecolor\": \"white\", \"ticks\": \"\", \"title\": {\"standoff\": 15}, \"zerolinecolor\": \"white\", \"zerolinewidth\": 2}}}, \"title\": {\"text\": \"Processos finalizados\"}, \"xaxis\": {\"anchor\": \"y\", \"domain\": [0.0, 1.0], \"title\": {\"text\": \"Tribunal\"}}, \"yaxis\": {\"anchor\": \"x\", \"domain\": [0.0, 1.0], \"title\": {\"text\": \"N\\u00famero de processos\"}}},                        {\"responsive\": true}                    ).then(function(){\n",
       "                            \n",
       "var gd = document.getElementById('d2cbe7e9-c0ea-44a1-893e-f19eac7cf554');\n",
       "var x = new MutationObserver(function (mutations, observer) {{\n",
       "        var display = window.getComputedStyle(gd).display;\n",
       "        if (!display || display === 'none') {{\n",
       "            console.log([gd, 'removed!']);\n",
       "            Plotly.purge(gd);\n",
       "            observer.disconnect();\n",
       "        }}\n",
       "}});\n",
       "\n",
       "// Listen for the removal of the full notebook cells\n",
       "var notebookContainer = gd.closest('#notebook-container');\n",
       "if (notebookContainer) {{\n",
       "    x.observe(notebookContainer, {childList: true});\n",
       "}}\n",
       "\n",
       "// Listen for the clearing of the current output cell\n",
       "var outputEl = gd.closest('.output');\n",
       "if (outputEl) {{\n",
       "    x.observe(outputEl, {childList: true});\n",
       "}}\n",
       "\n",
       "                        })                };                });            </script>        </div>"
      ]
     },
     "metadata": {},
     "output_type": "display_data"
    }
   ],
   "source": [
    "closed_proc = df_moves[df_moves['descricao'] == 'Trânsito em julgado']['siglaTribunal'].value_counts().to_frame('count')\n",
    "fig = px.bar(x=closed_proc.index, y=closed_proc['count'])\n",
    "fig.update_layout(\n",
    "    title='Processos finalizados',\n",
    "    xaxis_title='Tribunal',\n",
    "    yaxis_title='Número de processos'\n",
    ")\n",
    "fig.show()"
   ]
  },
  {
   "cell_type": "code",
   "execution_count": 36,
   "metadata": {},
   "outputs": [
    {
     "data": {
      "application/vnd.plotly.v1+json": {
       "config": {
        "plotlyServerURL": "https://plot.ly"
       },
       "data": [
        {
         "alignmentgroup": "True",
         "hovertemplate": "x=%{x}<br>y=%{y}<extra></extra>",
         "legendgroup": "",
         "marker": {
          "color": "#636efa"
         },
         "name": "",
         "offsetgroup": "",
         "orientation": "v",
         "showlegend": false,
         "textposition": "auto",
         "type": "bar",
         "x": [
          "TJMG",
          "TJPR",
          "TJRJ"
         ],
         "xaxis": "x",
         "y": [
          12708,
          null,
          16831
         ],
         "yaxis": "y"
        }
       ],
       "layout": {
        "barmode": "relative",
        "legend": {
         "tracegroupgap": 0
        },
        "margin": {
         "t": 60
        },
        "template": {
         "data": {
          "bar": [
           {
            "error_x": {
             "color": "#2a3f5f"
            },
            "error_y": {
             "color": "#2a3f5f"
            },
            "marker": {
             "line": {
              "color": "#E5ECF6",
              "width": 0.5
             }
            },
            "type": "bar"
           }
          ],
          "barpolar": [
           {
            "marker": {
             "line": {
              "color": "#E5ECF6",
              "width": 0.5
             }
            },
            "type": "barpolar"
           }
          ],
          "carpet": [
           {
            "aaxis": {
             "endlinecolor": "#2a3f5f",
             "gridcolor": "white",
             "linecolor": "white",
             "minorgridcolor": "white",
             "startlinecolor": "#2a3f5f"
            },
            "baxis": {
             "endlinecolor": "#2a3f5f",
             "gridcolor": "white",
             "linecolor": "white",
             "minorgridcolor": "white",
             "startlinecolor": "#2a3f5f"
            },
            "type": "carpet"
           }
          ],
          "choropleth": [
           {
            "colorbar": {
             "outlinewidth": 0,
             "ticks": ""
            },
            "type": "choropleth"
           }
          ],
          "contour": [
           {
            "colorbar": {
             "outlinewidth": 0,
             "ticks": ""
            },
            "colorscale": [
             [
              0,
              "#0d0887"
             ],
             [
              0.1111111111111111,
              "#46039f"
             ],
             [
              0.2222222222222222,
              "#7201a8"
             ],
             [
              0.3333333333333333,
              "#9c179e"
             ],
             [
              0.4444444444444444,
              "#bd3786"
             ],
             [
              0.5555555555555556,
              "#d8576b"
             ],
             [
              0.6666666666666666,
              "#ed7953"
             ],
             [
              0.7777777777777778,
              "#fb9f3a"
             ],
             [
              0.8888888888888888,
              "#fdca26"
             ],
             [
              1,
              "#f0f921"
             ]
            ],
            "type": "contour"
           }
          ],
          "contourcarpet": [
           {
            "colorbar": {
             "outlinewidth": 0,
             "ticks": ""
            },
            "type": "contourcarpet"
           }
          ],
          "heatmap": [
           {
            "colorbar": {
             "outlinewidth": 0,
             "ticks": ""
            },
            "colorscale": [
             [
              0,
              "#0d0887"
             ],
             [
              0.1111111111111111,
              "#46039f"
             ],
             [
              0.2222222222222222,
              "#7201a8"
             ],
             [
              0.3333333333333333,
              "#9c179e"
             ],
             [
              0.4444444444444444,
              "#bd3786"
             ],
             [
              0.5555555555555556,
              "#d8576b"
             ],
             [
              0.6666666666666666,
              "#ed7953"
             ],
             [
              0.7777777777777778,
              "#fb9f3a"
             ],
             [
              0.8888888888888888,
              "#fdca26"
             ],
             [
              1,
              "#f0f921"
             ]
            ],
            "type": "heatmap"
           }
          ],
          "heatmapgl": [
           {
            "colorbar": {
             "outlinewidth": 0,
             "ticks": ""
            },
            "colorscale": [
             [
              0,
              "#0d0887"
             ],
             [
              0.1111111111111111,
              "#46039f"
             ],
             [
              0.2222222222222222,
              "#7201a8"
             ],
             [
              0.3333333333333333,
              "#9c179e"
             ],
             [
              0.4444444444444444,
              "#bd3786"
             ],
             [
              0.5555555555555556,
              "#d8576b"
             ],
             [
              0.6666666666666666,
              "#ed7953"
             ],
             [
              0.7777777777777778,
              "#fb9f3a"
             ],
             [
              0.8888888888888888,
              "#fdca26"
             ],
             [
              1,
              "#f0f921"
             ]
            ],
            "type": "heatmapgl"
           }
          ],
          "histogram": [
           {
            "marker": {
             "colorbar": {
              "outlinewidth": 0,
              "ticks": ""
             }
            },
            "type": "histogram"
           }
          ],
          "histogram2d": [
           {
            "colorbar": {
             "outlinewidth": 0,
             "ticks": ""
            },
            "colorscale": [
             [
              0,
              "#0d0887"
             ],
             [
              0.1111111111111111,
              "#46039f"
             ],
             [
              0.2222222222222222,
              "#7201a8"
             ],
             [
              0.3333333333333333,
              "#9c179e"
             ],
             [
              0.4444444444444444,
              "#bd3786"
             ],
             [
              0.5555555555555556,
              "#d8576b"
             ],
             [
              0.6666666666666666,
              "#ed7953"
             ],
             [
              0.7777777777777778,
              "#fb9f3a"
             ],
             [
              0.8888888888888888,
              "#fdca26"
             ],
             [
              1,
              "#f0f921"
             ]
            ],
            "type": "histogram2d"
           }
          ],
          "histogram2dcontour": [
           {
            "colorbar": {
             "outlinewidth": 0,
             "ticks": ""
            },
            "colorscale": [
             [
              0,
              "#0d0887"
             ],
             [
              0.1111111111111111,
              "#46039f"
             ],
             [
              0.2222222222222222,
              "#7201a8"
             ],
             [
              0.3333333333333333,
              "#9c179e"
             ],
             [
              0.4444444444444444,
              "#bd3786"
             ],
             [
              0.5555555555555556,
              "#d8576b"
             ],
             [
              0.6666666666666666,
              "#ed7953"
             ],
             [
              0.7777777777777778,
              "#fb9f3a"
             ],
             [
              0.8888888888888888,
              "#fdca26"
             ],
             [
              1,
              "#f0f921"
             ]
            ],
            "type": "histogram2dcontour"
           }
          ],
          "mesh3d": [
           {
            "colorbar": {
             "outlinewidth": 0,
             "ticks": ""
            },
            "type": "mesh3d"
           }
          ],
          "parcoords": [
           {
            "line": {
             "colorbar": {
              "outlinewidth": 0,
              "ticks": ""
             }
            },
            "type": "parcoords"
           }
          ],
          "pie": [
           {
            "automargin": true,
            "type": "pie"
           }
          ],
          "scatter": [
           {
            "marker": {
             "colorbar": {
              "outlinewidth": 0,
              "ticks": ""
             }
            },
            "type": "scatter"
           }
          ],
          "scatter3d": [
           {
            "line": {
             "colorbar": {
              "outlinewidth": 0,
              "ticks": ""
             }
            },
            "marker": {
             "colorbar": {
              "outlinewidth": 0,
              "ticks": ""
             }
            },
            "type": "scatter3d"
           }
          ],
          "scattercarpet": [
           {
            "marker": {
             "colorbar": {
              "outlinewidth": 0,
              "ticks": ""
             }
            },
            "type": "scattercarpet"
           }
          ],
          "scattergeo": [
           {
            "marker": {
             "colorbar": {
              "outlinewidth": 0,
              "ticks": ""
             }
            },
            "type": "scattergeo"
           }
          ],
          "scattergl": [
           {
            "marker": {
             "colorbar": {
              "outlinewidth": 0,
              "ticks": ""
             }
            },
            "type": "scattergl"
           }
          ],
          "scattermapbox": [
           {
            "marker": {
             "colorbar": {
              "outlinewidth": 0,
              "ticks": ""
             }
            },
            "type": "scattermapbox"
           }
          ],
          "scatterpolar": [
           {
            "marker": {
             "colorbar": {
              "outlinewidth": 0,
              "ticks": ""
             }
            },
            "type": "scatterpolar"
           }
          ],
          "scatterpolargl": [
           {
            "marker": {
             "colorbar": {
              "outlinewidth": 0,
              "ticks": ""
             }
            },
            "type": "scatterpolargl"
           }
          ],
          "scatterternary": [
           {
            "marker": {
             "colorbar": {
              "outlinewidth": 0,
              "ticks": ""
             }
            },
            "type": "scatterternary"
           }
          ],
          "surface": [
           {
            "colorbar": {
             "outlinewidth": 0,
             "ticks": ""
            },
            "colorscale": [
             [
              0,
              "#0d0887"
             ],
             [
              0.1111111111111111,
              "#46039f"
             ],
             [
              0.2222222222222222,
              "#7201a8"
             ],
             [
              0.3333333333333333,
              "#9c179e"
             ],
             [
              0.4444444444444444,
              "#bd3786"
             ],
             [
              0.5555555555555556,
              "#d8576b"
             ],
             [
              0.6666666666666666,
              "#ed7953"
             ],
             [
              0.7777777777777778,
              "#fb9f3a"
             ],
             [
              0.8888888888888888,
              "#fdca26"
             ],
             [
              1,
              "#f0f921"
             ]
            ],
            "type": "surface"
           }
          ],
          "table": [
           {
            "cells": {
             "fill": {
              "color": "#EBF0F8"
             },
             "line": {
              "color": "white"
             }
            },
            "header": {
             "fill": {
              "color": "#C8D4E3"
             },
             "line": {
              "color": "white"
             }
            },
            "type": "table"
           }
          ]
         },
         "layout": {
          "annotationdefaults": {
           "arrowcolor": "#2a3f5f",
           "arrowhead": 0,
           "arrowwidth": 1
          },
          "coloraxis": {
           "colorbar": {
            "outlinewidth": 0,
            "ticks": ""
           }
          },
          "colorscale": {
           "diverging": [
            [
             0,
             "#8e0152"
            ],
            [
             0.1,
             "#c51b7d"
            ],
            [
             0.2,
             "#de77ae"
            ],
            [
             0.3,
             "#f1b6da"
            ],
            [
             0.4,
             "#fde0ef"
            ],
            [
             0.5,
             "#f7f7f7"
            ],
            [
             0.6,
             "#e6f5d0"
            ],
            [
             0.7,
             "#b8e186"
            ],
            [
             0.8,
             "#7fbc41"
            ],
            [
             0.9,
             "#4d9221"
            ],
            [
             1,
             "#276419"
            ]
           ],
           "sequential": [
            [
             0,
             "#0d0887"
            ],
            [
             0.1111111111111111,
             "#46039f"
            ],
            [
             0.2222222222222222,
             "#7201a8"
            ],
            [
             0.3333333333333333,
             "#9c179e"
            ],
            [
             0.4444444444444444,
             "#bd3786"
            ],
            [
             0.5555555555555556,
             "#d8576b"
            ],
            [
             0.6666666666666666,
             "#ed7953"
            ],
            [
             0.7777777777777778,
             "#fb9f3a"
            ],
            [
             0.8888888888888888,
             "#fdca26"
            ],
            [
             1,
             "#f0f921"
            ]
           ],
           "sequentialminus": [
            [
             0,
             "#0d0887"
            ],
            [
             0.1111111111111111,
             "#46039f"
            ],
            [
             0.2222222222222222,
             "#7201a8"
            ],
            [
             0.3333333333333333,
             "#9c179e"
            ],
            [
             0.4444444444444444,
             "#bd3786"
            ],
            [
             0.5555555555555556,
             "#d8576b"
            ],
            [
             0.6666666666666666,
             "#ed7953"
            ],
            [
             0.7777777777777778,
             "#fb9f3a"
            ],
            [
             0.8888888888888888,
             "#fdca26"
            ],
            [
             1,
             "#f0f921"
            ]
           ]
          },
          "colorway": [
           "#636efa",
           "#EF553B",
           "#00cc96",
           "#ab63fa",
           "#FFA15A",
           "#19d3f3",
           "#FF6692",
           "#B6E880",
           "#FF97FF",
           "#FECB52"
          ],
          "font": {
           "color": "#2a3f5f"
          },
          "geo": {
           "bgcolor": "white",
           "lakecolor": "white",
           "landcolor": "#E5ECF6",
           "showlakes": true,
           "showland": true,
           "subunitcolor": "white"
          },
          "hoverlabel": {
           "align": "left"
          },
          "hovermode": "closest",
          "mapbox": {
           "style": "light"
          },
          "paper_bgcolor": "white",
          "plot_bgcolor": "#E5ECF6",
          "polar": {
           "angularaxis": {
            "gridcolor": "white",
            "linecolor": "white",
            "ticks": ""
           },
           "bgcolor": "#E5ECF6",
           "radialaxis": {
            "gridcolor": "white",
            "linecolor": "white",
            "ticks": ""
           }
          },
          "scene": {
           "xaxis": {
            "backgroundcolor": "#E5ECF6",
            "gridcolor": "white",
            "gridwidth": 2,
            "linecolor": "white",
            "showbackground": true,
            "ticks": "",
            "zerolinecolor": "white"
           },
           "yaxis": {
            "backgroundcolor": "#E5ECF6",
            "gridcolor": "white",
            "gridwidth": 2,
            "linecolor": "white",
            "showbackground": true,
            "ticks": "",
            "zerolinecolor": "white"
           },
           "zaxis": {
            "backgroundcolor": "#E5ECF6",
            "gridcolor": "white",
            "gridwidth": 2,
            "linecolor": "white",
            "showbackground": true,
            "ticks": "",
            "zerolinecolor": "white"
           }
          },
          "shapedefaults": {
           "line": {
            "color": "#2a3f5f"
           }
          },
          "ternary": {
           "aaxis": {
            "gridcolor": "white",
            "linecolor": "white",
            "ticks": ""
           },
           "baxis": {
            "gridcolor": "white",
            "linecolor": "white",
            "ticks": ""
           },
           "bgcolor": "#E5ECF6",
           "caxis": {
            "gridcolor": "white",
            "linecolor": "white",
            "ticks": ""
           }
          },
          "title": {
           "x": 0.05
          },
          "xaxis": {
           "automargin": true,
           "gridcolor": "white",
           "linecolor": "white",
           "ticks": "",
           "title": {
            "standoff": 15
           },
           "zerolinecolor": "white",
           "zerolinewidth": 2
          },
          "yaxis": {
           "automargin": true,
           "gridcolor": "white",
           "linecolor": "white",
           "ticks": "",
           "title": {
            "standoff": 15
           },
           "zerolinecolor": "white",
           "zerolinewidth": 2
          }
         }
        },
        "title": {
         "text": "Processos em aberto"
        },
        "xaxis": {
         "anchor": "y",
         "domain": [
          0,
          1
         ],
         "title": {
          "text": "Tribunal"
         }
        },
        "yaxis": {
         "anchor": "x",
         "domain": [
          0,
          1
         ],
         "title": {
          "text": "Número de processos"
         }
        }
       }
      },
      "text/html": [
       "<div>                            <div id=\"892dd3f4-6958-49ba-9a49-7b531e6cad29\" class=\"plotly-graph-div\" style=\"height:525px; width:100%;\"></div>            <script type=\"text/javascript\">                require([\"plotly\"], function(Plotly) {                    window.PLOTLYENV=window.PLOTLYENV || {};                                    if (document.getElementById(\"892dd3f4-6958-49ba-9a49-7b531e6cad29\")) {                    Plotly.newPlot(                        \"892dd3f4-6958-49ba-9a49-7b531e6cad29\",                        [{\"alignmentgroup\": \"True\", \"hovertemplate\": \"x=%{x}<br>y=%{y}<extra></extra>\", \"legendgroup\": \"\", \"marker\": {\"color\": \"#636efa\"}, \"name\": \"\", \"offsetgroup\": \"\", \"orientation\": \"v\", \"showlegend\": false, \"textposition\": \"auto\", \"type\": \"bar\", \"x\": [\"TJMG\", \"TJPR\", \"TJRJ\"], \"xaxis\": \"x\", \"y\": [12708.0, null, 16831.0], \"yaxis\": \"y\"}],                        {\"barmode\": \"relative\", \"legend\": {\"tracegroupgap\": 0}, \"margin\": {\"t\": 60}, \"template\": {\"data\": {\"bar\": [{\"error_x\": {\"color\": \"#2a3f5f\"}, \"error_y\": {\"color\": \"#2a3f5f\"}, \"marker\": {\"line\": {\"color\": \"#E5ECF6\", \"width\": 0.5}}, \"type\": \"bar\"}], \"barpolar\": [{\"marker\": {\"line\": {\"color\": \"#E5ECF6\", \"width\": 0.5}}, \"type\": \"barpolar\"}], \"carpet\": [{\"aaxis\": {\"endlinecolor\": \"#2a3f5f\", \"gridcolor\": \"white\", \"linecolor\": \"white\", \"minorgridcolor\": \"white\", \"startlinecolor\": \"#2a3f5f\"}, \"baxis\": {\"endlinecolor\": \"#2a3f5f\", \"gridcolor\": \"white\", \"linecolor\": \"white\", \"minorgridcolor\": \"white\", \"startlinecolor\": \"#2a3f5f\"}, \"type\": \"carpet\"}], \"choropleth\": [{\"colorbar\": {\"outlinewidth\": 0, \"ticks\": \"\"}, \"type\": \"choropleth\"}], \"contour\": [{\"colorbar\": {\"outlinewidth\": 0, \"ticks\": \"\"}, \"colorscale\": [[0.0, \"#0d0887\"], [0.1111111111111111, \"#46039f\"], [0.2222222222222222, \"#7201a8\"], [0.3333333333333333, \"#9c179e\"], [0.4444444444444444, \"#bd3786\"], [0.5555555555555556, \"#d8576b\"], [0.6666666666666666, \"#ed7953\"], [0.7777777777777778, \"#fb9f3a\"], [0.8888888888888888, \"#fdca26\"], [1.0, \"#f0f921\"]], \"type\": \"contour\"}], \"contourcarpet\": [{\"colorbar\": {\"outlinewidth\": 0, \"ticks\": \"\"}, \"type\": \"contourcarpet\"}], \"heatmap\": [{\"colorbar\": {\"outlinewidth\": 0, \"ticks\": \"\"}, \"colorscale\": [[0.0, \"#0d0887\"], [0.1111111111111111, \"#46039f\"], [0.2222222222222222, \"#7201a8\"], [0.3333333333333333, \"#9c179e\"], [0.4444444444444444, \"#bd3786\"], [0.5555555555555556, \"#d8576b\"], [0.6666666666666666, \"#ed7953\"], [0.7777777777777778, \"#fb9f3a\"], [0.8888888888888888, \"#fdca26\"], [1.0, \"#f0f921\"]], \"type\": \"heatmap\"}], \"heatmapgl\": [{\"colorbar\": {\"outlinewidth\": 0, \"ticks\": \"\"}, \"colorscale\": [[0.0, \"#0d0887\"], [0.1111111111111111, \"#46039f\"], [0.2222222222222222, \"#7201a8\"], [0.3333333333333333, \"#9c179e\"], [0.4444444444444444, \"#bd3786\"], [0.5555555555555556, \"#d8576b\"], [0.6666666666666666, \"#ed7953\"], [0.7777777777777778, \"#fb9f3a\"], [0.8888888888888888, \"#fdca26\"], [1.0, \"#f0f921\"]], \"type\": \"heatmapgl\"}], \"histogram\": [{\"marker\": {\"colorbar\": {\"outlinewidth\": 0, \"ticks\": \"\"}}, \"type\": \"histogram\"}], \"histogram2d\": [{\"colorbar\": {\"outlinewidth\": 0, \"ticks\": \"\"}, \"colorscale\": [[0.0, \"#0d0887\"], [0.1111111111111111, \"#46039f\"], [0.2222222222222222, \"#7201a8\"], [0.3333333333333333, \"#9c179e\"], [0.4444444444444444, \"#bd3786\"], [0.5555555555555556, \"#d8576b\"], [0.6666666666666666, \"#ed7953\"], [0.7777777777777778, \"#fb9f3a\"], [0.8888888888888888, \"#fdca26\"], [1.0, \"#f0f921\"]], \"type\": \"histogram2d\"}], \"histogram2dcontour\": [{\"colorbar\": {\"outlinewidth\": 0, \"ticks\": \"\"}, \"colorscale\": [[0.0, \"#0d0887\"], [0.1111111111111111, \"#46039f\"], [0.2222222222222222, \"#7201a8\"], [0.3333333333333333, \"#9c179e\"], [0.4444444444444444, \"#bd3786\"], [0.5555555555555556, \"#d8576b\"], [0.6666666666666666, \"#ed7953\"], [0.7777777777777778, \"#fb9f3a\"], [0.8888888888888888, \"#fdca26\"], [1.0, \"#f0f921\"]], \"type\": \"histogram2dcontour\"}], \"mesh3d\": [{\"colorbar\": {\"outlinewidth\": 0, \"ticks\": \"\"}, \"type\": \"mesh3d\"}], \"parcoords\": [{\"line\": {\"colorbar\": {\"outlinewidth\": 0, \"ticks\": \"\"}}, \"type\": \"parcoords\"}], \"pie\": [{\"automargin\": true, \"type\": \"pie\"}], \"scatter\": [{\"marker\": {\"colorbar\": {\"outlinewidth\": 0, \"ticks\": \"\"}}, \"type\": \"scatter\"}], \"scatter3d\": [{\"line\": {\"colorbar\": {\"outlinewidth\": 0, \"ticks\": \"\"}}, \"marker\": {\"colorbar\": {\"outlinewidth\": 0, \"ticks\": \"\"}}, \"type\": \"scatter3d\"}], \"scattercarpet\": [{\"marker\": {\"colorbar\": {\"outlinewidth\": 0, \"ticks\": \"\"}}, \"type\": \"scattercarpet\"}], \"scattergeo\": [{\"marker\": {\"colorbar\": {\"outlinewidth\": 0, \"ticks\": \"\"}}, \"type\": \"scattergeo\"}], \"scattergl\": [{\"marker\": {\"colorbar\": {\"outlinewidth\": 0, \"ticks\": \"\"}}, \"type\": \"scattergl\"}], \"scattermapbox\": [{\"marker\": {\"colorbar\": {\"outlinewidth\": 0, \"ticks\": \"\"}}, \"type\": \"scattermapbox\"}], \"scatterpolar\": [{\"marker\": {\"colorbar\": {\"outlinewidth\": 0, \"ticks\": \"\"}}, \"type\": \"scatterpolar\"}], \"scatterpolargl\": [{\"marker\": {\"colorbar\": {\"outlinewidth\": 0, \"ticks\": \"\"}}, \"type\": \"scatterpolargl\"}], \"scatterternary\": [{\"marker\": {\"colorbar\": {\"outlinewidth\": 0, \"ticks\": \"\"}}, \"type\": \"scatterternary\"}], \"surface\": [{\"colorbar\": {\"outlinewidth\": 0, \"ticks\": \"\"}, \"colorscale\": [[0.0, \"#0d0887\"], [0.1111111111111111, \"#46039f\"], [0.2222222222222222, \"#7201a8\"], [0.3333333333333333, \"#9c179e\"], [0.4444444444444444, \"#bd3786\"], [0.5555555555555556, \"#d8576b\"], [0.6666666666666666, \"#ed7953\"], [0.7777777777777778, \"#fb9f3a\"], [0.8888888888888888, \"#fdca26\"], [1.0, \"#f0f921\"]], \"type\": \"surface\"}], \"table\": [{\"cells\": {\"fill\": {\"color\": \"#EBF0F8\"}, \"line\": {\"color\": \"white\"}}, \"header\": {\"fill\": {\"color\": \"#C8D4E3\"}, \"line\": {\"color\": \"white\"}}, \"type\": \"table\"}]}, \"layout\": {\"annotationdefaults\": {\"arrowcolor\": \"#2a3f5f\", \"arrowhead\": 0, \"arrowwidth\": 1}, \"coloraxis\": {\"colorbar\": {\"outlinewidth\": 0, \"ticks\": \"\"}}, \"colorscale\": {\"diverging\": [[0, \"#8e0152\"], [0.1, \"#c51b7d\"], [0.2, \"#de77ae\"], [0.3, \"#f1b6da\"], [0.4, \"#fde0ef\"], [0.5, \"#f7f7f7\"], [0.6, \"#e6f5d0\"], [0.7, \"#b8e186\"], [0.8, \"#7fbc41\"], [0.9, \"#4d9221\"], [1, \"#276419\"]], \"sequential\": [[0.0, \"#0d0887\"], [0.1111111111111111, \"#46039f\"], [0.2222222222222222, \"#7201a8\"], [0.3333333333333333, \"#9c179e\"], [0.4444444444444444, \"#bd3786\"], [0.5555555555555556, \"#d8576b\"], [0.6666666666666666, \"#ed7953\"], [0.7777777777777778, \"#fb9f3a\"], [0.8888888888888888, \"#fdca26\"], [1.0, \"#f0f921\"]], \"sequentialminus\": [[0.0, \"#0d0887\"], [0.1111111111111111, \"#46039f\"], [0.2222222222222222, \"#7201a8\"], [0.3333333333333333, \"#9c179e\"], [0.4444444444444444, \"#bd3786\"], [0.5555555555555556, \"#d8576b\"], [0.6666666666666666, \"#ed7953\"], [0.7777777777777778, \"#fb9f3a\"], [0.8888888888888888, \"#fdca26\"], [1.0, \"#f0f921\"]]}, \"colorway\": [\"#636efa\", \"#EF553B\", \"#00cc96\", \"#ab63fa\", \"#FFA15A\", \"#19d3f3\", \"#FF6692\", \"#B6E880\", \"#FF97FF\", \"#FECB52\"], \"font\": {\"color\": \"#2a3f5f\"}, \"geo\": {\"bgcolor\": \"white\", \"lakecolor\": \"white\", \"landcolor\": \"#E5ECF6\", \"showlakes\": true, \"showland\": true, \"subunitcolor\": \"white\"}, \"hoverlabel\": {\"align\": \"left\"}, \"hovermode\": \"closest\", \"mapbox\": {\"style\": \"light\"}, \"paper_bgcolor\": \"white\", \"plot_bgcolor\": \"#E5ECF6\", \"polar\": {\"angularaxis\": {\"gridcolor\": \"white\", \"linecolor\": \"white\", \"ticks\": \"\"}, \"bgcolor\": \"#E5ECF6\", \"radialaxis\": {\"gridcolor\": \"white\", \"linecolor\": \"white\", \"ticks\": \"\"}}, \"scene\": {\"xaxis\": {\"backgroundcolor\": \"#E5ECF6\", \"gridcolor\": \"white\", \"gridwidth\": 2, \"linecolor\": \"white\", \"showbackground\": true, \"ticks\": \"\", \"zerolinecolor\": \"white\"}, \"yaxis\": {\"backgroundcolor\": \"#E5ECF6\", \"gridcolor\": \"white\", \"gridwidth\": 2, \"linecolor\": \"white\", \"showbackground\": true, \"ticks\": \"\", \"zerolinecolor\": \"white\"}, \"zaxis\": {\"backgroundcolor\": \"#E5ECF6\", \"gridcolor\": \"white\", \"gridwidth\": 2, \"linecolor\": \"white\", \"showbackground\": true, \"ticks\": \"\", \"zerolinecolor\": \"white\"}}, \"shapedefaults\": {\"line\": {\"color\": \"#2a3f5f\"}}, \"ternary\": {\"aaxis\": {\"gridcolor\": \"white\", \"linecolor\": \"white\", \"ticks\": \"\"}, \"baxis\": {\"gridcolor\": \"white\", \"linecolor\": \"white\", \"ticks\": \"\"}, \"bgcolor\": \"#E5ECF6\", \"caxis\": {\"gridcolor\": \"white\", \"linecolor\": \"white\", \"ticks\": \"\"}}, \"title\": {\"x\": 0.05}, \"xaxis\": {\"automargin\": true, \"gridcolor\": \"white\", \"linecolor\": \"white\", \"ticks\": \"\", \"title\": {\"standoff\": 15}, \"zerolinecolor\": \"white\", \"zerolinewidth\": 2}, \"yaxis\": {\"automargin\": true, \"gridcolor\": \"white\", \"linecolor\": \"white\", \"ticks\": \"\", \"title\": {\"standoff\": 15}, \"zerolinecolor\": \"white\", \"zerolinewidth\": 2}}}, \"title\": {\"text\": \"Processos em aberto\"}, \"xaxis\": {\"anchor\": \"y\", \"domain\": [0.0, 1.0], \"title\": {\"text\": \"Tribunal\"}}, \"yaxis\": {\"anchor\": \"x\", \"domain\": [0.0, 1.0], \"title\": {\"text\": \"N\\u00famero de processos\"}}},                        {\"responsive\": true}                    ).then(function(){\n",
       "                            \n",
       "var gd = document.getElementById('892dd3f4-6958-49ba-9a49-7b531e6cad29');\n",
       "var x = new MutationObserver(function (mutations, observer) {{\n",
       "        var display = window.getComputedStyle(gd).display;\n",
       "        if (!display || display === 'none') {{\n",
       "            console.log([gd, 'removed!']);\n",
       "            Plotly.purge(gd);\n",
       "            observer.disconnect();\n",
       "        }}\n",
       "}});\n",
       "\n",
       "// Listen for the removal of the full notebook cells\n",
       "var notebookContainer = gd.closest('#notebook-container');\n",
       "if (notebookContainer) {{\n",
       "    x.observe(notebookContainer, {childList: true});\n",
       "}}\n",
       "\n",
       "// Listen for the clearing of the current output cell\n",
       "var outputEl = gd.closest('.output');\n",
       "if (outputEl) {{\n",
       "    x.observe(outputEl, {childList: true});\n",
       "}}\n",
       "\n",
       "                        })                };                });            </script>        </div>"
      ]
     },
     "metadata": {},
     "output_type": "display_data"
    }
   ],
   "source": [
    "open_proc = total_proc - closed_proc\n",
    "fig = px.bar(x=open_proc.index, y=open_proc['count'])\n",
    "fig.update_layout(\n",
    "    title='Processos em aberto',\n",
    "    xaxis_title='Tribunal',\n",
    "    yaxis_title='Número de processos'\n",
    ")\n",
    "fig.show()"
   ]
  },
  {
   "cell_type": "code",
   "execution_count": null,
   "metadata": {},
   "outputs": [],
   "source": []
  }
 ],
 "metadata": {
  "hide_input": false,
  "kernelspec": {
   "display_name": "Python 3",
   "language": "python",
   "name": "python3"
  },
  "language_info": {
   "codemirror_mode": {
    "name": "ipython",
    "version": 3
   },
   "file_extension": ".py",
   "mimetype": "text/x-python",
   "name": "python",
   "nbconvert_exporter": "python",
   "pygments_lexer": "ipython3",
   "version": "3.8.5"
  },
  "toc": {
   "base_numbering": 1,
   "nav_menu": {},
   "number_sections": true,
   "sideBar": true,
   "skip_h1_title": false,
   "title_cell": "Table of Contents",
   "title_sidebar": "Contents",
   "toc_cell": false,
   "toc_position": {},
   "toc_section_display": true,
   "toc_window_display": true
  }
 },
 "nbformat": 4,
 "nbformat_minor": 4
}
